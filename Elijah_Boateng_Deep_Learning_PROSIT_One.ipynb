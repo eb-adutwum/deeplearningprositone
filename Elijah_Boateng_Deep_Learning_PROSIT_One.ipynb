{
  "nbformat": 4,
  "nbformat_minor": 0,
  "metadata": {
    "colab": {
      "provenance": [],
      "collapsed_sections": [
        "ceM60hZ5G-aN",
        "IggsWEoLHcGe",
        "i2M6Pur5HQsp",
        "oljX2BtWmnlc",
        "DcewYTBfQUub"
      ],
      "authorship_tag": "ABX9TyNENI+gA/IxxqAeGlxX+jww",
      "include_colab_link": true
    },
    "kernelspec": {
      "name": "python3",
      "display_name": "Python 3"
    },
    "language_info": {
      "name": "python"
    }
  },
  "cells": [
    {
      "cell_type": "markdown",
      "metadata": {
        "id": "view-in-github",
        "colab_type": "text"
      },
      "source": [
        "<a href=\"https://colab.research.google.com/github/eb-adutwum/deeplearningprositone/blob/main/Elijah_Boateng_Deep_Learning_PROSIT_One.ipynb\" target=\"_parent\"><img src=\"https://colab.research.google.com/assets/colab-badge.svg\" alt=\"Open In Colab\"/></a>"
      ]
    },
    {
      "cell_type": "code",
      "source": [
        "import os\n",
        "import numpy as np\n",
        "import matplotlib.pyplot as plt\n",
        "from google.colab import files, drive\n",
        "from collections import defaultdict\n",
        "\n",
        "import torch\n",
        "import torchvision.transforms as transforms\n",
        "\n",
        "from torchvision.datasets import ImageFolder\n",
        "from torch.utils.data import DataLoader, Subset, random_split, ConcatDataset, Dataset, TensorDataset\n",
        "\n",
        "import torch.nn as nn\n",
        "import torch.nn.functional as F"
      ],
      "metadata": {
        "id": "PHEO7YbgD1Lo"
      },
      "execution_count": 107,
      "outputs": []
    },
    {
      "cell_type": "code",
      "source": [
        "drive.mount('/content/drive')"
      ],
      "metadata": {
        "colab": {
          "base_uri": "https://localhost:8080/"
        },
        "collapsed": true,
        "id": "kDHFAHRW_HFU",
        "outputId": "0a6d1eb1-ad4b-415d-fb4c-d956383c337e"
      },
      "execution_count": 3,
      "outputs": [
        {
          "output_type": "stream",
          "name": "stdout",
          "text": [
            "Mounted at /content/drive\n"
          ]
        }
      ]
    },
    {
      "cell_type": "markdown",
      "source": [
        "# Getting the Dataset"
      ],
      "metadata": {
        "id": "ceM60hZ5G-aN"
      }
    },
    {
      "cell_type": "markdown",
      "source": [
        "## Downloading and moving to the cloud"
      ],
      "metadata": {
        "id": "IggsWEoLHcGe"
      }
    },
    {
      "cell_type": "code",
      "execution_count": 4,
      "metadata": {
        "id": "VtGeEYhwRYIn",
        "collapsed": true
      },
      "outputs": [],
      "source": [
        "# files.upload() # kaggle api token"
      ]
    },
    {
      "cell_type": "code",
      "source": [
        "# !mkdir -p ~/.kaggle\n",
        "# !cp kaggle.json ~/.kaggle/\n",
        "# !chmod 600 ~/.kaggle/kaggle.json"
      ],
      "metadata": {
        "id": "TVNbDbam_AU4"
      },
      "execution_count": 5,
      "outputs": []
    },
    {
      "cell_type": "code",
      "source": [
        "# !mkdir -p /content/drive/MyDrive/KaggleData/CINIC10"
      ],
      "metadata": {
        "id": "XlkhDMaz_Wa6"
      },
      "execution_count": 6,
      "outputs": []
    },
    {
      "cell_type": "code",
      "source": [
        "# !kaggle datasets download -d mengcius/cinic10 -p /content/drive/MyDrive/KaggleData/CINIC10\n"
      ],
      "metadata": {
        "collapsed": true,
        "id": "p3ePBH73_uPs"
      },
      "execution_count": 7,
      "outputs": []
    },
    {
      "cell_type": "code",
      "source": [
        "# !unzip /content/drive/MyDrive/KaggleData/CINIC10/cinic10.zip -d /content/drive/MyDrive/KaggleData/CINIC10"
      ],
      "metadata": {
        "collapsed": true,
        "id": "vGoA4S94_xk9"
      },
      "execution_count": 8,
      "outputs": []
    },
    {
      "cell_type": "markdown",
      "source": [
        "## Verifying data upload"
      ],
      "metadata": {
        "id": "i2M6Pur5HQsp"
      }
    },
    {
      "cell_type": "code",
      "source": [
        "dataset = '/content/drive/MyDrive/KaggleData/CINIC10'"
      ],
      "metadata": {
        "id": "yVKYKz0U_rKG"
      },
      "execution_count": 109,
      "outputs": []
    },
    {
      "cell_type": "code",
      "metadata": {
        "id": "b6c4243f"
      },
      "source": [
        "def count_files_and_folders(path):\n",
        "    total_files = 0\n",
        "    total_folders = 0\n",
        "    print(f\"{path}/\")\n",
        "    for root, dirs, files in os.walk(path):\n",
        "        level = root.replace(path, '').count(os.sep)\n",
        "\n",
        "        indent = ' ' * 4 * (level)\n",
        "        print(f'{indent}|-- {os.path.basename(root)}/')\n",
        "\n",
        "        subindent = ' ' * 4 * (level + 1)\n",
        "        print(f'{subindent}|-- Folders: {len(dirs)}')\n",
        "        print(f'{subindent}|-- Files: {len(files)}')\n",
        "        total_files += len(files)\n",
        "        total_folders += len(dirs)\n",
        "    print(f\"\\nTotal Folders: {total_folders}\")\n",
        "    print(f\"Total Files: {total_files}\")"
      ],
      "execution_count": 10,
      "outputs": []
    },
    {
      "cell_type": "code",
      "source": [
        "count_files_and_folders(dataset)"
      ],
      "metadata": {
        "colab": {
          "base_uri": "https://localhost:8080/"
        },
        "collapsed": true,
        "id": "_8NfXVJCAAX2",
        "outputId": "4d86308e-13c0-4ea0-bc2a-d2d2bcc22a59"
      },
      "execution_count": 11,
      "outputs": [
        {
          "output_type": "stream",
          "name": "stdout",
          "text": [
            "/content/drive/MyDrive/KaggleData/CINIC10/\n",
            "|-- CINIC10/\n",
            "    |-- Folders: 3\n",
            "    |-- Files: 4\n",
            "    |-- test/\n",
            "        |-- Folders: 10\n",
            "        |-- Files: 0\n",
            "        |-- airplane/\n",
            "            |-- Folders: 0\n",
            "            |-- Files: 9000\n",
            "        |-- automobile/\n",
            "            |-- Folders: 0\n",
            "            |-- Files: 9000\n",
            "        |-- bird/\n",
            "            |-- Folders: 0\n",
            "            |-- Files: 9000\n",
            "        |-- cat/\n",
            "            |-- Folders: 0\n",
            "            |-- Files: 9000\n",
            "        |-- deer/\n",
            "            |-- Folders: 0\n",
            "            |-- Files: 9000\n",
            "        |-- dog/\n",
            "            |-- Folders: 0\n",
            "            |-- Files: 9000\n",
            "        |-- frog/\n",
            "            |-- Folders: 0\n",
            "            |-- Files: 9000\n",
            "        |-- horse/\n",
            "            |-- Folders: 0\n",
            "            |-- Files: 9000\n",
            "        |-- ship/\n",
            "            |-- Folders: 0\n",
            "            |-- Files: 9000\n",
            "        |-- truck/\n",
            "            |-- Folders: 0\n",
            "            |-- Files: 9000\n",
            "    |-- train/\n",
            "        |-- Folders: 10\n",
            "        |-- Files: 0\n",
            "        |-- airplane/\n",
            "            |-- Folders: 0\n",
            "            |-- Files: 9000\n",
            "        |-- automobile/\n",
            "            |-- Folders: 0\n",
            "            |-- Files: 9000\n",
            "        |-- bird/\n",
            "            |-- Folders: 0\n",
            "            |-- Files: 9000\n",
            "        |-- cat/\n",
            "            |-- Folders: 0\n",
            "            |-- Files: 9000\n",
            "        |-- deer/\n",
            "            |-- Folders: 0\n",
            "            |-- Files: 9000\n",
            "        |-- dog/\n",
            "            |-- Folders: 0\n",
            "            |-- Files: 9000\n",
            "        |-- frog/\n",
            "            |-- Folders: 0\n",
            "            |-- Files: 9000\n",
            "        |-- horse/\n",
            "            |-- Folders: 0\n",
            "            |-- Files: 9000\n",
            "        |-- ship/\n",
            "            |-- Folders: 0\n",
            "            |-- Files: 9000\n",
            "        |-- truck/\n",
            "            |-- Folders: 0\n",
            "            |-- Files: 9000\n",
            "    |-- valid/\n",
            "        |-- Folders: 10\n",
            "        |-- Files: 0\n",
            "        |-- airplane/\n",
            "            |-- Folders: 0\n",
            "            |-- Files: 9000\n",
            "        |-- automobile/\n",
            "            |-- Folders: 0\n",
            "            |-- Files: 9000\n",
            "        |-- bird/\n",
            "            |-- Folders: 0\n",
            "            |-- Files: 9000\n",
            "        |-- cat/\n",
            "            |-- Folders: 0\n",
            "            |-- Files: 9000\n",
            "        |-- deer/\n",
            "            |-- Folders: 0\n",
            "            |-- Files: 9000\n",
            "        |-- dog/\n",
            "            |-- Folders: 0\n",
            "            |-- Files: 9000\n",
            "        |-- frog/\n",
            "            |-- Folders: 0\n",
            "            |-- Files: 9000\n",
            "        |-- horse/\n",
            "            |-- Folders: 0\n",
            "            |-- Files: 9000\n",
            "        |-- ship/\n",
            "            |-- Folders: 0\n",
            "            |-- Files: 9000\n",
            "        |-- truck/\n",
            "            |-- Folders: 0\n",
            "            |-- Files: 9000\n",
            "\n",
            "Total Folders: 33\n",
            "Total Files: 270004\n"
          ]
        }
      ]
    },
    {
      "cell_type": "markdown",
      "source": [
        "# Data Preprocessing"
      ],
      "metadata": {
        "id": "C7FEuQXnII-J"
      }
    },
    {
      "cell_type": "markdown",
      "source": [
        "## Transforms for normaization\n"
      ],
      "metadata": {
        "id": "oljX2BtWmnlc"
      }
    },
    {
      "cell_type": "code",
      "source": [
        "transform = transforms.Compose([\n",
        "    transforms.Resize((32, 32)),          # Ensure all images are 32x32\n",
        "    transforms.ToTensor(),                # Convert to tensor [0,1]\n",
        "    transforms.Normalize(\n",
        "        mean=[0.4789, 0.4723, 0.4305],    # Training set stats\n",
        "        std=[0.2421, 0.2383, 0.2587]\n",
        "    ),\n",
        "    transforms.Lambda(lambda x: x.view(-1))  # Flatten (3,32,32) -> (3072,)\n",
        "])"
      ],
      "metadata": {
        "id": "1hb_R3QkIRRB"
      },
      "execution_count": 110,
      "outputs": []
    },
    {
      "cell_type": "markdown",
      "source": [
        "## Loading the data"
      ],
      "metadata": {
        "id": "Scgu-jl5nBKr"
      }
    },
    {
      "cell_type": "code",
      "source": [
        "train_data = ImageFolder(\"/content/drive/MyDrive/KaggleData/CINIC10/train\",\n",
        "                         transform=transform)\n",
        "val_data   = ImageFolder(\"/content/drive/MyDrive/KaggleData/CINIC10/valid\",\n",
        "                         transform=transform)\n",
        "test_data  = ImageFolder(\"/content/drive/MyDrive/KaggleData/CINIC10/test\",\n",
        "                         transform=transform)"
      ],
      "metadata": {
        "id": "Trx_pUIPmbY4"
      },
      "execution_count": 111,
      "outputs": []
    },
    {
      "cell_type": "markdown",
      "source": [
        "### Sampling from each class"
      ],
      "metadata": {
        "id": "6FdYCTcr_kAx"
      }
    },
    {
      "cell_type": "code",
      "source": [
        "def balanced_subset(dataset, fraction=0.10):\n",
        "    labels = np.array(dataset.targets)   # class labels from ImageFolder\n",
        "    indices_by_class = defaultdict(list)\n",
        "\n",
        "    # group indices by class\n",
        "    for idx, label in enumerate(labels):\n",
        "        indices_by_class[label].append(idx)\n",
        "\n",
        "    # sample same fraction per class\n",
        "    sampled_indices = []\n",
        "    for cls, idxs in indices_by_class.items():\n",
        "        n_samples = int(len(idxs) * fraction)\n",
        "        sampled = np.random.choice(idxs, n_samples, replace=False)\n",
        "        sampled_indices.extend(sampled)\n",
        "\n",
        "    return Subset(dataset, sampled_indices)\n"
      ],
      "metadata": {
        "id": "0BlNmZhPnGhk"
      },
      "execution_count": 112,
      "outputs": []
    },
    {
      "cell_type": "code",
      "source": [
        "# getting the splits\n",
        "train_small = balanced_subset(train_data, 0.15)\n",
        "val_small   = balanced_subset(val_data, 0.15)\n",
        "test_small  = balanced_subset(test_data, 0.15)"
      ],
      "metadata": {
        "id": "d2C3_JFunQtx"
      },
      "execution_count": 113,
      "outputs": []
    },
    {
      "cell_type": "code",
      "source": [
        "print(\"Full dataset sizes:\")\n",
        "print(\"Train:\", len(train_data))\n",
        "print(\"Valid:\", len(val_data))\n",
        "print(\"Test:\", len(test_data))\n",
        "\n",
        "print(\"\\nSampled dataset sizes\")\n",
        "print(\"Train small:\", len(train_small))\n",
        "print(\"Valid small:\", len(val_small))\n",
        "print(\"Test small:\", len(test_small))\n"
      ],
      "metadata": {
        "colab": {
          "base_uri": "https://localhost:8080/"
        },
        "id": "MiPS7evKER5w",
        "outputId": "6300ddf3-53f3-4831-a1cc-8f99629cde63"
      },
      "execution_count": 114,
      "outputs": [
        {
          "output_type": "stream",
          "name": "stdout",
          "text": [
            "Full dataset sizes:\n",
            "Train: 90000\n",
            "Valid: 90000\n",
            "Test: 90000\n",
            "\n",
            "Sampled dataset sizes\n",
            "Train small: 13500\n",
            "Valid small: 13500\n",
            "Test small: 13500\n"
          ]
        }
      ]
    },
    {
      "cell_type": "markdown",
      "source": [
        "### Setting dataloaders for each set"
      ],
      "metadata": {
        "id": "HOPXGyYjnPiy"
      }
    },
    {
      "cell_type": "code",
      "source": [
        "train_loader = DataLoader(train_small, batch_size=64, shuffle=True, num_workers=2)\n",
        "val_loader   = DataLoader(val_small, batch_size=64, shuffle=False, num_workers=2)\n",
        "test_loader  = DataLoader(test_small, batch_size=64, shuffle=False, num_workers=2)"
      ],
      "metadata": {
        "id": "g1cMx8hzm_ZS"
      },
      "execution_count": 29,
      "outputs": []
    },
    {
      "cell_type": "markdown",
      "source": [
        "### View sample images"
      ],
      "metadata": {
        "id": "apFDv1tXTQn0"
      }
    },
    {
      "cell_type": "code",
      "source": [
        "def imshow(img, mean=[0.4789, 0.4723, 0.4305], std=[0.2421, 0.2383, 0.2587]):\n",
        "    # Ensure the image is in the correct shape (C, H, W) before transposing\n",
        "    if img.ndim == 1: # If flattened, reshape\n",
        "        img = img.view(3, 32, 32)\n",
        "    img = img.numpy().transpose((1, 2, 0))   # CxHxW -> HxWxC\n",
        "    img = std * img + mean                   # Unnormalize\n",
        "    img = np.clip(img, 0, 1)                 # Clamp between [0,1]\n",
        "    plt.imshow(img)\n",
        "    plt.axis(\"off\")"
      ],
      "metadata": {
        "colab": {
          "base_uri": "https://localhost:8080/",
          "height": 139
        },
        "id": "FWIOY5hRG5-M",
        "outputId": "b0e04723-88a4-40a4-8f08-a8b1346d399d"
      },
      "execution_count": 21,
      "outputs": [
        {
          "output_type": "display_data",
          "data": {
            "text/plain": [
              "<Figure size 600x200 with 5 Axes>"
            ],
            "image/png": "[encoded data removed]"
          },
          "metadata": {}
        }
      ]
    },
    {
      "cell_type": "code",
      "source": [
        "# Take a batch from train loader\n",
        "dataiter = iter(train_loader)\n",
        "images, labels = next(dataiter)\n",
        "\n",
        "# Show first 5 images\n",
        "plt.figure(figsize=(10, 2))\n",
        "for i in range(5):\n",
        "    plt.subplot(1, 5, i+1)\n",
        "    imshow(images[i])  # Pass the tensor directly\n",
        "    plt.title(labels[i].item())\n",
        "plt.show()"
      ],
      "metadata": {
        "id": "PUayndHUvh3K"
      },
      "execution_count": null,
      "outputs": []
    },
    {
      "cell_type": "markdown",
      "source": [
        "# Deep feed forward network"
      ],
      "metadata": {
        "id": "no-HVHP2Tc14"
      }
    },
    {
      "cell_type": "markdown",
      "source": [
        "## Training"
      ],
      "metadata": {
        "id": "Y7A0n6vQXFIP"
      }
    },
    {
      "cell_type": "code",
      "source": [
        "def train(model, num_epochs=10):\n",
        "    train_losses = []\n",
        "\n",
        "    for epoch in range(num_epochs):\n",
        "      model.train()\n",
        "      running_loss = 0.0\n",
        "\n",
        "      for i, (images, labels) in enumerate(train_loader, 1):\n",
        "\n",
        "          # clear gradients\n",
        "          optimizer.zero_grad()\n",
        "\n",
        "          # get outputs\n",
        "          outputs = model.forward_net(images)\n",
        "\n",
        "          # calculate loss and do backprop\n",
        "          loss = criterion(outputs, labels)\n",
        "          loss.backward()\n",
        "\n",
        "          # update weights\n",
        "          optimizer.step()\n",
        "\n",
        "          running_loss += loss.item()\n",
        "\n",
        "          if i % 10 == 0:\n",
        "            avg_loss = running_loss / 10\n",
        "            print(f\"Epoch [{epoch+1}/{num_epochs}], Batch [{i}/{len(train_loader)}], Loss: {avg_loss:.4f}\")\n",
        "            train_losses.append(avg_loss)\n",
        "            running_loss = 0.0\n",
        "\n",
        "      # Validation\n",
        "      model.eval()\n",
        "      correct, total = 0, 0\n",
        "\n",
        "      with torch.no_grad():\n",
        "        for images, labels in val_loader:\n",
        "          outputs = model.forward_net(images)\n",
        "          _, predicted = torch.max(outputs, 1)\n",
        "          total += labels.size(0)\n",
        "          correct += (predicted == labels).sum().item()\n",
        "      print(f\"Epoch {epoch+1}, Loss: {loss.item():.4f}, Val Acc: {100*correct/total:.2f}%\")\n",
        "      print(train_losses)"
      ],
      "metadata": {
        "collapsed": true,
        "id": "ykrgVOw-XCzU"
      },
      "execution_count": 23,
      "outputs": []
    },
    {
      "cell_type": "markdown",
      "source": [
        "## Bare Bones Model"
      ],
      "metadata": {
        "id": "m4Sr8w1ut-0P"
      }
    },
    {
      "cell_type": "code",
      "source": [
        "# bare bones\n",
        "class FeedforwardNet(nn.Module):\n",
        "    def __init__(self):\n",
        "        super(FeedforwardNet, self).__init__()\n",
        "        self.fc1 = nn.Linear(3072, 1024)   # first hidden layer\n",
        "        self.fc2 = nn.Linear(1024, 512)    # second hidden layer\n",
        "        self.fc3 = nn.Linear(512, 256)     # third hidden layer\n",
        "        self.fc4 = nn.Linear(256, 10)      # output layer\n",
        "\n",
        "    def forward_net(self, x):\n",
        "        x = x.view(x.size(0), -1) # Flatten the input here\n",
        "        x = F.relu(self.fc1(x))\n",
        "        x = F.relu(self.fc2(x))\n",
        "        x = F.relu(self.fc3(x))\n",
        "        x = self.fc4(x)   # logits\n",
        "        return x"
      ],
      "metadata": {
        "id": "6dQ5BPFpQWht"
      },
      "execution_count": 30,
      "outputs": []
    },
    {
      "cell_type": "code",
      "source": [
        "barebones_model = FeedforwardNet()"
      ],
      "metadata": {
        "id": "ha9PDaPaWjcH"
      },
      "execution_count": 31,
      "outputs": []
    },
    {
      "cell_type": "code",
      "source": [
        "criterion = nn.CrossEntropyLoss()"
      ],
      "metadata": {
        "id": "Lnud34ZuW3bT"
      },
      "execution_count": 32,
      "outputs": []
    },
    {
      "cell_type": "code",
      "source": [
        "optimizer = torch.optim.SGD(barebones_model.parameters(), lr=0.01)"
      ],
      "metadata": {
        "id": "nxOdBRs5W-pC"
      },
      "execution_count": 33,
      "outputs": []
    },
    {
      "cell_type": "code",
      "source": [
        "train(barebones_model, num_epochs=10)"
      ],
      "metadata": {
        "colab": {
          "base_uri": "https://localhost:8080/"
        },
        "collapsed": true,
        "id": "oJ6VUTtvPGCJ",
        "outputId": "774a3317-2107-409d-8e39-c3a4a0f82107"
      },
      "execution_count": 34,
      "outputs": [
        {
          "output_type": "stream",
          "name": "stdout",
          "text": [
            "Epoch [1/10], Batch [10/211], Loss: 2.3039\n",
            "Epoch [1/10], Batch [20/211], Loss: 2.3006\n",
            "Epoch [1/10], Batch [30/211], Loss: 2.2977\n",
            "Epoch [1/10], Batch [40/211], Loss: 2.2909\n",
            "Epoch [1/10], Batch [50/211], Loss: 2.2893\n",
            "Epoch [1/10], Batch [60/211], Loss: 2.2821\n",
            "Epoch [1/10], Batch [70/211], Loss: 2.2776\n",
            "Epoch [1/10], Batch [80/211], Loss: 2.2735\n",
            "Epoch [1/10], Batch [90/211], Loss: 2.2721\n",
            "Epoch [1/10], Batch [100/211], Loss: 2.2579\n",
            "Epoch [1/10], Batch [110/211], Loss: 2.2600\n",
            "Epoch [1/10], Batch [120/211], Loss: 2.2513\n",
            "Epoch [1/10], Batch [130/211], Loss: 2.2465\n",
            "Epoch [1/10], Batch [140/211], Loss: 2.2451\n",
            "Epoch [1/10], Batch [150/211], Loss: 2.2493\n",
            "Epoch [1/10], Batch [160/211], Loss: 2.2385\n",
            "Epoch [1/10], Batch [170/211], Loss: 2.2313\n",
            "Epoch [1/10], Batch [180/211], Loss: 2.2326\n",
            "Epoch [1/10], Batch [190/211], Loss: 2.2131\n",
            "Epoch [1/10], Batch [200/211], Loss: 2.2183\n",
            "Epoch [1/10], Batch [210/211], Loss: 2.2120\n",
            "Epoch 1, Loss: 2.2035, Val Acc: 21.00%\n",
            "[2.303881025314331, 2.3006375074386596, 2.297730326652527, 2.2908770561218263, 2.289341115951538, 2.282127928733826, 2.2776331901550293, 2.27353093624115, 2.2720683574676515, 2.257885527610779, 2.2600316762924195, 2.2512871265411376, 2.246521162986755, 2.245106887817383, 2.2492764949798585, 2.2385457515716554, 2.2312579870224, 2.2326298475265505, 2.213103151321411, 2.218331742286682, 2.2120246410369875]\n",
            "Epoch [2/10], Batch [10/211], Loss: 2.1884\n",
            "Epoch [2/10], Batch [20/211], Loss: 2.1971\n",
            "Epoch [2/10], Batch [30/211], Loss: 2.1977\n",
            "Epoch [2/10], Batch [40/211], Loss: 2.1832\n",
            "Epoch [2/10], Batch [50/211], Loss: 2.2003\n",
            "Epoch [2/10], Batch [60/211], Loss: 2.1669\n",
            "Epoch [2/10], Batch [70/211], Loss: 2.1781\n",
            "Epoch [2/10], Batch [80/211], Loss: 2.1632\n",
            "Epoch [2/10], Batch [90/211], Loss: 2.1347\n",
            "Epoch [2/10], Batch [100/211], Loss: 2.1505\n",
            "Epoch [2/10], Batch [110/211], Loss: 2.1413\n",
            "Epoch [2/10], Batch [120/211], Loss: 2.0881\n",
            "Epoch [2/10], Batch [130/211], Loss: 2.1155\n",
            "Epoch [2/10], Batch [140/211], Loss: 2.1363\n",
            "Epoch [2/10], Batch [150/211], Loss: 2.0909\n",
            "Epoch [2/10], Batch [160/211], Loss: 2.1291\n",
            "Epoch [2/10], Batch [170/211], Loss: 2.1153\n",
            "Epoch [2/10], Batch [180/211], Loss: 2.0799\n",
            "Epoch [2/10], Batch [190/211], Loss: 2.0782\n",
            "Epoch [2/10], Batch [200/211], Loss: 2.0823\n",
            "Epoch [2/10], Batch [210/211], Loss: 2.0555\n",
            "Epoch 2, Loss: 2.0248, Val Acc: 25.16%\n",
            "[2.303881025314331, 2.3006375074386596, 2.297730326652527, 2.2908770561218263, 2.289341115951538, 2.282127928733826, 2.2776331901550293, 2.27353093624115, 2.2720683574676515, 2.257885527610779, 2.2600316762924195, 2.2512871265411376, 2.246521162986755, 2.245106887817383, 2.2492764949798585, 2.2385457515716554, 2.2312579870224, 2.2326298475265505, 2.213103151321411, 2.218331742286682, 2.2120246410369875, 2.1883584022521974, 2.1970993757247923, 2.1977365255355834, 2.1831886768341064, 2.2002649307250977, 2.166866898536682, 2.1781445741653442, 2.1631815671920775, 2.1347141742706297, 2.1505356311798094, 2.1412692070007324, 2.088113808631897, 2.115502619743347, 2.136295437812805, 2.090911793708801, 2.1291237354278563, 2.115301275253296, 2.07991099357605, 2.0782185196876526, 2.0822941303253173, 2.0555430173873903]\n",
            "Epoch [3/10], Batch [10/211], Loss: 2.0786\n",
            "Epoch [3/10], Batch [20/211], Loss: 2.0781\n",
            "Epoch [3/10], Batch [30/211], Loss: 2.0419\n",
            "Epoch [3/10], Batch [40/211], Loss: 2.0224\n",
            "Epoch [3/10], Batch [50/211], Loss: 2.0098\n",
            "Epoch [3/10], Batch [60/211], Loss: 2.0862\n",
            "Epoch [3/10], Batch [70/211], Loss: 2.0290\n",
            "Epoch [3/10], Batch [80/211], Loss: 2.0287\n",
            "Epoch [3/10], Batch [90/211], Loss: 2.0280\n",
            "Epoch [3/10], Batch [100/211], Loss: 2.0771\n",
            "Epoch [3/10], Batch [110/211], Loss: 1.9951\n",
            "Epoch [3/10], Batch [120/211], Loss: 1.9975\n",
            "Epoch [3/10], Batch [130/211], Loss: 1.9846\n",
            "Epoch [3/10], Batch [140/211], Loss: 1.9946\n",
            "Epoch [3/10], Batch [150/211], Loss: 2.0179\n",
            "Epoch [3/10], Batch [160/211], Loss: 2.0039\n",
            "Epoch [3/10], Batch [170/211], Loss: 2.0009\n",
            "Epoch [3/10], Batch [180/211], Loss: 1.9796\n",
            "Epoch [3/10], Batch [190/211], Loss: 2.0153\n",
            "Epoch [3/10], Batch [200/211], Loss: 1.9996\n",
            "Epoch [3/10], Batch [210/211], Loss: 2.0036\n",
            "Epoch 3, Loss: 1.9397, Val Acc: 27.98%\n",
            "[2.303881025314331, 2.3006375074386596, 2.297730326652527, 2.2908770561218263, 2.289341115951538, 2.282127928733826, 2.2776331901550293, 2.27353093624115, 2.2720683574676515, 2.257885527610779, 2.2600316762924195, 2.2512871265411376, 2.246521162986755, 2.245106887817383, 2.2492764949798585, 2.2385457515716554, 2.2312579870224, 2.2326298475265505, 2.213103151321411, 2.218331742286682, 2.2120246410369875, 2.1883584022521974, 2.1970993757247923, 2.1977365255355834, 2.1831886768341064, 2.2002649307250977, 2.166866898536682, 2.1781445741653442, 2.1631815671920775, 2.1347141742706297, 2.1505356311798094, 2.1412692070007324, 2.088113808631897, 2.115502619743347, 2.136295437812805, 2.090911793708801, 2.1291237354278563, 2.115301275253296, 2.07991099357605, 2.0782185196876526, 2.0822941303253173, 2.0555430173873903, 2.078640866279602, 2.078105556964874, 2.041885268688202, 2.0223703026771545, 2.0097685933113096, 2.086209750175476, 2.0289686918258667, 2.0287379384040833, 2.0280054450035094, 2.077056920528412, 1.9950578689575196, 1.997472333908081, 1.9846495985984802, 1.9945664525032043, 2.0179104566574098, 2.003947937488556, 2.000864636898041, 1.9796369433403016, 2.0152961134910585, 1.9995614290237427, 2.003630554676056]\n",
            "Epoch [4/10], Batch [10/211], Loss: 1.9531\n",
            "Epoch [4/10], Batch [20/211], Loss: 1.9851\n",
            "Epoch [4/10], Batch [30/211], Loss: 1.9549\n",
            "Epoch [4/10], Batch [40/211], Loss: 1.9543\n",
            "Epoch [4/10], Batch [50/211], Loss: 1.9686\n",
            "Epoch [4/10], Batch [60/211], Loss: 1.9601\n",
            "Epoch [4/10], Batch [70/211], Loss: 1.9849\n",
            "Epoch [4/10], Batch [80/211], Loss: 1.9644\n",
            "Epoch [4/10], Batch [90/211], Loss: 1.9675\n",
            "Epoch [4/10], Batch [100/211], Loss: 1.9099\n",
            "Epoch [4/10], Batch [110/211], Loss: 1.9162\n",
            "Epoch [4/10], Batch [120/211], Loss: 1.9429\n",
            "Epoch [4/10], Batch [130/211], Loss: 1.9403\n",
            "Epoch [4/10], Batch [140/211], Loss: 1.9574\n",
            "Epoch [4/10], Batch [150/211], Loss: 1.8971\n",
            "Epoch [4/10], Batch [160/211], Loss: 1.8971\n",
            "Epoch [4/10], Batch [170/211], Loss: 1.9476\n",
            "Epoch [4/10], Batch [180/211], Loss: 1.9341\n",
            "Epoch [4/10], Batch [190/211], Loss: 1.9528\n",
            "Epoch [4/10], Batch [200/211], Loss: 1.9272\n",
            "Epoch [4/10], Batch [210/211], Loss: 1.9210\n",
            "Epoch 4, Loss: 1.9895, Val Acc: 30.31%\n",
            "[2.303881025314331, 2.3006375074386596, 2.297730326652527, 2.2908770561218263, 2.289341115951538, 2.282127928733826, 2.2776331901550293, 2.27353093624115, 2.2720683574676515, 2.257885527610779, 2.2600316762924195, 2.2512871265411376, 2.246521162986755, 2.245106887817383, 2.2492764949798585, 2.2385457515716554, 2.2312579870224, 2.2326298475265505, 2.213103151321411, 2.218331742286682, 2.2120246410369875, 2.1883584022521974, 2.1970993757247923, 2.1977365255355834, 2.1831886768341064, 2.2002649307250977, 2.166866898536682, 2.1781445741653442, 2.1631815671920775, 2.1347141742706297, 2.1505356311798094, 2.1412692070007324, 2.088113808631897, 2.115502619743347, 2.136295437812805, 2.090911793708801, 2.1291237354278563, 2.115301275253296, 2.07991099357605, 2.0782185196876526, 2.0822941303253173, 2.0555430173873903, 2.078640866279602, 2.078105556964874, 2.041885268688202, 2.0223703026771545, 2.0097685933113096, 2.086209750175476, 2.0289686918258667, 2.0287379384040833, 2.0280054450035094, 2.077056920528412, 1.9950578689575196, 1.997472333908081, 1.9846495985984802, 1.9945664525032043, 2.0179104566574098, 2.003947937488556, 2.000864636898041, 1.9796369433403016, 2.0152961134910585, 1.9995614290237427, 2.003630554676056, 1.9530742764472961, 1.9850969791412354, 1.9548762798309327, 1.9542839527130127, 1.9685871481895447, 1.9600740671157837, 1.9848656177520752, 1.9643566012382507, 1.9675296187400817, 1.9099282145500183, 1.9161523461341858, 1.942917025089264, 1.940349316596985, 1.957428252696991, 1.8970719218254088, 1.8970770359039306, 1.9475600838661193, 1.9341277122497558, 1.9528355717658996, 1.9271936655044555, 1.9209641098976136]\n",
            "Epoch [5/10], Batch [10/211], Loss: 1.9378\n",
            "Epoch [5/10], Batch [20/211], Loss: 1.9047\n",
            "Epoch [5/10], Batch [30/211], Loss: 1.9421\n",
            "Epoch [5/10], Batch [40/211], Loss: 1.8947\n",
            "Epoch [5/10], Batch [50/211], Loss: 1.8734\n",
            "Epoch [5/10], Batch [60/211], Loss: 1.9204\n",
            "Epoch [5/10], Batch [70/211], Loss: 1.8997\n",
            "Epoch [5/10], Batch [80/211], Loss: 1.9004\n",
            "Epoch [5/10], Batch [90/211], Loss: 1.8815\n",
            "Epoch [5/10], Batch [100/211], Loss: 1.8679\n",
            "Epoch [5/10], Batch [110/211], Loss: 1.9016\n",
            "Epoch [5/10], Batch [120/211], Loss: 1.8738\n",
            "Epoch [5/10], Batch [130/211], Loss: 1.8731\n",
            "Epoch [5/10], Batch [140/211], Loss: 1.9295\n",
            "Epoch [5/10], Batch [150/211], Loss: 1.8674\n",
            "Epoch [5/10], Batch [160/211], Loss: 1.8712\n",
            "Epoch [5/10], Batch [170/211], Loss: 1.8200\n",
            "Epoch [5/10], Batch [180/211], Loss: 1.9020\n",
            "Epoch [5/10], Batch [190/211], Loss: 1.8952\n",
            "Epoch [5/10], Batch [200/211], Loss: 1.8092\n",
            "Epoch [5/10], Batch [210/211], Loss: 1.8653\n",
            "Epoch 5, Loss: 1.6538, Val Acc: 30.72%\n",
            "[2.303881025314331, 2.3006375074386596, 2.297730326652527, 2.2908770561218263, 2.289341115951538, 2.282127928733826, 2.2776331901550293, 2.27353093624115, 2.2720683574676515, 2.257885527610779, 2.2600316762924195, 2.2512871265411376, 2.246521162986755, 2.245106887817383, 2.2492764949798585, 2.2385457515716554, 2.2312579870224, 2.2326298475265505, 2.213103151321411, 2.218331742286682, 2.2120246410369875, 2.1883584022521974, 2.1970993757247923, 2.1977365255355834, 2.1831886768341064, 2.2002649307250977, 2.166866898536682, 2.1781445741653442, 2.1631815671920775, 2.1347141742706297, 2.1505356311798094, 2.1412692070007324, 2.088113808631897, 2.115502619743347, 2.136295437812805, 2.090911793708801, 2.1291237354278563, 2.115301275253296, 2.07991099357605, 2.0782185196876526, 2.0822941303253173, 2.0555430173873903, 2.078640866279602, 2.078105556964874, 2.041885268688202, 2.0223703026771545, 2.0097685933113096, 2.086209750175476, 2.0289686918258667, 2.0287379384040833, 2.0280054450035094, 2.077056920528412, 1.9950578689575196, 1.997472333908081, 1.9846495985984802, 1.9945664525032043, 2.0179104566574098, 2.003947937488556, 2.000864636898041, 1.9796369433403016, 2.0152961134910585, 1.9995614290237427, 2.003630554676056, 1.9530742764472961, 1.9850969791412354, 1.9548762798309327, 1.9542839527130127, 1.9685871481895447, 1.9600740671157837, 1.9848656177520752, 1.9643566012382507, 1.9675296187400817, 1.9099282145500183, 1.9161523461341858, 1.942917025089264, 1.940349316596985, 1.957428252696991, 1.8970719218254088, 1.8970770359039306, 1.9475600838661193, 1.9341277122497558, 1.9528355717658996, 1.9271936655044555, 1.9209641098976136, 1.9377852916717528, 1.9046667575836183, 1.9420585989952088, 1.8946609854698182, 1.873435866832733, 1.920443832874298, 1.8997018218040467, 1.9004035592079163, 1.881459891796112, 1.8679325222969054, 1.901553201675415, 1.8737643599510192, 1.8731050491333008, 1.9295480728149415, 1.8674321174621582, 1.8711954474449157, 1.8199707865715027, 1.9020082116127015, 1.8951831817626954, 1.80923832654953, 1.86525160074234]\n",
            "Epoch [6/10], Batch [10/211], Loss: 1.8358\n",
            "Epoch [6/10], Batch [20/211], Loss: 1.8575\n",
            "Epoch [6/10], Batch [30/211], Loss: 1.8510\n",
            "Epoch [6/10], Batch [40/211], Loss: 1.8806\n",
            "Epoch [6/10], Batch [50/211], Loss: 1.8716\n",
            "Epoch [6/10], Batch [60/211], Loss: 1.7887\n",
            "Epoch [6/10], Batch [70/211], Loss: 1.8040\n",
            "Epoch [6/10], Batch [80/211], Loss: 1.8571\n",
            "Epoch [6/10], Batch [90/211], Loss: 1.8101\n",
            "Epoch [6/10], Batch [100/211], Loss: 1.8237\n",
            "Epoch [6/10], Batch [110/211], Loss: 1.8619\n",
            "Epoch [6/10], Batch [120/211], Loss: 1.8213\n",
            "Epoch [6/10], Batch [130/211], Loss: 1.7952\n",
            "Epoch [6/10], Batch [140/211], Loss: 1.8610\n",
            "Epoch [6/10], Batch [150/211], Loss: 1.8161\n",
            "Epoch [6/10], Batch [160/211], Loss: 1.8036\n",
            "Epoch [6/10], Batch [170/211], Loss: 1.8072\n",
            "Epoch [6/10], Batch [180/211], Loss: 1.8755\n",
            "Epoch [6/10], Batch [190/211], Loss: 1.8311\n",
            "Epoch [6/10], Batch [200/211], Loss: 1.8278\n",
            "Epoch [6/10], Batch [210/211], Loss: 1.8078\n",
            "Epoch 6, Loss: 1.8364, Val Acc: 31.66%\n",
            "[2.303881025314331, 2.3006375074386596, 2.297730326652527, 2.2908770561218263, 2.289341115951538, 2.282127928733826, 2.2776331901550293, 2.27353093624115, 2.2720683574676515, 2.257885527610779, 2.2600316762924195, 2.2512871265411376, 2.246521162986755, 2.245106887817383, 2.2492764949798585, 2.2385457515716554, 2.2312579870224, 2.2326298475265505, 2.213103151321411, 2.218331742286682, 2.2120246410369875, 2.1883584022521974, 2.1970993757247923, 2.1977365255355834, 2.1831886768341064, 2.2002649307250977, 2.166866898536682, 2.1781445741653442, 2.1631815671920775, 2.1347141742706297, 2.1505356311798094, 2.1412692070007324, 2.088113808631897, 2.115502619743347, 2.136295437812805, 2.090911793708801, 2.1291237354278563, 2.115301275253296, 2.07991099357605, 2.0782185196876526, 2.0822941303253173, 2.0555430173873903, 2.078640866279602, 2.078105556964874, 2.041885268688202, 2.0223703026771545, 2.0097685933113096, 2.086209750175476, 2.0289686918258667, 2.0287379384040833, 2.0280054450035094, 2.077056920528412, 1.9950578689575196, 1.997472333908081, 1.9846495985984802, 1.9945664525032043, 2.0179104566574098, 2.003947937488556, 2.000864636898041, 1.9796369433403016, 2.0152961134910585, 1.9995614290237427, 2.003630554676056, 1.9530742764472961, 1.9850969791412354, 1.9548762798309327, 1.9542839527130127, 1.9685871481895447, 1.9600740671157837, 1.9848656177520752, 1.9643566012382507, 1.9675296187400817, 1.9099282145500183, 1.9161523461341858, 1.942917025089264, 1.940349316596985, 1.957428252696991, 1.8970719218254088, 1.8970770359039306, 1.9475600838661193, 1.9341277122497558, 1.9528355717658996, 1.9271936655044555, 1.9209641098976136, 1.9377852916717528, 1.9046667575836183, 1.9420585989952088, 1.8946609854698182, 1.873435866832733, 1.920443832874298, 1.8997018218040467, 1.9004035592079163, 1.881459891796112, 1.8679325222969054, 1.901553201675415, 1.8737643599510192, 1.8731050491333008, 1.9295480728149415, 1.8674321174621582, 1.8711954474449157, 1.8199707865715027, 1.9020082116127015, 1.8951831817626954, 1.80923832654953, 1.86525160074234, 1.8358226537704467, 1.8575058341026307, 1.8510220885276794, 1.8805649995803833, 1.87159423828125, 1.788725984096527, 1.8039982914924622, 1.8571256399154663, 1.8100654125213622, 1.8237219214439393, 1.861927855014801, 1.821342670917511, 1.7951996088027955, 1.861039412021637, 1.816066837310791, 1.8036057949066162, 1.8071922659873962, 1.8754820585250855, 1.8311303973197937, 1.8277701020240784, 1.8077914118766785]\n",
            "Epoch [7/10], Batch [10/211], Loss: 1.8024\n",
            "Epoch [7/10], Batch [20/211], Loss: 1.8355\n",
            "Epoch [7/10], Batch [30/211], Loss: 1.8070\n",
            "Epoch [7/10], Batch [40/211], Loss: 1.8043\n",
            "Epoch [7/10], Batch [50/211], Loss: 1.7517\n",
            "Epoch [7/10], Batch [60/211], Loss: 1.7905\n",
            "Epoch [7/10], Batch [70/211], Loss: 1.8277\n",
            "Epoch [7/10], Batch [80/211], Loss: 1.7733\n",
            "Epoch [7/10], Batch [90/211], Loss: 1.8145\n",
            "Epoch [7/10], Batch [100/211], Loss: 1.7370\n",
            "Epoch [7/10], Batch [110/211], Loss: 1.7760\n",
            "Epoch [7/10], Batch [120/211], Loss: 1.7803\n",
            "Epoch [7/10], Batch [130/211], Loss: 1.7442\n",
            "Epoch [7/10], Batch [140/211], Loss: 1.8380\n",
            "Epoch [7/10], Batch [150/211], Loss: 1.7442\n",
            "Epoch [7/10], Batch [160/211], Loss: 1.7714\n",
            "Epoch [7/10], Batch [170/211], Loss: 1.7642\n",
            "Epoch [7/10], Batch [180/211], Loss: 1.8096\n",
            "Epoch [7/10], Batch [190/211], Loss: 1.7749\n",
            "Epoch [7/10], Batch [200/211], Loss: 1.7490\n",
            "Epoch [7/10], Batch [210/211], Loss: 1.8050\n",
            "Epoch 7, Loss: 1.5898, Val Acc: 33.97%\n",
            "[2.303881025314331, 2.3006375074386596, 2.297730326652527, 2.2908770561218263, 2.289341115951538, 2.282127928733826, 2.2776331901550293, 2.27353093624115, 2.2720683574676515, 2.257885527610779, 2.2600316762924195, 2.2512871265411376, 2.246521162986755, 2.245106887817383, 2.2492764949798585, 2.2385457515716554, 2.2312579870224, 2.2326298475265505, 2.213103151321411, 2.218331742286682, 2.2120246410369875, 2.1883584022521974, 2.1970993757247923, 2.1977365255355834, 2.1831886768341064, 2.2002649307250977, 2.166866898536682, 2.1781445741653442, 2.1631815671920775, 2.1347141742706297, 2.1505356311798094, 2.1412692070007324, 2.088113808631897, 2.115502619743347, 2.136295437812805, 2.090911793708801, 2.1291237354278563, 2.115301275253296, 2.07991099357605, 2.0782185196876526, 2.0822941303253173, 2.0555430173873903, 2.078640866279602, 2.078105556964874, 2.041885268688202, 2.0223703026771545, 2.0097685933113096, 2.086209750175476, 2.0289686918258667, 2.0287379384040833, 2.0280054450035094, 2.077056920528412, 1.9950578689575196, 1.997472333908081, 1.9846495985984802, 1.9945664525032043, 2.0179104566574098, 2.003947937488556, 2.000864636898041, 1.9796369433403016, 2.0152961134910585, 1.9995614290237427, 2.003630554676056, 1.9530742764472961, 1.9850969791412354, 1.9548762798309327, 1.9542839527130127, 1.9685871481895447, 1.9600740671157837, 1.9848656177520752, 1.9643566012382507, 1.9675296187400817, 1.9099282145500183, 1.9161523461341858, 1.942917025089264, 1.940349316596985, 1.957428252696991, 1.8970719218254088, 1.8970770359039306, 1.9475600838661193, 1.9341277122497558, 1.9528355717658996, 1.9271936655044555, 1.9209641098976136, 1.9377852916717528, 1.9046667575836183, 1.9420585989952088, 1.8946609854698182, 1.873435866832733, 1.920443832874298, 1.8997018218040467, 1.9004035592079163, 1.881459891796112, 1.8679325222969054, 1.901553201675415, 1.8737643599510192, 1.8731050491333008, 1.9295480728149415, 1.8674321174621582, 1.8711954474449157, 1.8199707865715027, 1.9020082116127015, 1.8951831817626954, 1.80923832654953, 1.86525160074234, 1.8358226537704467, 1.8575058341026307, 1.8510220885276794, 1.8805649995803833, 1.87159423828125, 1.788725984096527, 1.8039982914924622, 1.8571256399154663, 1.8100654125213622, 1.8237219214439393, 1.861927855014801, 1.821342670917511, 1.7951996088027955, 1.861039412021637, 1.816066837310791, 1.8036057949066162, 1.8071922659873962, 1.8754820585250855, 1.8311303973197937, 1.8277701020240784, 1.8077914118766785, 1.802444577217102, 1.835513997077942, 1.8070306062698365, 1.8043007254600525, 1.751690888404846, 1.7904778003692627, 1.8277320265769958, 1.77326956987381, 1.814532959461212, 1.7370351433753968, 1.7760040044784546, 1.780283522605896, 1.744151270389557, 1.8379570960998535, 1.7441801309585572, 1.771428656578064, 1.7641831636428833, 1.8095960021018982, 1.774872934818268, 1.7490429759025574, 1.804971945285797]\n",
            "Epoch [8/10], Batch [10/211], Loss: 1.7207\n",
            "Epoch [8/10], Batch [20/211], Loss: 1.8077\n",
            "Epoch [8/10], Batch [30/211], Loss: 1.7295\n",
            "Epoch [8/10], Batch [40/211], Loss: 1.6726\n",
            "Epoch [8/10], Batch [50/211], Loss: 1.7743\n",
            "Epoch [8/10], Batch [60/211], Loss: 1.7681\n",
            "Epoch [8/10], Batch [70/211], Loss: 1.7983\n",
            "Epoch [8/10], Batch [80/211], Loss: 1.7661\n",
            "Epoch [8/10], Batch [90/211], Loss: 1.7502\n",
            "Epoch [8/10], Batch [100/211], Loss: 1.7411\n",
            "Epoch [8/10], Batch [110/211], Loss: 1.7693\n",
            "Epoch [8/10], Batch [120/211], Loss: 1.7851\n",
            "Epoch [8/10], Batch [130/211], Loss: 1.7031\n",
            "Epoch [8/10], Batch [140/211], Loss: 1.7230\n",
            "Epoch [8/10], Batch [150/211], Loss: 1.7261\n",
            "Epoch [8/10], Batch [160/211], Loss: 1.6742\n",
            "Epoch [8/10], Batch [170/211], Loss: 1.7665\n",
            "Epoch [8/10], Batch [180/211], Loss: 1.7214\n",
            "Epoch [8/10], Batch [190/211], Loss: 1.7158\n",
            "Epoch [8/10], Batch [200/211], Loss: 1.7015\n",
            "Epoch [8/10], Batch [210/211], Loss: 1.7669\n",
            "Epoch 8, Loss: 1.8028, Val Acc: 34.53%\n",
            "[2.303881025314331, 2.3006375074386596, 2.297730326652527, 2.2908770561218263, 2.289341115951538, 2.282127928733826, 2.2776331901550293, 2.27353093624115, 2.2720683574676515, 2.257885527610779, 2.2600316762924195, 2.2512871265411376, 2.246521162986755, 2.245106887817383, 2.2492764949798585, 2.2385457515716554, 2.2312579870224, 2.2326298475265505, 2.213103151321411, 2.218331742286682, 2.2120246410369875, 2.1883584022521974, 2.1970993757247923, 2.1977365255355834, 2.1831886768341064, 2.2002649307250977, 2.166866898536682, 2.1781445741653442, 2.1631815671920775, 2.1347141742706297, 2.1505356311798094, 2.1412692070007324, 2.088113808631897, 2.115502619743347, 2.136295437812805, 2.090911793708801, 2.1291237354278563, 2.115301275253296, 2.07991099357605, 2.0782185196876526, 2.0822941303253173, 2.0555430173873903, 2.078640866279602, 2.078105556964874, 2.041885268688202, 2.0223703026771545, 2.0097685933113096, 2.086209750175476, 2.0289686918258667, 2.0287379384040833, 2.0280054450035094, 2.077056920528412, 1.9950578689575196, 1.997472333908081, 1.9846495985984802, 1.9945664525032043, 2.0179104566574098, 2.003947937488556, 2.000864636898041, 1.9796369433403016, 2.0152961134910585, 1.9995614290237427, 2.003630554676056, 1.9530742764472961, 1.9850969791412354, 1.9548762798309327, 1.9542839527130127, 1.9685871481895447, 1.9600740671157837, 1.9848656177520752, 1.9643566012382507, 1.9675296187400817, 1.9099282145500183, 1.9161523461341858, 1.942917025089264, 1.940349316596985, 1.957428252696991, 1.8970719218254088, 1.8970770359039306, 1.9475600838661193, 1.9341277122497558, 1.9528355717658996, 1.9271936655044555, 1.9209641098976136, 1.9377852916717528, 1.9046667575836183, 1.9420585989952088, 1.8946609854698182, 1.873435866832733, 1.920443832874298, 1.8997018218040467, 1.9004035592079163, 1.881459891796112, 1.8679325222969054, 1.901553201675415, 1.8737643599510192, 1.8731050491333008, 1.9295480728149415, 1.8674321174621582, 1.8711954474449157, 1.8199707865715027, 1.9020082116127015, 1.8951831817626954, 1.80923832654953, 1.86525160074234, 1.8358226537704467, 1.8575058341026307, 1.8510220885276794, 1.8805649995803833, 1.87159423828125, 1.788725984096527, 1.8039982914924622, 1.8571256399154663, 1.8100654125213622, 1.8237219214439393, 1.861927855014801, 1.821342670917511, 1.7951996088027955, 1.861039412021637, 1.816066837310791, 1.8036057949066162, 1.8071922659873962, 1.8754820585250855, 1.8311303973197937, 1.8277701020240784, 1.8077914118766785, 1.802444577217102, 1.835513997077942, 1.8070306062698365, 1.8043007254600525, 1.751690888404846, 1.7904778003692627, 1.8277320265769958, 1.77326956987381, 1.814532959461212, 1.7370351433753968, 1.7760040044784546, 1.780283522605896, 1.744151270389557, 1.8379570960998535, 1.7441801309585572, 1.771428656578064, 1.7641831636428833, 1.8095960021018982, 1.774872934818268, 1.7490429759025574, 1.804971945285797, 1.7207403302192688, 1.8076691627502441, 1.7294515252113343, 1.6725906491279603, 1.7743284225463867, 1.7680621504783631, 1.7982710361480714, 1.7661320686340332, 1.7501640439033508, 1.7411020636558532, 1.769274890422821, 1.7851253390312194, 1.7031356334686278, 1.7229889273643493, 1.7261194229125976, 1.6741738796234131, 1.766541635990143, 1.7213766694068908, 1.7157709002494812, 1.7014598965644836, 1.7669255137443542]\n",
            "Epoch [9/10], Batch [10/211], Loss: 1.7020\n",
            "Epoch [9/10], Batch [20/211], Loss: 1.7488\n",
            "Epoch [9/10], Batch [30/211], Loss: 1.7179\n",
            "Epoch [9/10], Batch [40/211], Loss: 1.7008\n",
            "Epoch [9/10], Batch [50/211], Loss: 1.6890\n",
            "Epoch [9/10], Batch [60/211], Loss: 1.6528\n",
            "Epoch [9/10], Batch [70/211], Loss: 1.6797\n",
            "Epoch [9/10], Batch [80/211], Loss: 1.7501\n",
            "Epoch [9/10], Batch [90/211], Loss: 1.7323\n",
            "Epoch [9/10], Batch [100/211], Loss: 1.7560\n",
            "Epoch [9/10], Batch [110/211], Loss: 1.7251\n",
            "Epoch [9/10], Batch [120/211], Loss: 1.7177\n",
            "Epoch [9/10], Batch [130/211], Loss: 1.7047\n",
            "Epoch [9/10], Batch [140/211], Loss: 1.7291\n",
            "Epoch [9/10], Batch [150/211], Loss: 1.6818\n",
            "Epoch [9/10], Batch [160/211], Loss: 1.6816\n",
            "Epoch [9/10], Batch [170/211], Loss: 1.6758\n",
            "Epoch [9/10], Batch [180/211], Loss: 1.7023\n",
            "Epoch [9/10], Batch [190/211], Loss: 1.7216\n",
            "Epoch [9/10], Batch [200/211], Loss: 1.6898\n",
            "Epoch [9/10], Batch [210/211], Loss: 1.6324\n",
            "Epoch 9, Loss: 1.5125, Val Acc: 35.41%\n",
            "[2.303881025314331, 2.3006375074386596, 2.297730326652527, 2.2908770561218263, 2.289341115951538, 2.282127928733826, 2.2776331901550293, 2.27353093624115, 2.2720683574676515, 2.257885527610779, 2.2600316762924195, 2.2512871265411376, 2.246521162986755, 2.245106887817383, 2.2492764949798585, 2.2385457515716554, 2.2312579870224, 2.2326298475265505, 2.213103151321411, 2.218331742286682, 2.2120246410369875, 2.1883584022521974, 2.1970993757247923, 2.1977365255355834, 2.1831886768341064, 2.2002649307250977, 2.166866898536682, 2.1781445741653442, 2.1631815671920775, 2.1347141742706297, 2.1505356311798094, 2.1412692070007324, 2.088113808631897, 2.115502619743347, 2.136295437812805, 2.090911793708801, 2.1291237354278563, 2.115301275253296, 2.07991099357605, 2.0782185196876526, 2.0822941303253173, 2.0555430173873903, 2.078640866279602, 2.078105556964874, 2.041885268688202, 2.0223703026771545, 2.0097685933113096, 2.086209750175476, 2.0289686918258667, 2.0287379384040833, 2.0280054450035094, 2.077056920528412, 1.9950578689575196, 1.997472333908081, 1.9846495985984802, 1.9945664525032043, 2.0179104566574098, 2.003947937488556, 2.000864636898041, 1.9796369433403016, 2.0152961134910585, 1.9995614290237427, 2.003630554676056, 1.9530742764472961, 1.9850969791412354, 1.9548762798309327, 1.9542839527130127, 1.9685871481895447, 1.9600740671157837, 1.9848656177520752, 1.9643566012382507, 1.9675296187400817, 1.9099282145500183, 1.9161523461341858, 1.942917025089264, 1.940349316596985, 1.957428252696991, 1.8970719218254088, 1.8970770359039306, 1.9475600838661193, 1.9341277122497558, 1.9528355717658996, 1.9271936655044555, 1.9209641098976136, 1.9377852916717528, 1.9046667575836183, 1.9420585989952088, 1.8946609854698182, 1.873435866832733, 1.920443832874298, 1.8997018218040467, 1.9004035592079163, 1.881459891796112, 1.8679325222969054, 1.901553201675415, 1.8737643599510192, 1.8731050491333008, 1.9295480728149415, 1.8674321174621582, 1.8711954474449157, 1.8199707865715027, 1.9020082116127015, 1.8951831817626954, 1.80923832654953, 1.86525160074234, 1.8358226537704467, 1.8575058341026307, 1.8510220885276794, 1.8805649995803833, 1.87159423828125, 1.788725984096527, 1.8039982914924622, 1.8571256399154663, 1.8100654125213622, 1.8237219214439393, 1.861927855014801, 1.821342670917511, 1.7951996088027955, 1.861039412021637, 1.816066837310791, 1.8036057949066162, 1.8071922659873962, 1.8754820585250855, 1.8311303973197937, 1.8277701020240784, 1.8077914118766785, 1.802444577217102, 1.835513997077942, 1.8070306062698365, 1.8043007254600525, 1.751690888404846, 1.7904778003692627, 1.8277320265769958, 1.77326956987381, 1.814532959461212, 1.7370351433753968, 1.7760040044784546, 1.780283522605896, 1.744151270389557, 1.8379570960998535, 1.7441801309585572, 1.771428656578064, 1.7641831636428833, 1.8095960021018982, 1.774872934818268, 1.7490429759025574, 1.804971945285797, 1.7207403302192688, 1.8076691627502441, 1.7294515252113343, 1.6725906491279603, 1.7743284225463867, 1.7680621504783631, 1.7982710361480714, 1.7661320686340332, 1.7501640439033508, 1.7411020636558532, 1.769274890422821, 1.7851253390312194, 1.7031356334686278, 1.7229889273643493, 1.7261194229125976, 1.6741738796234131, 1.766541635990143, 1.7213766694068908, 1.7157709002494812, 1.7014598965644836, 1.7669255137443542, 1.7019678473472595, 1.7488295316696167, 1.7179115414619446, 1.700847339630127, 1.6890093207359314, 1.652753973007202, 1.679747188091278, 1.7500529408454895, 1.732253336906433, 1.7560253500938416, 1.7250998973846436, 1.7176659941673278, 1.7047240018844605, 1.7290794610977174, 1.681820023059845, 1.681584095954895, 1.6757623910903932, 1.7023370027542115, 1.7216008067131043, 1.6897592782974242, 1.632385790348053]\n",
            "Epoch [10/10], Batch [10/211], Loss: 1.6309\n",
            "Epoch [10/10], Batch [20/211], Loss: 1.6965\n",
            "Epoch [10/10], Batch [30/211], Loss: 1.6989\n",
            "Epoch [10/10], Batch [40/211], Loss: 1.6230\n",
            "Epoch [10/10], Batch [50/211], Loss: 1.6880\n",
            "Epoch [10/10], Batch [60/211], Loss: 1.6555\n",
            "Epoch [10/10], Batch [70/211], Loss: 1.6903\n",
            "Epoch [10/10], Batch [80/211], Loss: 1.6747\n",
            "Epoch [10/10], Batch [90/211], Loss: 1.6195\n",
            "Epoch [10/10], Batch [100/211], Loss: 1.7106\n",
            "Epoch [10/10], Batch [110/211], Loss: 1.6738\n",
            "Epoch [10/10], Batch [120/211], Loss: 1.7073\n",
            "Epoch [10/10], Batch [130/211], Loss: 1.7013\n",
            "Epoch [10/10], Batch [140/211], Loss: 1.6169\n",
            "Epoch [10/10], Batch [150/211], Loss: 1.6783\n",
            "Epoch [10/10], Batch [160/211], Loss: 1.6178\n",
            "Epoch [10/10], Batch [170/211], Loss: 1.6419\n",
            "Epoch [10/10], Batch [180/211], Loss: 1.6908\n",
            "Epoch [10/10], Batch [190/211], Loss: 1.6229\n",
            "Epoch [10/10], Batch [200/211], Loss: 1.6583\n",
            "Epoch [10/10], Batch [210/211], Loss: 1.6145\n",
            "Epoch 10, Loss: 1.5349, Val Acc: 35.84%\n",
            "[2.303881025314331, 2.3006375074386596, 2.297730326652527, 2.2908770561218263, 2.289341115951538, 2.282127928733826, 2.2776331901550293, 2.27353093624115, 2.2720683574676515, 2.257885527610779, 2.2600316762924195, 2.2512871265411376, 2.246521162986755, 2.245106887817383, 2.2492764949798585, 2.2385457515716554, 2.2312579870224, 2.2326298475265505, 2.213103151321411, 2.218331742286682, 2.2120246410369875, 2.1883584022521974, 2.1970993757247923, 2.1977365255355834, 2.1831886768341064, 2.2002649307250977, 2.166866898536682, 2.1781445741653442, 2.1631815671920775, 2.1347141742706297, 2.1505356311798094, 2.1412692070007324, 2.088113808631897, 2.115502619743347, 2.136295437812805, 2.090911793708801, 2.1291237354278563, 2.115301275253296, 2.07991099357605, 2.0782185196876526, 2.0822941303253173, 2.0555430173873903, 2.078640866279602, 2.078105556964874, 2.041885268688202, 2.0223703026771545, 2.0097685933113096, 2.086209750175476, 2.0289686918258667, 2.0287379384040833, 2.0280054450035094, 2.077056920528412, 1.9950578689575196, 1.997472333908081, 1.9846495985984802, 1.9945664525032043, 2.0179104566574098, 2.003947937488556, 2.000864636898041, 1.9796369433403016, 2.0152961134910585, 1.9995614290237427, 2.003630554676056, 1.9530742764472961, 1.9850969791412354, 1.9548762798309327, 1.9542839527130127, 1.9685871481895447, 1.9600740671157837, 1.9848656177520752, 1.9643566012382507, 1.9675296187400817, 1.9099282145500183, 1.9161523461341858, 1.942917025089264, 1.940349316596985, 1.957428252696991, 1.8970719218254088, 1.8970770359039306, 1.9475600838661193, 1.9341277122497558, 1.9528355717658996, 1.9271936655044555, 1.9209641098976136, 1.9377852916717528, 1.9046667575836183, 1.9420585989952088, 1.8946609854698182, 1.873435866832733, 1.920443832874298, 1.8997018218040467, 1.9004035592079163, 1.881459891796112, 1.8679325222969054, 1.901553201675415, 1.8737643599510192, 1.8731050491333008, 1.9295480728149415, 1.8674321174621582, 1.8711954474449157, 1.8199707865715027, 1.9020082116127015, 1.8951831817626954, 1.80923832654953, 1.86525160074234, 1.8358226537704467, 1.8575058341026307, 1.8510220885276794, 1.8805649995803833, 1.87159423828125, 1.788725984096527, 1.8039982914924622, 1.8571256399154663, 1.8100654125213622, 1.8237219214439393, 1.861927855014801, 1.821342670917511, 1.7951996088027955, 1.861039412021637, 1.816066837310791, 1.8036057949066162, 1.8071922659873962, 1.8754820585250855, 1.8311303973197937, 1.8277701020240784, 1.8077914118766785, 1.802444577217102, 1.835513997077942, 1.8070306062698365, 1.8043007254600525, 1.751690888404846, 1.7904778003692627, 1.8277320265769958, 1.77326956987381, 1.814532959461212, 1.7370351433753968, 1.7760040044784546, 1.780283522605896, 1.744151270389557, 1.8379570960998535, 1.7441801309585572, 1.771428656578064, 1.7641831636428833, 1.8095960021018982, 1.774872934818268, 1.7490429759025574, 1.804971945285797, 1.7207403302192688, 1.8076691627502441, 1.7294515252113343, 1.6725906491279603, 1.7743284225463867, 1.7680621504783631, 1.7982710361480714, 1.7661320686340332, 1.7501640439033508, 1.7411020636558532, 1.769274890422821, 1.7851253390312194, 1.7031356334686278, 1.7229889273643493, 1.7261194229125976, 1.6741738796234131, 1.766541635990143, 1.7213766694068908, 1.7157709002494812, 1.7014598965644836, 1.7669255137443542, 1.7019678473472595, 1.7488295316696167, 1.7179115414619446, 1.700847339630127, 1.6890093207359314, 1.652753973007202, 1.679747188091278, 1.7500529408454895, 1.732253336906433, 1.7560253500938416, 1.7250998973846436, 1.7176659941673278, 1.7047240018844605, 1.7290794610977174, 1.681820023059845, 1.681584095954895, 1.6757623910903932, 1.7023370027542115, 1.7216008067131043, 1.6897592782974242, 1.632385790348053, 1.6309268593788147, 1.696539032459259, 1.6989338159561158, 1.6230292081832887, 1.6880470633506774, 1.6555010557174683, 1.690279483795166, 1.6747496843338012, 1.6194885134696961, 1.7105627179145813, 1.6738272666931153, 1.707303023338318, 1.7013278365135194, 1.6168917179107667, 1.6782970666885375, 1.6177749156951904, 1.6419140458106996, 1.6908183574676514, 1.6229422569274903, 1.6582725763320922, 1.6144815921783446]\n"
          ]
        }
      ]
    },
    {
      "cell_type": "markdown",
      "source": [
        "## Test"
      ],
      "metadata": {
        "id": "AE3_qx6oXhv0"
      }
    },
    {
      "cell_type": "code",
      "source": [
        "def test(model):\n",
        "  model.eval()\n",
        "  correct, total = 0, 0\n",
        "  all_labels = [] # List to store true labels\n",
        "  all_predictions = [] # List to store predicted labels\n",
        "\n",
        "  with torch.no_grad():\n",
        "      for images, labels in test_loader:\n",
        "          outputs = model.forward_net(images)\n",
        "          _, predicted = torch.max(outputs, 1)\n",
        "\n",
        "          all_labels.extend(labels.tolist()) # Append true labels\n",
        "          all_predictions.extend(predicted.tolist()) # Append predicted labels\n",
        "\n",
        "          total += labels.size(0)\n",
        "          correct += (predicted == labels).sum().item()\n",
        "\n",
        "  print(f\"Test Accuracy: {100*correct/total:.2f}%\")\n",
        "  return all_labels, all_predictions # Return the lists"
      ],
      "metadata": {
        "id": "aoP3QPUlXgYS"
      },
      "execution_count": 38,
      "outputs": []
    },
    {
      "cell_type": "code",
      "source": [
        "y, y_hat = test(barebones_model)"
      ],
      "metadata": {
        "colab": {
          "base_uri": "https://localhost:8080/"
        },
        "id": "HKl58ux1Rk2F",
        "outputId": "33f56f0e-8318-4077-b535-fbee0b4ce36d"
      },
      "execution_count": 39,
      "outputs": [
        {
          "output_type": "stream",
          "name": "stdout",
          "text": [
            "Test Accuracy: 35.74%\n"
          ]
        }
      ]
    },
    {
      "cell_type": "code",
      "source": [
        "# Plot after each epoch\n",
        "def plot_losses(train_losses):\n",
        "  plt.figure(figsize=(8,4))\n",
        "  plt.plot(train_losses, label='Training Loss')\n",
        "  plt.xlabel('Iteration (every 10 batches)')\n",
        "  plt.ylabel('Loss')\n",
        "  plt.title('Training Loss Progress')\n",
        "  plt.legend()\n",
        "  plt.show()"
      ],
      "metadata": {
        "id": "sp-5lWSZvmJs"
      },
      "execution_count": null,
      "outputs": []
    },
    {
      "cell_type": "markdown",
      "source": [
        "## Conf Mtx"
      ],
      "metadata": {
        "id": "dbvEFN2Gtv6G"
      }
    },
    {
      "cell_type": "code",
      "source": [
        "from sklearn.metrics import confusion_matrix\n",
        "import seaborn as sns\n",
        "\n",
        "# Assuming 'y' contains the true labels and 'y_hat' contains the predicted labels\n",
        "# These should be obtained by calling the modified test function:\n",
        "# y, y_hat = test(model)\n",
        "\n",
        "# Calculate the confusion matrix\n",
        "cm = confusion_matrix(y, y_hat)\n",
        "\n",
        "# Get the class names from the dataset (assuming train_data is available and has class_to_idx)\n",
        "# You might need to adjust this based on how your class names are stored\n",
        "class_names = train_data.classes\n",
        "# Or if you have a dictionary mapping indices to class names:\n",
        "# class_names = {v: k for k, v in train_data.class_to_idx.items()}\n",
        "# class_names = [class_names[i] for i in range(len(class_names))]\n",
        "\n",
        "\n",
        "# Plot the confusion matrix\n",
        "plt.figure(figsize=(10, 8))\n",
        "sns.heatmap(cm, annot=True, fmt='d', cmap='Blues', xticklabels=class_names, yticklabels=class_names)\n",
        "plt.xlabel('Predicted Label')\n",
        "plt.ylabel('True Label')\n",
        "plt.title('Confusion Matrix')\n",
        "plt.show()"
      ],
      "metadata": {
        "colab": {
          "base_uri": "https://localhost:8080/",
          "height": 783
        },
        "collapsed": true,
        "id": "R99sGzWlNtJ7",
        "outputId": "e06d4d1e-c225-45d0-db49-2257079c8a20"
      },
      "execution_count": 59,
      "outputs": [
        {
          "output_type": "display_data",
          "data": {
            "text/plain": [
              "<Figure size 1000x800 with 2 Axes>"
            ],
            "image/png": "[encoded data removed]"
          },
          "metadata": {}
        }
      ]
    },
    {
      "cell_type": "markdown",
      "source": [
        "# Attempts to improve performance"
      ],
      "metadata": {
        "id": "7BOWG3CN6EoJ"
      }
    },
    {
      "cell_type": "markdown",
      "source": [
        "### Dropout + BatchNorm"
      ],
      "metadata": {
        "id": "p5W7x3tsXZ4g"
      }
    },
    {
      "cell_type": "code",
      "source": [
        "class FeedForwardImprov(nn.Module):\n",
        "  def __init__(self):\n",
        "    super(FeedForwardImprov, self).__init__()\n",
        "    self.fc1 = nn.Linear(3072, 1024)\n",
        "    self.bn1 = nn.BatchNorm1d(1024)\n",
        "\n",
        "    self.fc2 = nn.Linear(1024, 512)\n",
        "    self.bn2 = nn.BatchNorm1d(512)\n",
        "\n",
        "    self.fc3 = nn.Linear(512, 256)\n",
        "    self.bn3 = nn.BatchNorm1d(256)\n",
        "\n",
        "    self.fc4 = nn.Linear(256, 10)\n",
        "\n",
        "    # Dropouts (only on last 2 layers)\n",
        "    self.dropout2 = nn.Dropout(0.3)\n",
        "    self.dropout3 = nn.Dropout(0.3)\n",
        "\n",
        "  def forward_net(self, x):\n",
        "    x = F.relu(self.bn1(self.fc1(x)))\n",
        "    x = F.relu(self.bn2(self.fc2(x)))\n",
        "    x = self.dropout2(x)\n",
        "    x = F.relu(self.bn3(self.fc3(x)))\n",
        "    x = self.dropout3(x)\n",
        "    x = self.fc4(x)  # logits\n",
        "    return x"
      ],
      "metadata": {
        "id": "AIv9G_Td7C0O"
      },
      "execution_count": 48,
      "outputs": []
    },
    {
      "cell_type": "code",
      "source": [
        "imprv_model = FeedForwardImprov()"
      ],
      "metadata": {
        "id": "WqfvT3epMvwh"
      },
      "execution_count": 49,
      "outputs": []
    },
    {
      "cell_type": "code",
      "source": [
        "optimizer = torch.optim.SGD(imprv_model.parameters(), lr=0.01)"
      ],
      "metadata": {
        "id": "QD0dnyVRM8Y4"
      },
      "execution_count": 50,
      "outputs": []
    },
    {
      "cell_type": "code",
      "source": [
        "train(imprv_model, num_epochs=10)"
      ],
      "metadata": {
        "colab": {
          "base_uri": "https://localhost:8080/"
        },
        "collapsed": true,
        "id": "AOZDJFfqFXCp",
        "outputId": "adaca7f9-caa9-4ffc-fb5b-4c169db003b4"
      },
      "execution_count": 51,
      "outputs": [
        {
          "metadata": {
            "tags": null
          },
          "name": "stderr",
          "output_type": "stream",
          "text": [
            "Exception ignored in: <function _MultiProcessingDataLoaderIter.__del__ at 0x798394db1b20>\n",
            "Traceback (most recent call last):\n",
            "  File \"/usr/local/lib/python3.12/dist-packages/torch/utils/data/dataloader.py\", line 1664, in __del__\n",
            "    self._shutdown_workers()\n",
            "  File \"/usr/local/lib/python3.12/dist-packages/torch/utils/data/dataloader.py\", line 1647, in _shutdown_workers\n",
            "    if w.is_alive():\n",
            "       ^^^^^^^^^^^^\n",
            "  File \"/usr/lib/python3.12/multiprocessing/process.py\", line 160, in is_alive\n",
            "    assert self._parent_pid == os.getpid(), 'can only test a child process'\n",
            "           ^^^^^^^^^^^^^^^^^^^^^^^^^^^^^^^\n",
            "AssertionError: can only test a child processException ignored in: \n",
            "<function _MultiProcessingDataLoaderIter.__del__ at 0x798394db1b20>\n",
            "Traceback (most recent call last):\n",
            "  File \"/usr/local/lib/python3.12/dist-packages/torch/utils/data/dataloader.py\", line 1664, in __del__\n",
            "    self._shutdown_workers()\n",
            "  File \"/usr/local/lib/python3.12/dist-packages/torch/utils/data/dataloader.py\", line 1647, in _shutdown_workers\n",
            "    if w.is_alive():\n",
            "       ^^^^^^^^^^^^\n",
            "  File \"/usr/lib/python3.12/multiprocessing/process.py\", line 160, in is_alive\n",
            "    assert self._parent_pid == os.getpid(), 'can only test a child process'\n",
            "           ^^^^^^^^^^^^^^^^^^^^^^^^^^^^^^^\n",
            "AssertionError: can only test a child process\n"
          ]
        },
        {
          "metadata": {
            "tags": null
          },
          "name": "stdout",
          "output_type": "stream",
          "text": [
            "Epoch [1/10], Batch [10/211], Loss: 2.3428\n",
            "Epoch [1/10], Batch [20/211], Loss: 2.2332\n",
            "Epoch [1/10], Batch [30/211], Loss: 2.1680\n",
            "Epoch [1/10], Batch [40/211], Loss: 2.1074\n",
            "Epoch [1/10], Batch [50/211], Loss: 2.1368\n",
            "Epoch [1/10], Batch [60/211], Loss: 2.0793\n",
            "Epoch [1/10], Batch [70/211], Loss: 2.0142\n",
            "Epoch [1/10], Batch [80/211], Loss: 2.0486\n",
            "Epoch [1/10], Batch [90/211], Loss: 1.9966\n",
            "Epoch [1/10], Batch [100/211], Loss: 2.0280\n",
            "Epoch [1/10], Batch [110/211], Loss: 1.9753\n",
            "Epoch [1/10], Batch [120/211], Loss: 2.0107\n",
            "Epoch [1/10], Batch [130/211], Loss: 1.9747\n",
            "Epoch [1/10], Batch [140/211], Loss: 1.9525\n",
            "Epoch [1/10], Batch [150/211], Loss: 1.9256\n",
            "Epoch [1/10], Batch [160/211], Loss: 1.9524\n",
            "Epoch [1/10], Batch [170/211], Loss: 1.9460\n",
            "Epoch [1/10], Batch [180/211], Loss: 1.9571\n",
            "Epoch [1/10], Batch [190/211], Loss: 1.9166\n",
            "Epoch [1/10], Batch [200/211], Loss: 1.9349\n",
            "Epoch [1/10], Batch [210/211], Loss: 1.9444\n"
          ]
        },
        {
          "metadata": {
            "tags": null
          },
          "name": "stderr",
          "output_type": "stream",
          "text": [
            "Exception ignored in: <function _MultiProcessingDataLoaderIter.__del__ at 0x798394db1b20>\n",
            "Traceback (most recent call last):\n",
            "  File \"/usr/local/lib/python3.12/dist-packages/torch/utils/data/dataloader.py\", line 1664, in __del__\n",
            "    self._shutdown_workers()\n",
            "  File \"/usr/local/lib/python3.12/dist-packages/torch/utils/data/dataloader.py\", line 1647, in _shutdown_workers\n",
            "    if w.is_alive():\n",
            "       ^^^^^^^^^^^^\n",
            "  File \"/usr/lib/python3.12/multiprocessing/process.py\", line 160, in is_alive\n",
            "    assert self._parent_pid == os.getpid(), 'can only test a child process'\n",
            "           ^^^^^^^^^^^^^^^^^^^^^^^^^^^^^^^\n",
            "AssertionError: can only test a child process\n",
            "Exception ignored in: <function _MultiProcessingDataLoaderIter.__del__ at 0x798394db1b20>\n",
            "Traceback (most recent call last):\n",
            "  File \"/usr/local/lib/python3.12/dist-packages/torch/utils/data/dataloader.py\", line 1664, in __del__\n",
            "    self._shutdown_workers()\n",
            "  File \"/usr/local/lib/python3.12/dist-packages/torch/utils/data/dataloader.py\", line 1647, in _shutdown_workers\n",
            "    if w.is_alive():\n",
            "       ^^^^^^^^^^^^\n",
            "  File \"/usr/lib/python3.12/multiprocessing/process.py\", line 160, in is_alive\n",
            "    assert self._parent_pid == os.getpid(), 'can only test a child process'\n",
            "           ^^^^^^^^^^^^^^^^^^^^^^^^^^^^^^^\n",
            "AssertionError: can only test a child process\n"
          ]
        },
        {
          "metadata": {
            "tags": null
          },
          "name": "stdout",
          "output_type": "stream",
          "text": [
            "Epoch 1, Loss: 1.7719, Val Acc: 33.13%\n",
            "[2.3427685737609862, 2.2332273960113525, 2.1679977655410765, 2.1073614716529847, 2.1367919206619264, 2.079269766807556, 2.0141802191734315, 2.0485867857933044, 1.9966115951538086, 2.027991199493408, 1.9753178238868714, 2.010699784755707, 1.9746754884719848, 1.9524875283241272, 1.925552785396576, 1.952432918548584, 1.945958387851715, 1.9570708870887756, 1.9165975451469421, 1.934946393966675, 1.9443867087364197]\n",
            "Epoch [2/10], Batch [10/211], Loss: 1.7817\n",
            "Epoch [2/10], Batch [20/211], Loss: 1.8621\n"
          ]
        },
        {
          "metadata": {
            "tags": null
          },
          "name": "stderr",
          "output_type": "stream",
          "text": [
            "Exception ignored in: <function _MultiProcessingDataLoaderIter.__del__ at 0x798394db1b20>\n",
            "Traceback (most recent call last):\n",
            "  File \"/usr/local/lib/python3.12/dist-packages/torch/utils/data/dataloader.py\", line 1664, in __del__\n",
            "    self._shutdown_workers()\n",
            "  File \"/usr/local/lib/python3.12/dist-packages/torch/utils/data/dataloader.py\", line 1647, in _shutdown_workers\n",
            "    if w.is_alive():\n",
            "       ^^^^^^^^^^^^\n",
            "  File \"/usr/lib/python3.12/multiprocessing/process.py\", line 160, in is_alive\n",
            "    assert self._parent_pid == os.getpid(), 'can only test a child process'\n",
            "           ^^^^^^^^^^^^^^^^^^^^^^^^^^^^^^^\n",
            "AssertionError: can only test a child process\n"
          ]
        },
        {
          "metadata": {
            "tags": null
          },
          "name": "stdout",
          "output_type": "stream",
          "text": [
            "Epoch [2/10], Batch [30/211], Loss: 1.8237\n"
          ]
        },
        {
          "metadata": {
            "tags": null
          },
          "name": "stderr",
          "output_type": "stream",
          "text": [
            "Exception ignored in: <function _MultiProcessingDataLoaderIter.__del__ at 0x798394db1b20>\n",
            "Traceback (most recent call last):\n",
            "  File \"/usr/local/lib/python3.12/dist-packages/torch/utils/data/dataloader.py\", line 1664, in __del__\n",
            "    self._shutdown_workers()\n",
            "  File \"/usr/local/lib/python3.12/dist-packages/torch/utils/data/dataloader.py\", line 1647, in _shutdown_workers\n",
            "    if w.is_alive():\n",
            "       ^^^^^^^^^^^^\n",
            "  File \"/usr/lib/python3.12/multiprocessing/process.py\", line 160, in is_alive\n",
            "    assert self._parent_pid == os.getpid(), 'can only test a child process'\n",
            "           ^^^^^^^^^^^^^^^^^^^^^^^^^^^^^^^\n",
            "AssertionError: can only test a child process\n"
          ]
        },
        {
          "metadata": {
            "tags": null
          },
          "name": "stdout",
          "output_type": "stream",
          "text": [
            "Epoch [2/10], Batch [40/211], Loss: 1.8102\n",
            "Epoch [2/10], Batch [50/211], Loss: 1.8545\n",
            "Epoch [2/10], Batch [60/211], Loss: 1.8286\n",
            "Epoch [2/10], Batch [70/211], Loss: 1.8336\n",
            "Epoch [2/10], Batch [80/211], Loss: 1.8182\n",
            "Epoch [2/10], Batch [90/211], Loss: 1.8150\n",
            "Epoch [2/10], Batch [100/211], Loss: 1.8738\n",
            "Epoch [2/10], Batch [110/211], Loss: 1.7800\n",
            "Epoch [2/10], Batch [120/211], Loss: 1.8221\n",
            "Epoch [2/10], Batch [130/211], Loss: 1.8327\n",
            "Epoch [2/10], Batch [140/211], Loss: 1.8268\n",
            "Epoch [2/10], Batch [150/211], Loss: 1.8251\n",
            "Epoch [2/10], Batch [160/211], Loss: 1.8472\n",
            "Epoch [2/10], Batch [170/211], Loss: 1.8224\n",
            "Epoch [2/10], Batch [180/211], Loss: 1.7402\n",
            "Epoch [2/10], Batch [190/211], Loss: 1.8562\n",
            "Epoch [2/10], Batch [200/211], Loss: 1.8195\n",
            "Epoch [2/10], Batch [210/211], Loss: 1.8121\n"
          ]
        },
        {
          "metadata": {
            "tags": null
          },
          "name": "stderr",
          "output_type": "stream",
          "text": [
            "Exception ignored in: <function _MultiProcessingDataLoaderIter.__del__ at 0x798394db1b20>\n",
            "Traceback (most recent call last):\n",
            "  File \"/usr/local/lib/python3.12/dist-packages/torch/utils/data/dataloader.py\", line 1664, in __del__\n",
            "    self._shutdown_workers()\n",
            "  File \"/usr/local/lib/python3.12/dist-packages/torch/utils/data/dataloader.py\", line 1647, in _shutdown_workers\n",
            "    if w.is_alive():\n",
            "       ^^^^^^^^^^^^\n",
            "  File \"/usr/lib/python3.12/multiprocessing/process.py\", line 160, in is_alive\n",
            "    assert self._parent_pid == os.getpid(), 'can only test a child process'\n",
            "           ^^^^^^^^^^^^^^^^^^^^^^^^^^^^^^^\n",
            "AssertionError: can only test a child process\n",
            "Exception ignored in: <function _MultiProcessingDataLoaderIter.__del__ at 0x798394db1b20>\n",
            "Traceback (most recent call last):\n",
            "  File \"/usr/local/lib/python3.12/dist-packages/torch/utils/data/dataloader.py\", line 1664, in __del__\n",
            "    self._shutdown_workers()\n",
            "  File \"/usr/local/lib/python3.12/dist-packages/torch/utils/data/dataloader.py\", line 1647, in _shutdown_workers\n",
            "    if w.is_alive():\n",
            "       ^^^^^^^^^^^^\n",
            "  File \"/usr/lib/python3.12/multiprocessing/process.py\", line 160, in is_alive\n",
            "    assert self._parent_pid == os.getpid(), 'can only test a child process'\n",
            "           ^^^^^^^^^^^^^^^^^^^^^^^^^^^^^^^\n",
            "AssertionError: can only test a child process\n"
          ]
        },
        {
          "metadata": {
            "tags": null
          },
          "name": "stdout",
          "output_type": "stream",
          "text": [
            "Epoch 2, Loss: 1.8676, Val Acc: 34.76%\n",
            "[2.3427685737609862, 2.2332273960113525, 2.1679977655410765, 2.1073614716529847, 2.1367919206619264, 2.079269766807556, 2.0141802191734315, 2.0485867857933044, 1.9966115951538086, 2.027991199493408, 1.9753178238868714, 2.010699784755707, 1.9746754884719848, 1.9524875283241272, 1.925552785396576, 1.952432918548584, 1.945958387851715, 1.9570708870887756, 1.9165975451469421, 1.934946393966675, 1.9443867087364197, 1.7817241072654724, 1.862127673625946, 1.8236953973770142, 1.8102235198020935, 1.8544561624526978, 1.8285970330238341, 1.8336436986923217, 1.8182104706764222, 1.8150159120559692, 1.8738266348838806, 1.7800121903419495, 1.822070050239563, 1.83274188041687, 1.826763117313385, 1.8251437664031982, 1.847186839580536, 1.8223860025405885, 1.7402078628540039, 1.856213343143463, 1.8195152759552002, 1.812065064907074]\n"
          ]
        },
        {
          "metadata": {
            "tags": null
          },
          "name": "stderr",
          "output_type": "stream",
          "text": [
            "Exception ignored in: <function _MultiProcessingDataLoaderIter.__del__ at 0x798394db1b20>\n",
            "Traceback (most recent call last):\n",
            "  File \"/usr/local/lib/python3.12/dist-packages/torch/utils/data/dataloader.py\", line 1664, in __del__\n",
            "    self._shutdown_workers()Exception ignored in: <function _MultiProcessingDataLoaderIter.__del__ at 0x798394db1b20>\n",
            "\n",
            "Traceback (most recent call last):\n",
            "  File \"/usr/local/lib/python3.12/dist-packages/torch/utils/data/dataloader.py\", line 1647, in _shutdown_workers\n",
            "  File \"/usr/local/lib/python3.12/dist-packages/torch/utils/data/dataloader.py\", line 1664, in __del__\n",
            "        self._shutdown_workers()if w.is_alive():\n",
            "\n",
            "  File \"/usr/local/lib/python3.12/dist-packages/torch/utils/data/dataloader.py\", line 1647, in _shutdown_workers\n",
            "        if w.is_alive():\n",
            "     ^  ^^  ^ ^^^^^^^^^^^^^^^^^^^\n",
            "^  File \"/usr/lib/python3.12/multiprocessing/process.py\", line 160, in is_alive\n",
            "\n",
            "      File \"/usr/lib/python3.12/multiprocessing/process.py\", line 160, in is_alive\n",
            "assert self._parent_pid == os.getpid(), 'can only test a child process'    \n",
            "assert self._parent_pid == os.getpid(), 'can only test a child process' \n",
            "                  ^^^ ^  ^^^^^^^^^^^^^^^^^^^^^^^^^^^^^^^^^^^^^^^^^^^^^^^^\n",
            "AssertionError: can only test a child process\n",
            "^^^^^^^^^^\n",
            "AssertionError: can only test a child process\n"
          ]
        },
        {
          "metadata": {
            "tags": null
          },
          "name": "stdout",
          "output_type": "stream",
          "text": [
            "Epoch [3/10], Batch [10/211], Loss: 1.7170\n",
            "Epoch [3/10], Batch [20/211], Loss: 1.7057\n",
            "Epoch [3/10], Batch [30/211], Loss: 1.6881\n",
            "Epoch [3/10], Batch [40/211], Loss: 1.7523\n",
            "Epoch [3/10], Batch [50/211], Loss: 1.7326\n",
            "Epoch [3/10], Batch [60/211], Loss: 1.7439\n",
            "Epoch [3/10], Batch [70/211], Loss: 1.6634\n",
            "Epoch [3/10], Batch [80/211], Loss: 1.6887\n",
            "Epoch [3/10], Batch [90/211], Loss: 1.7538\n",
            "Epoch [3/10], Batch [100/211], Loss: 1.7286\n",
            "Epoch [3/10], Batch [110/211], Loss: 1.7795\n",
            "Epoch [3/10], Batch [120/211], Loss: 1.6987\n",
            "Epoch [3/10], Batch [130/211], Loss: 1.6723\n",
            "Epoch [3/10], Batch [140/211], Loss: 1.6984\n",
            "Epoch [3/10], Batch [150/211], Loss: 1.7143\n",
            "Epoch [3/10], Batch [160/211], Loss: 1.7703\n",
            "Epoch [3/10], Batch [170/211], Loss: 1.7345\n",
            "Epoch [3/10], Batch [180/211], Loss: 1.6896\n",
            "Epoch [3/10], Batch [190/211], Loss: 1.7364\n",
            "Epoch [3/10], Batch [200/211], Loss: 1.7485\n",
            "Epoch [3/10], Batch [210/211], Loss: 1.7407\n"
          ]
        },
        {
          "metadata": {
            "tags": null
          },
          "name": "stderr",
          "output_type": "stream",
          "text": [
            "Exception ignored in: <function _MultiProcessingDataLoaderIter.__del__ at 0x798394db1b20>\n",
            "Traceback (most recent call last):\n",
            "  File \"/usr/local/lib/python3.12/dist-packages/torch/utils/data/dataloader.py\", line 1664, in __del__\n",
            "    self._shutdown_workers()\n",
            "  File \"/usr/local/lib/python3.12/dist-packages/torch/utils/data/dataloader.py\", line 1647, in _shutdown_workers\n",
            "    if w.is_alive():\n",
            "    Exception ignored in:  <function _MultiProcessingDataLoaderIter.__del__ at 0x798394db1b20> \n",
            "Traceback (most recent call last):\n",
            "  File \"/usr/local/lib/python3.12/dist-packages/torch/utils/data/dataloader.py\", line 1664, in __del__\n",
            " ^    self._shutdown_workers()^^\n",
            "^^  File \"/usr/local/lib/python3.12/dist-packages/torch/utils/data/dataloader.py\", line 1647, in _shutdown_workers\n",
            "    ^if w.is_alive():^\n",
            " ^^  ^^ ^ \n",
            "  File \"/usr/lib/python3.12/multiprocessing/process.py\", line 160, in is_alive\n",
            "      assert self._parent_pid == os.getpid(), 'can only test a child process'^\n",
            "^  ^^^ ^    ^ ^^   ^^^^^^\n",
            "^^^^^  File \"/usr/lib/python3.12/multiprocessing/process.py\", line 160, in is_alive\n",
            "^^    assert self._parent_pid == os.getpid(), 'can only test a child process'\n",
            "      ^  ^ ^ ^^ ^^^^^^^^^^^^^^^^^^^^^^^^^^^^^^^^^\n",
            "AssertionError: ^^can only test a child process\n",
            "^^^^^^^^^^^^\n",
            "AssertionError: can only test a child process\n"
          ]
        },
        {
          "metadata": {
            "tags": null
          },
          "name": "stdout",
          "output_type": "stream",
          "text": [
            "Epoch 3, Loss: 1.6772, Val Acc: 36.10%\n",
            "[2.3427685737609862, 2.2332273960113525, 2.1679977655410765, 2.1073614716529847, 2.1367919206619264, 2.079269766807556, 2.0141802191734315, 2.0485867857933044, 1.9966115951538086, 2.027991199493408, 1.9753178238868714, 2.010699784755707, 1.9746754884719848, 1.9524875283241272, 1.925552785396576, 1.952432918548584, 1.945958387851715, 1.9570708870887756, 1.9165975451469421, 1.934946393966675, 1.9443867087364197, 1.7817241072654724, 1.862127673625946, 1.8236953973770142, 1.8102235198020935, 1.8544561624526978, 1.8285970330238341, 1.8336436986923217, 1.8182104706764222, 1.8150159120559692, 1.8738266348838806, 1.7800121903419495, 1.822070050239563, 1.83274188041687, 1.826763117313385, 1.8251437664031982, 1.847186839580536, 1.8223860025405885, 1.7402078628540039, 1.856213343143463, 1.8195152759552002, 1.812065064907074, 1.7169915437698364, 1.7056764483451843, 1.6881245255470276, 1.7522826671600342, 1.7325968265533447, 1.7438870787620544, 1.6633850455284118, 1.6886678457260131, 1.7538267016410827, 1.728643035888672, 1.7795062065124512, 1.6986849546432494, 1.6723377227783203, 1.6983836889266968, 1.7142734050750732, 1.7702695965766906, 1.7344820618629455, 1.6896422505378723, 1.736359703540802, 1.7485469818115233, 1.7407087445259095]\n"
          ]
        },
        {
          "metadata": {
            "tags": null
          },
          "name": "stderr",
          "output_type": "stream",
          "text": [
            "Exception ignored in: <function _MultiProcessingDataLoaderIter.__del__ at 0x798394db1b20>\n",
            "Traceback (most recent call last):\n",
            "  File \"/usr/local/lib/python3.12/dist-packages/torch/utils/data/dataloader.py\", line 1664, in __del__\n",
            "    self._shutdown_workers()\n",
            "  File \"/usr/local/lib/python3.12/dist-packages/torch/utils/data/dataloader.py\", line 1647, in _shutdown_workers\n",
            "    if w.is_alive():\n",
            "       ^^^^^^^^^^^^\n",
            "  File \"/usr/lib/python3.12/multiprocessing/process.py\", line 160, in is_alive\n",
            "    assert self._parent_pid == os.getpid(), 'can only test a child process'\n",
            "           ^^^^^^^^^^^^^^^^^^^^^^^^^^^^^^\n",
            "AssertionError^: can only test a child process\n",
            "Exception ignored in: <function _MultiProcessingDataLoaderIter.__del__ at 0x798394db1b20>\n",
            "Traceback (most recent call last):\n",
            "  File \"/usr/local/lib/python3.12/dist-packages/torch/utils/data/dataloader.py\", line 1664, in __del__\n",
            "    self._shutdown_workers()\n",
            "  File \"/usr/local/lib/python3.12/dist-packages/torch/utils/data/dataloader.py\", line 1647, in _shutdown_workers\n",
            "    if w.is_alive():\n",
            "       ^^^^^^^^^^^^\n",
            "  File \"/usr/lib/python3.12/multiprocessing/process.py\", line 160, in is_alive\n",
            "    assert self._parent_pid == os.getpid(), 'can only test a child process'\n",
            "           ^^^^^^^^^^^^^^^^^^^^^^^^^^^^^^^\n",
            "AssertionError: can only test a child process\n"
          ]
        },
        {
          "metadata": {
            "tags": null
          },
          "name": "stdout",
          "output_type": "stream",
          "text": [
            "Epoch [4/10], Batch [10/211], Loss: 1.6598\n",
            "Epoch [4/10], Batch [20/211], Loss: 1.6244\n",
            "Epoch [4/10], Batch [30/211], Loss: 1.6504\n",
            "Epoch [4/10], Batch [40/211], Loss: 1.5952\n",
            "Epoch [4/10], Batch [50/211], Loss: 1.6620\n",
            "Epoch [4/10], Batch [60/211], Loss: 1.6593\n",
            "Epoch [4/10], Batch [70/211], Loss: 1.6403\n",
            "Epoch [4/10], Batch [80/211], Loss: 1.6255\n",
            "Epoch [4/10], Batch [90/211], Loss: 1.6779\n",
            "Epoch [4/10], Batch [100/211], Loss: 1.6222\n",
            "Epoch [4/10], Batch [110/211], Loss: 1.6601\n",
            "Epoch [4/10], Batch [120/211], Loss: 1.6555\n",
            "Epoch [4/10], Batch [130/211], Loss: 1.6169\n",
            "Epoch [4/10], Batch [140/211], Loss: 1.6643\n",
            "Epoch [4/10], Batch [150/211], Loss: 1.7111\n",
            "Epoch [4/10], Batch [160/211], Loss: 1.7005\n",
            "Epoch [4/10], Batch [170/211], Loss: 1.6497\n",
            "Epoch [4/10], Batch [180/211], Loss: 1.6494\n",
            "Epoch [4/10], Batch [190/211], Loss: 1.5951\n",
            "Epoch [4/10], Batch [200/211], Loss: 1.6476\n",
            "Epoch [4/10], Batch [210/211], Loss: 1.6309\n"
          ]
        },
        {
          "metadata": {
            "tags": null
          },
          "name": "stderr",
          "output_type": "stream",
          "text": [
            "Exception ignored in: <function _MultiProcessingDataLoaderIter.__del__ at 0x798394db1b20>\n",
            "Traceback (most recent call last):\n",
            "  File \"/usr/local/lib/python3.12/dist-packages/torch/utils/data/dataloader.py\", line 1664, in __del__\n",
            "    self._shutdown_workers()\n",
            "  File \"/usr/local/lib/python3.12/dist-packages/torch/utils/data/dataloader.py\", line 1647, in _shutdown_workers\n",
            "    if w.is_alive():\n",
            "       ^^^^^^^^^^^^\n",
            "  File \"/usr/lib/python3.12/multiprocessing/process.py\", line 160, in is_alive\n",
            "    assert self._parent_pid == os.getpid(), 'can only test a child process'\n",
            "           ^^^^^^^^^^^^^^^^^^^^^^^^^^^^^^^\n",
            "AssertionError: can only test a child process\n",
            "Exception ignored in: <function _MultiProcessingDataLoaderIter.__del__ at 0x798394db1b20>\n",
            "Traceback (most recent call last):\n",
            "  File \"/usr/local/lib/python3.12/dist-packages/torch/utils/data/dataloader.py\", line 1664, in __del__\n",
            "    self._shutdown_workers()\n",
            "  File \"/usr/local/lib/python3.12/dist-packages/torch/utils/data/dataloader.py\", line 1647, in _shutdown_workers\n",
            "    if w.is_alive():\n",
            "       ^^^^^^^^^^^^\n",
            "  File \"/usr/lib/python3.12/multiprocessing/process.py\", line 160, in is_alive\n",
            "    assert self._parent_pid == os.getpid(), 'can only test a child process'\n",
            "           ^^^^^^^^^^^^^^^^^^^^^^^^^^^^^^^\n",
            "AssertionError: can only test a child process\n"
          ]
        },
        {
          "metadata": {
            "tags": null
          },
          "name": "stdout",
          "output_type": "stream",
          "text": [
            "Epoch 4, Loss: 1.5842, Val Acc: 36.70%\n",
            "[2.3427685737609862, 2.2332273960113525, 2.1679977655410765, 2.1073614716529847, 2.1367919206619264, 2.079269766807556, 2.0141802191734315, 2.0485867857933044, 1.9966115951538086, 2.027991199493408, 1.9753178238868714, 2.010699784755707, 1.9746754884719848, 1.9524875283241272, 1.925552785396576, 1.952432918548584, 1.945958387851715, 1.9570708870887756, 1.9165975451469421, 1.934946393966675, 1.9443867087364197, 1.7817241072654724, 1.862127673625946, 1.8236953973770142, 1.8102235198020935, 1.8544561624526978, 1.8285970330238341, 1.8336436986923217, 1.8182104706764222, 1.8150159120559692, 1.8738266348838806, 1.7800121903419495, 1.822070050239563, 1.83274188041687, 1.826763117313385, 1.8251437664031982, 1.847186839580536, 1.8223860025405885, 1.7402078628540039, 1.856213343143463, 1.8195152759552002, 1.812065064907074, 1.7169915437698364, 1.7056764483451843, 1.6881245255470276, 1.7522826671600342, 1.7325968265533447, 1.7438870787620544, 1.6633850455284118, 1.6886678457260131, 1.7538267016410827, 1.728643035888672, 1.7795062065124512, 1.6986849546432494, 1.6723377227783203, 1.6983836889266968, 1.7142734050750732, 1.7702695965766906, 1.7344820618629455, 1.6896422505378723, 1.736359703540802, 1.7485469818115233, 1.7407087445259095, 1.659796917438507, 1.6243707537651062, 1.6504254460334777, 1.5951674461364747, 1.6620031476020813, 1.659321165084839, 1.6403156757354735, 1.6255040407180785, 1.6779348254203796, 1.6222221612930299, 1.660126769542694, 1.655488705635071, 1.6168835043907166, 1.664253556728363, 1.7110879302024842, 1.7004881381988526, 1.649702000617981, 1.649444055557251, 1.5950687289237977, 1.6475657105445862, 1.6309085011482238]\n"
          ]
        },
        {
          "metadata": {
            "tags": null
          },
          "name": "stderr",
          "output_type": "stream",
          "text": [
            "Exception ignored in: <function _MultiProcessingDataLoaderIter.__del__ at 0x798394db1b20>\n",
            "Exception ignored in: <function _MultiProcessingDataLoaderIter.__del__ at 0x798394db1b20>\n",
            "Traceback (most recent call last):\n",
            "  File \"/usr/local/lib/python3.12/dist-packages/torch/utils/data/dataloader.py\", line 1664, in __del__\n",
            "    self._shutdown_workers()\n",
            "  File \"/usr/local/lib/python3.12/dist-packages/torch/utils/data/dataloader.py\", line 1647, in _shutdown_workers\n",
            "Traceback (most recent call last):\n",
            "  File \"/usr/local/lib/python3.12/dist-packages/torch/utils/data/dataloader.py\", line 1664, in __del__\n",
            "        if w.is_alive():self._shutdown_workers()\n",
            "\n",
            "   File \"/usr/local/lib/python3.12/dist-packages/torch/utils/data/dataloader.py\", line 1647, in _shutdown_workers\n",
            "      if w.is_alive(): \n",
            "      ^ ^^  ^ ^^^^^^^^^^^^^^^^^^^\n",
            "^\n",
            "  File \"/usr/lib/python3.12/multiprocessing/process.py\", line 160, in is_alive\n",
            "  File \"/usr/lib/python3.12/multiprocessing/process.py\", line 160, in is_alive\n",
            "        assert self._parent_pid == os.getpid(), 'can only test a child process'assert self._parent_pid == os.getpid(), 'can only test a child process'\n",
            "\n",
            "                     ^ ^^^^^^^^^^^^^^^^^^^^^^^^^^^^^^^^^^^^^^^^^^^^^^^^^^^^^^^^^\n",
            "^AssertionError^: ^can only test a child process^\n",
            "\n",
            "AssertionError: can only test a child process\n"
          ]
        },
        {
          "metadata": {
            "tags": null
          },
          "name": "stdout",
          "output_type": "stream",
          "text": [
            "Epoch [5/10], Batch [10/211], Loss: 1.5457\n",
            "Epoch [5/10], Batch [20/211], Loss: 1.5358\n",
            "Epoch [5/10], Batch [30/211], Loss: 1.5743\n",
            "Epoch [5/10], Batch [40/211], Loss: 1.5218\n",
            "Epoch [5/10], Batch [50/211], Loss: 1.5758\n",
            "Epoch [5/10], Batch [60/211], Loss: 1.5583\n",
            "Epoch [5/10], Batch [70/211], Loss: 1.5597\n",
            "Epoch [5/10], Batch [80/211], Loss: 1.6087\n",
            "Epoch [5/10], Batch [90/211], Loss: 1.5460\n",
            "Epoch [5/10], Batch [100/211], Loss: 1.5430\n",
            "Epoch [5/10], Batch [110/211], Loss: 1.6159\n",
            "Epoch [5/10], Batch [120/211], Loss: 1.5654\n",
            "Epoch [5/10], Batch [130/211], Loss: 1.6255\n",
            "Epoch [5/10], Batch [140/211], Loss: 1.5810\n",
            "Epoch [5/10], Batch [150/211], Loss: 1.6205\n",
            "Epoch [5/10], Batch [160/211], Loss: 1.4798\n",
            "Epoch [5/10], Batch [170/211], Loss: 1.5817\n",
            "Epoch [5/10], Batch [180/211], Loss: 1.6220\n",
            "Epoch [5/10], Batch [190/211], Loss: 1.5878\n",
            "Epoch [5/10], Batch [200/211], Loss: 1.5647\n",
            "Epoch [5/10], Batch [210/211], Loss: 1.6313\n"
          ]
        },
        {
          "metadata": {
            "tags": null
          },
          "name": "stderr",
          "output_type": "stream",
          "text": [
            "Exception ignored in: <function _MultiProcessingDataLoaderIter.__del__ at 0x798394db1b20>Traceback (most recent call last):\n",
            "\n",
            "  File \"/usr/local/lib/python3.12/dist-packages/torch/utils/data/dataloader.py\", line 1664, in __del__\n",
            "    self._shutdown_workers()\n",
            "  File \"/usr/local/lib/python3.12/dist-packages/torch/utils/data/dataloader.py\", line 1647, in _shutdown_workers\n",
            "    if w.is_alive():\n",
            "       ^^^^^^^^^^^^\n",
            "  File \"/usr/lib/python3.12/multiprocessing/process.py\", line 160, in is_alive\n",
            "    assert self._parent_pid == os.getpid(), 'can only test a child process'\n",
            "           ^^^^^^^^^^^^^^^^^^^^^^^^^^^^^^^\n",
            "AssertionError: can only test a child process\n",
            "Exception ignored in: <function _MultiProcessingDataLoaderIter.__del__ at 0x798394db1b20>\n",
            "Traceback (most recent call last):\n",
            "  File \"/usr/local/lib/python3.12/dist-packages/torch/utils/data/dataloader.py\", line 1664, in __del__\n",
            "    self._shutdown_workers()\n",
            "  File \"/usr/local/lib/python3.12/dist-packages/torch/utils/data/dataloader.py\", line 1647, in _shutdown_workers\n",
            "    if w.is_alive():\n",
            "       ^^^^^^^^^^^^\n",
            "  File \"/usr/lib/python3.12/multiprocessing/process.py\", line 160, in is_alive\n",
            "    assert self._parent_pid == os.getpid(), 'can only test a child process'\n",
            "           ^^^^^^^^^^^^^^^^^^^^^^^^^^^^^^^\n",
            "AssertionError: can only test a child process\n"
          ]
        },
        {
          "metadata": {
            "tags": null
          },
          "name": "stdout",
          "output_type": "stream",
          "text": [
            "Epoch 5, Loss: 1.5783, Val Acc: 37.52%\n",
            "[2.3427685737609862, 2.2332273960113525, 2.1679977655410765, 2.1073614716529847, 2.1367919206619264, 2.079269766807556, 2.0141802191734315, 2.0485867857933044, 1.9966115951538086, 2.027991199493408, 1.9753178238868714, 2.010699784755707, 1.9746754884719848, 1.9524875283241272, 1.925552785396576, 1.952432918548584, 1.945958387851715, 1.9570708870887756, 1.9165975451469421, 1.934946393966675, 1.9443867087364197, 1.7817241072654724, 1.862127673625946, 1.8236953973770142, 1.8102235198020935, 1.8544561624526978, 1.8285970330238341, 1.8336436986923217, 1.8182104706764222, 1.8150159120559692, 1.8738266348838806, 1.7800121903419495, 1.822070050239563, 1.83274188041687, 1.826763117313385, 1.8251437664031982, 1.847186839580536, 1.8223860025405885, 1.7402078628540039, 1.856213343143463, 1.8195152759552002, 1.812065064907074, 1.7169915437698364, 1.7056764483451843, 1.6881245255470276, 1.7522826671600342, 1.7325968265533447, 1.7438870787620544, 1.6633850455284118, 1.6886678457260131, 1.7538267016410827, 1.728643035888672, 1.7795062065124512, 1.6986849546432494, 1.6723377227783203, 1.6983836889266968, 1.7142734050750732, 1.7702695965766906, 1.7344820618629455, 1.6896422505378723, 1.736359703540802, 1.7485469818115233, 1.7407087445259095, 1.659796917438507, 1.6243707537651062, 1.6504254460334777, 1.5951674461364747, 1.6620031476020813, 1.659321165084839, 1.6403156757354735, 1.6255040407180785, 1.6779348254203796, 1.6222221612930299, 1.660126769542694, 1.655488705635071, 1.6168835043907166, 1.664253556728363, 1.7110879302024842, 1.7004881381988526, 1.649702000617981, 1.649444055557251, 1.5950687289237977, 1.6475657105445862, 1.6309085011482238, 1.5457282543182373, 1.5357600212097169, 1.5742624282836915, 1.521789789199829, 1.575757658481598, 1.558326256275177, 1.5597050189971924, 1.6086605429649352, 1.5460211396217347, 1.542988896369934, 1.6159460067749023, 1.565370011329651, 1.6254981756210327, 1.5809609055519105, 1.620530891418457, 1.4797585606575012, 1.5816820025444032, 1.621950876712799, 1.5878224968910217, 1.5646510601043702, 1.6313327074050903]\n"
          ]
        },
        {
          "metadata": {
            "tags": null
          },
          "name": "stderr",
          "output_type": "stream",
          "text": [
            "Exception ignored in: <function _MultiProcessingDataLoaderIter.__del__ at 0x798394db1b20>\n",
            "Traceback (most recent call last):\n",
            "  File \"/usr/local/lib/python3.12/dist-packages/torch/utils/data/dataloader.py\", line 1664, in __del__\n",
            "    self._shutdown_workers()\n",
            "  File \"/usr/local/lib/python3.12/dist-packages/torch/utils/data/dataloader.py\", line 1647, in _shutdown_workers\n",
            "    if w.is_alive():\n",
            "       ^^^^^^^^^^^^\n",
            "  File \"/usr/lib/python3.12/multiprocessing/process.py\", line 160, in is_alive\n",
            "    assert self._parent_pid == os.getpid(), 'can only test a child process'\n",
            "           ^^^^^^^^^^^^^^^^^^^^^^^^^^^^^^^\n",
            "AssertionError: can only test a child process\n"
          ]
        },
        {
          "metadata": {
            "tags": null
          },
          "name": "stdout",
          "output_type": "stream",
          "text": [
            "Epoch [6/10], Batch [10/211], Loss: 1.4830\n"
          ]
        },
        {
          "metadata": {
            "tags": null
          },
          "name": "stderr",
          "output_type": "stream",
          "text": [
            "Exception ignored in: <function _MultiProcessingDataLoaderIter.__del__ at 0x798394db1b20>\n",
            "Traceback (most recent call last):\n",
            "  File \"/usr/local/lib/python3.12/dist-packages/torch/utils/data/dataloader.py\", line 1664, in __del__\n",
            "    self._shutdown_workers()\n",
            "  File \"/usr/local/lib/python3.12/dist-packages/torch/utils/data/dataloader.py\", line 1647, in _shutdown_workers\n",
            "    if w.is_alive():\n",
            "       ^^^^^^^^^^^^\n",
            "  File \"/usr/lib/python3.12/multiprocessing/process.py\", line 160, in is_alive\n",
            "    assert self._parent_pid == os.getpid(), 'can only test a child process'\n",
            "           ^^^^^^^^^^^^^^^^^^^^^^^^^^^^^^^\n",
            "AssertionError: can only test a child process\n"
          ]
        },
        {
          "metadata": {
            "tags": null
          },
          "name": "stdout",
          "output_type": "stream",
          "text": [
            "Epoch [6/10], Batch [20/211], Loss: 1.4717\n",
            "Epoch [6/10], Batch [30/211], Loss: 1.5156\n",
            "Epoch [6/10], Batch [40/211], Loss: 1.4273\n",
            "Epoch [6/10], Batch [50/211], Loss: 1.5195\n",
            "Epoch [6/10], Batch [60/211], Loss: 1.4836\n",
            "Epoch [6/10], Batch [70/211], Loss: 1.4809\n",
            "Epoch [6/10], Batch [80/211], Loss: 1.5454\n",
            "Epoch [6/10], Batch [90/211], Loss: 1.5052\n",
            "Epoch [6/10], Batch [100/211], Loss: 1.4777\n",
            "Epoch [6/10], Batch [110/211], Loss: 1.5143\n",
            "Epoch [6/10], Batch [120/211], Loss: 1.5034\n",
            "Epoch [6/10], Batch [130/211], Loss: 1.5573\n",
            "Epoch [6/10], Batch [140/211], Loss: 1.5396\n",
            "Epoch [6/10], Batch [150/211], Loss: 1.4949\n",
            "Epoch [6/10], Batch [160/211], Loss: 1.4789\n",
            "Epoch [6/10], Batch [170/211], Loss: 1.5522\n",
            "Epoch [6/10], Batch [180/211], Loss: 1.4989\n",
            "Epoch [6/10], Batch [190/211], Loss: 1.5341\n",
            "Epoch [6/10], Batch [200/211], Loss: 1.5108\n",
            "Epoch [6/10], Batch [210/211], Loss: 1.5324\n"
          ]
        },
        {
          "metadata": {
            "tags": null
          },
          "name": "stderr",
          "output_type": "stream",
          "text": [
            "Exception ignored in: <function _MultiProcessingDataLoaderIter.__del__ at 0x798394db1b20>\n",
            "Traceback (most recent call last):\n",
            "Exception ignored in: <function _MultiProcessingDataLoaderIter.__del__ at 0x798394db1b20>\n",
            "  File \"/usr/local/lib/python3.12/dist-packages/torch/utils/data/dataloader.py\", line 1664, in __del__\n",
            "Traceback (most recent call last):\n",
            "  File \"/usr/local/lib/python3.12/dist-packages/torch/utils/data/dataloader.py\", line 1664, in __del__\n",
            "    self._shutdown_workers()\n",
            "  File \"/usr/local/lib/python3.12/dist-packages/torch/utils/data/dataloader.py\", line 1647, in _shutdown_workers\n",
            "    self._shutdown_workers()    if w.is_alive():\n",
            "  \n",
            "  File \"/usr/local/lib/python3.12/dist-packages/torch/utils/data/dataloader.py\", line 1647, in _shutdown_workers\n",
            "      if w.is_alive(): \n",
            "    ^  ^^  ^^ ^^^^^^^^^^^^\n",
            "  File \"/usr/lib/python3.12/multiprocessing/process.py\", line 160, in is_alive\n",
            "^    ^^assert self._parent_pid == os.getpid(), 'can only test a child process'^\n",
            "^^^ \n",
            "   File \"/usr/lib/python3.12/multiprocessing/process.py\", line 160, in is_alive\n",
            "        assert self._parent_pid == os.getpid(), 'can only test a child process'  \n",
            "         ^^   ^^^^ ^ ^^^^^^^^^^^^^^^^^^^^^^^^^^^^^^^^^^^^^^^^^^^^^^^^\n",
            "^^AssertionError^: can only test a child process^^^\n",
            "^\n",
            "AssertionError: can only test a child process\n"
          ]
        },
        {
          "metadata": {
            "tags": null
          },
          "name": "stdout",
          "output_type": "stream",
          "text": [
            "Epoch 6, Loss: 1.5618, Val Acc: 37.54%\n",
            "[2.3427685737609862, 2.2332273960113525, 2.1679977655410765, 2.1073614716529847, 2.1367919206619264, 2.079269766807556, 2.0141802191734315, 2.0485867857933044, 1.9966115951538086, 2.027991199493408, 1.9753178238868714, 2.010699784755707, 1.9746754884719848, 1.9524875283241272, 1.925552785396576, 1.952432918548584, 1.945958387851715, 1.9570708870887756, 1.9165975451469421, 1.934946393966675, 1.9443867087364197, 1.7817241072654724, 1.862127673625946, 1.8236953973770142, 1.8102235198020935, 1.8544561624526978, 1.8285970330238341, 1.8336436986923217, 1.8182104706764222, 1.8150159120559692, 1.8738266348838806, 1.7800121903419495, 1.822070050239563, 1.83274188041687, 1.826763117313385, 1.8251437664031982, 1.847186839580536, 1.8223860025405885, 1.7402078628540039, 1.856213343143463, 1.8195152759552002, 1.812065064907074, 1.7169915437698364, 1.7056764483451843, 1.6881245255470276, 1.7522826671600342, 1.7325968265533447, 1.7438870787620544, 1.6633850455284118, 1.6886678457260131, 1.7538267016410827, 1.728643035888672, 1.7795062065124512, 1.6986849546432494, 1.6723377227783203, 1.6983836889266968, 1.7142734050750732, 1.7702695965766906, 1.7344820618629455, 1.6896422505378723, 1.736359703540802, 1.7485469818115233, 1.7407087445259095, 1.659796917438507, 1.6243707537651062, 1.6504254460334777, 1.5951674461364747, 1.6620031476020813, 1.659321165084839, 1.6403156757354735, 1.6255040407180785, 1.6779348254203796, 1.6222221612930299, 1.660126769542694, 1.655488705635071, 1.6168835043907166, 1.664253556728363, 1.7110879302024842, 1.7004881381988526, 1.649702000617981, 1.649444055557251, 1.5950687289237977, 1.6475657105445862, 1.6309085011482238, 1.5457282543182373, 1.5357600212097169, 1.5742624282836915, 1.521789789199829, 1.575757658481598, 1.558326256275177, 1.5597050189971924, 1.6086605429649352, 1.5460211396217347, 1.542988896369934, 1.6159460067749023, 1.565370011329651, 1.6254981756210327, 1.5809609055519105, 1.620530891418457, 1.4797585606575012, 1.5816820025444032, 1.621950876712799, 1.5878224968910217, 1.5646510601043702, 1.6313327074050903, 1.4829907298088074, 1.4716938614845276, 1.5156193137168885, 1.4273401021957397, 1.519498884677887, 1.4836417078971862, 1.4808840036392212, 1.545357310771942, 1.5051954984664917, 1.4777067661285401, 1.5143160104751587, 1.5033835768699646, 1.5572930693626403, 1.539601981639862, 1.4949320435523987, 1.4788618683815002, 1.5522314667701722, 1.4989477157592774, 1.5340582013130188, 1.510805857181549, 1.5324299097061158]\n"
          ]
        },
        {
          "metadata": {
            "tags": null
          },
          "name": "stderr",
          "output_type": "stream",
          "text": [
            "Exception ignored in: <function _MultiProcessingDataLoaderIter.__del__ at 0x798394db1b20>\n",
            "Traceback (most recent call last):\n",
            "  File \"/usr/local/lib/python3.12/dist-packages/torch/utils/data/dataloader.py\", line 1664, in __del__\n",
            "    self._shutdown_workers()\n",
            "  File \"/usr/local/lib/python3.12/dist-packages/torch/utils/data/dataloader.py\", line 1647, in _shutdown_workers\n",
            "    if w.is_alive():\n",
            "       ^^^^^^^^^^^^\n",
            "  File \"/usr/lib/python3.12/multiprocessing/process.py\", line 160, in is_alive\n",
            "    assert self._parent_pid == os.getpid(), 'can only test a child process'\n",
            "           ^^^^^^^^^^^^^^^^^^^^^^^^^^^^^^^\n",
            "AssertionError: can only test a child process\n",
            "Exception ignored in: <function _MultiProcessingDataLoaderIter.__del__ at 0x798394db1b20>\n",
            "Traceback (most recent call last):\n",
            "  File \"/usr/local/lib/python3.12/dist-packages/torch/utils/data/dataloader.py\", line 1664, in __del__\n",
            "    self._shutdown_workers()\n",
            "  File \"/usr/local/lib/python3.12/dist-packages/torch/utils/data/dataloader.py\", line 1647, in _shutdown_workers\n",
            "    if w.is_alive():\n",
            "       ^^^^^^^^^^^^\n",
            "  File \"/usr/lib/python3.12/multiprocessing/process.py\", line 160, in is_alive\n",
            "    assert self._parent_pid == os.getpid(), 'can only test a child process'\n",
            "           ^^^^^^^^^^^^^^^^^^^^^^^^^^^^^^^\n",
            "AssertionError: can only test a child process\n"
          ]
        },
        {
          "metadata": {
            "tags": null
          },
          "name": "stdout",
          "output_type": "stream",
          "text": [
            "Epoch [7/10], Batch [10/211], Loss: 1.3839\n",
            "Epoch [7/10], Batch [20/211], Loss: 1.4334\n",
            "Epoch [7/10], Batch [30/211], Loss: 1.4417\n",
            "Epoch [7/10], Batch [40/211], Loss: 1.4487\n",
            "Epoch [7/10], Batch [50/211], Loss: 1.4344\n",
            "Epoch [7/10], Batch [60/211], Loss: 1.4363\n",
            "Epoch [7/10], Batch [70/211], Loss: 1.4025\n",
            "Epoch [7/10], Batch [80/211], Loss: 1.4517\n",
            "Epoch [7/10], Batch [90/211], Loss: 1.3897\n",
            "Epoch [7/10], Batch [100/211], Loss: 1.4491\n",
            "Epoch [7/10], Batch [110/211], Loss: 1.4007\n",
            "Epoch [7/10], Batch [120/211], Loss: 1.4225\n",
            "Epoch [7/10], Batch [130/211], Loss: 1.4437\n",
            "Epoch [7/10], Batch [140/211], Loss: 1.3743\n",
            "Epoch [7/10], Batch [150/211], Loss: 1.4973\n",
            "Epoch [7/10], Batch [160/211], Loss: 1.4504\n",
            "Epoch [7/10], Batch [170/211], Loss: 1.4497\n",
            "Epoch [7/10], Batch [180/211], Loss: 1.4466\n",
            "Epoch [7/10], Batch [190/211], Loss: 1.5124\n",
            "Epoch [7/10], Batch [200/211], Loss: 1.4954\n",
            "Epoch [7/10], Batch [210/211], Loss: 1.4674\n"
          ]
        },
        {
          "metadata": {
            "tags": null
          },
          "name": "stderr",
          "output_type": "stream",
          "text": [
            "Exception ignored in: <function _MultiProcessingDataLoaderIter.__del__ at 0x798394db1b20>\n",
            "Traceback (most recent call last):\n",
            "  File \"/usr/local/lib/python3.12/dist-packages/torch/utils/data/dataloader.py\", line 1664, in __del__\n",
            "    self._shutdown_workers()\n",
            "  File \"/usr/local/lib/python3.12/dist-packages/torch/utils/data/dataloader.py\", line 1647, in _shutdown_workers\n",
            "    if w.is_alive():\n",
            "       ^^^^^^^^^^^^\n",
            "  File \"/usr/lib/python3.12/multiprocessing/process.py\", line 160, in is_alive\n",
            "    assert self._parent_pid == os.getpid(), 'can only test a child process'\n",
            "           ^^^^^^^^^^^^^^^^^^^^^^^^^^^^^^^\n",
            "AssertionError: can only test a child process\n",
            "Exception ignored in: <function _MultiProcessingDataLoaderIter.__del__ at 0x798394db1b20>\n",
            "Traceback (most recent call last):\n",
            "  File \"/usr/local/lib/python3.12/dist-packages/torch/utils/data/dataloader.py\", line 1664, in __del__\n",
            "    self._shutdown_workers()\n",
            "  File \"/usr/local/lib/python3.12/dist-packages/torch/utils/data/dataloader.py\", line 1647, in _shutdown_workers\n",
            "    if w.is_alive():\n",
            "       ^^^^^^^^^^^^\n",
            "  File \"/usr/lib/python3.12/multiprocessing/process.py\", line 160, in is_alive\n",
            "    assert self._parent_pid == os.getpid(), 'can only test a child process'\n",
            "           ^^^^^^^^^^^^^^^^^^^^^^^^^^^^^^^\n",
            "AssertionError: can only test a child process\n"
          ]
        },
        {
          "metadata": {
            "tags": null
          },
          "name": "stdout",
          "output_type": "stream",
          "text": [
            "Epoch 7, Loss: 1.4617, Val Acc: 37.67%\n",
            "[2.3427685737609862, 2.2332273960113525, 2.1679977655410765, 2.1073614716529847, 2.1367919206619264, 2.079269766807556, 2.0141802191734315, 2.0485867857933044, 1.9966115951538086, 2.027991199493408, 1.9753178238868714, 2.010699784755707, 1.9746754884719848, 1.9524875283241272, 1.925552785396576, 1.952432918548584, 1.945958387851715, 1.9570708870887756, 1.9165975451469421, 1.934946393966675, 1.9443867087364197, 1.7817241072654724, 1.862127673625946, 1.8236953973770142, 1.8102235198020935, 1.8544561624526978, 1.8285970330238341, 1.8336436986923217, 1.8182104706764222, 1.8150159120559692, 1.8738266348838806, 1.7800121903419495, 1.822070050239563, 1.83274188041687, 1.826763117313385, 1.8251437664031982, 1.847186839580536, 1.8223860025405885, 1.7402078628540039, 1.856213343143463, 1.8195152759552002, 1.812065064907074, 1.7169915437698364, 1.7056764483451843, 1.6881245255470276, 1.7522826671600342, 1.7325968265533447, 1.7438870787620544, 1.6633850455284118, 1.6886678457260131, 1.7538267016410827, 1.728643035888672, 1.7795062065124512, 1.6986849546432494, 1.6723377227783203, 1.6983836889266968, 1.7142734050750732, 1.7702695965766906, 1.7344820618629455, 1.6896422505378723, 1.736359703540802, 1.7485469818115233, 1.7407087445259095, 1.659796917438507, 1.6243707537651062, 1.6504254460334777, 1.5951674461364747, 1.6620031476020813, 1.659321165084839, 1.6403156757354735, 1.6255040407180785, 1.6779348254203796, 1.6222221612930299, 1.660126769542694, 1.655488705635071, 1.6168835043907166, 1.664253556728363, 1.7110879302024842, 1.7004881381988526, 1.649702000617981, 1.649444055557251, 1.5950687289237977, 1.6475657105445862, 1.6309085011482238, 1.5457282543182373, 1.5357600212097169, 1.5742624282836915, 1.521789789199829, 1.575757658481598, 1.558326256275177, 1.5597050189971924, 1.6086605429649352, 1.5460211396217347, 1.542988896369934, 1.6159460067749023, 1.565370011329651, 1.6254981756210327, 1.5809609055519105, 1.620530891418457, 1.4797585606575012, 1.5816820025444032, 1.621950876712799, 1.5878224968910217, 1.5646510601043702, 1.6313327074050903, 1.4829907298088074, 1.4716938614845276, 1.5156193137168885, 1.4273401021957397, 1.519498884677887, 1.4836417078971862, 1.4808840036392212, 1.545357310771942, 1.5051954984664917, 1.4777067661285401, 1.5143160104751587, 1.5033835768699646, 1.5572930693626403, 1.539601981639862, 1.4949320435523987, 1.4788618683815002, 1.5522314667701722, 1.4989477157592774, 1.5340582013130188, 1.510805857181549, 1.5324299097061158, 1.3839016914367677, 1.4333824872970582, 1.441708469390869, 1.4486884713172912, 1.4344064474105835, 1.4363270282745362, 1.4025435328483582, 1.4517296195030212, 1.3896544814109801, 1.449080801010132, 1.4006628274917603, 1.422500693798065, 1.44370836019516, 1.374261450767517, 1.4973420023918151, 1.4504273176193236, 1.4496950030326843, 1.4465778470039368, 1.5124478936195374, 1.49540833234787, 1.4673500061035156]\n"
          ]
        },
        {
          "metadata": {
            "tags": null
          },
          "name": "stderr",
          "output_type": "stream",
          "text": [
            "Exception ignored in: <function _MultiProcessingDataLoaderIter.__del__ at 0x798394db1b20>\n",
            "Traceback (most recent call last):\n",
            "  File \"/usr/local/lib/python3.12/dist-packages/torch/utils/data/dataloader.py\", line 1664, in __del__\n",
            "    self._shutdown_workers()\n",
            "  File \"/usr/local/lib/python3.12/dist-packages/torch/utils/data/dataloader.py\", line 1647, in _shutdown_workers\n",
            "    if w.is_alive():\n",
            "  Exception ignored in:  <function _MultiProcessingDataLoaderIter.__del__ at 0x798394db1b20>\n",
            "  Traceback (most recent call last):\n",
            "^  File \"/usr/local/lib/python3.12/dist-packages/torch/utils/data/dataloader.py\", line 1664, in __del__\n",
            "  ^    ^self._shutdown_workers()^^^\n",
            "^  File \"/usr/local/lib/python3.12/dist-packages/torch/utils/data/dataloader.py\", line 1647, in _shutdown_workers\n",
            "^    if w.is_alive():\n",
            "^ ^^^ \n",
            "    File \"/usr/lib/python3.12/multiprocessing/process.py\", line 160, in is_alive\n",
            "      assert self._parent_pid == os.getpid(), 'can only test a child process'\n",
            "            ^^^^^^^^^^^^^^^^^^^^^^^^^^\n",
            "^  File \"/usr/lib/python3.12/multiprocessing/process.py\", line 160, in is_alive\n",
            "^    assert self._parent_pid == os.getpid(), 'can only test a child process'^^\n",
            "^    ^  ^  ^ ^  ^^^^^^^^^^^^^^^^\n",
            "^^AssertionError^^: ^can only test a child process^\n",
            "^^^^^^^^^^^^^^^^^\n",
            "AssertionError: can only test a child process\n"
          ]
        },
        {
          "metadata": {
            "tags": null
          },
          "name": "stdout",
          "output_type": "stream",
          "text": [
            "Epoch [8/10], Batch [10/211], Loss: 1.3417\n",
            "Epoch [8/10], Batch [20/211], Loss: 1.3577\n",
            "Epoch [8/10], Batch [30/211], Loss: 1.3493\n",
            "Epoch [8/10], Batch [40/211], Loss: 1.3815\n",
            "Epoch [8/10], Batch [50/211], Loss: 1.3672\n",
            "Epoch [8/10], Batch [60/211], Loss: 1.4364\n",
            "Epoch [8/10], Batch [70/211], Loss: 1.4054\n",
            "Epoch [8/10], Batch [80/211], Loss: 1.3045\n",
            "Epoch [8/10], Batch [90/211], Loss: 1.2736\n",
            "Epoch [8/10], Batch [100/211], Loss: 1.3552\n",
            "Epoch [8/10], Batch [110/211], Loss: 1.3418\n",
            "Epoch [8/10], Batch [120/211], Loss: 1.4121\n",
            "Epoch [8/10], Batch [130/211], Loss: 1.4146\n",
            "Epoch [8/10], Batch [140/211], Loss: 1.3606\n",
            "Epoch [8/10], Batch [150/211], Loss: 1.3779\n",
            "Epoch [8/10], Batch [160/211], Loss: 1.4357\n",
            "Epoch [8/10], Batch [170/211], Loss: 1.3762\n",
            "Epoch [8/10], Batch [180/211], Loss: 1.4045\n",
            "Epoch [8/10], Batch [190/211], Loss: 1.3886\n",
            "Epoch [8/10], Batch [200/211], Loss: 1.4000\n",
            "Epoch [8/10], Batch [210/211], Loss: 1.3662\n"
          ]
        },
        {
          "metadata": {
            "tags": null
          },
          "name": "stderr",
          "output_type": "stream",
          "text": [
            "Exception ignored in: <function _MultiProcessingDataLoaderIter.__del__ at 0x798394db1b20>\n",
            "Traceback (most recent call last):\n",
            "  File \"/usr/local/lib/python3.12/dist-packages/torch/utils/data/dataloader.py\", line 1664, in __del__\n",
            "    self._shutdown_workers()\n",
            "  File \"/usr/local/lib/python3.12/dist-packages/torch/utils/data/dataloader.py\", line 1647, in _shutdown_workers\n",
            "    if w.is_alive():\n",
            "       ^^^^^^^^^^^^\n",
            "  File \"/usr/lib/python3.12/multiprocessing/process.py\", line 160, in is_alive\n",
            "    assert self._parent_pid == os.getpid(), 'can only test a child process'\n",
            "           ^^^^^^^^Exception ignored in: ^^<function _MultiProcessingDataLoaderIter.__del__ at 0x798394db1b20>\n",
            "Traceback (most recent call last):\n",
            "  File \"/usr/local/lib/python3.12/dist-packages/torch/utils/data/dataloader.py\", line 1664, in __del__\n",
            "^^    ^self._shutdown_workers()\n",
            "  File \"/usr/local/lib/python3.12/dist-packages/torch/utils/data/dataloader.py\", line 1647, in _shutdown_workers\n",
            "^^    ^if w.is_alive():\n",
            "^^^  ^  ^   ^^^^^^^^^^^^^^^^^^^\n",
            "^  File \"/usr/lib/python3.12/multiprocessing/process.py\", line 160, in is_alive\n",
            "    ^^assert self._parent_pid == os.getpid(), 'can only test a child process'\n",
            "\n",
            "AssertionError: can only test a child process \n",
            "          ^^^^^^^^^^^^^^^^^^^^^^^^^^^^^^^\n",
            "AssertionError: can only test a child process\n"
          ]
        },
        {
          "metadata": {
            "tags": null
          },
          "name": "stdout",
          "output_type": "stream",
          "text": [
            "Epoch 8, Loss: 1.4739, Val Acc: 37.93%\n",
            "[2.3427685737609862, 2.2332273960113525, 2.1679977655410765, 2.1073614716529847, 2.1367919206619264, 2.079269766807556, 2.0141802191734315, 2.0485867857933044, 1.9966115951538086, 2.027991199493408, 1.9753178238868714, 2.010699784755707, 1.9746754884719848, 1.9524875283241272, 1.925552785396576, 1.952432918548584, 1.945958387851715, 1.9570708870887756, 1.9165975451469421, 1.934946393966675, 1.9443867087364197, 1.7817241072654724, 1.862127673625946, 1.8236953973770142, 1.8102235198020935, 1.8544561624526978, 1.8285970330238341, 1.8336436986923217, 1.8182104706764222, 1.8150159120559692, 1.8738266348838806, 1.7800121903419495, 1.822070050239563, 1.83274188041687, 1.826763117313385, 1.8251437664031982, 1.847186839580536, 1.8223860025405885, 1.7402078628540039, 1.856213343143463, 1.8195152759552002, 1.812065064907074, 1.7169915437698364, 1.7056764483451843, 1.6881245255470276, 1.7522826671600342, 1.7325968265533447, 1.7438870787620544, 1.6633850455284118, 1.6886678457260131, 1.7538267016410827, 1.728643035888672, 1.7795062065124512, 1.6986849546432494, 1.6723377227783203, 1.6983836889266968, 1.7142734050750732, 1.7702695965766906, 1.7344820618629455, 1.6896422505378723, 1.736359703540802, 1.7485469818115233, 1.7407087445259095, 1.659796917438507, 1.6243707537651062, 1.6504254460334777, 1.5951674461364747, 1.6620031476020813, 1.659321165084839, 1.6403156757354735, 1.6255040407180785, 1.6779348254203796, 1.6222221612930299, 1.660126769542694, 1.655488705635071, 1.6168835043907166, 1.664253556728363, 1.7110879302024842, 1.7004881381988526, 1.649702000617981, 1.649444055557251, 1.5950687289237977, 1.6475657105445862, 1.6309085011482238, 1.5457282543182373, 1.5357600212097169, 1.5742624282836915, 1.521789789199829, 1.575757658481598, 1.558326256275177, 1.5597050189971924, 1.6086605429649352, 1.5460211396217347, 1.542988896369934, 1.6159460067749023, 1.565370011329651, 1.6254981756210327, 1.5809609055519105, 1.620530891418457, 1.4797585606575012, 1.5816820025444032, 1.621950876712799, 1.5878224968910217, 1.5646510601043702, 1.6313327074050903, 1.4829907298088074, 1.4716938614845276, 1.5156193137168885, 1.4273401021957397, 1.519498884677887, 1.4836417078971862, 1.4808840036392212, 1.545357310771942, 1.5051954984664917, 1.4777067661285401, 1.5143160104751587, 1.5033835768699646, 1.5572930693626403, 1.539601981639862, 1.4949320435523987, 1.4788618683815002, 1.5522314667701722, 1.4989477157592774, 1.5340582013130188, 1.510805857181549, 1.5324299097061158, 1.3839016914367677, 1.4333824872970582, 1.441708469390869, 1.4486884713172912, 1.4344064474105835, 1.4363270282745362, 1.4025435328483582, 1.4517296195030212, 1.3896544814109801, 1.449080801010132, 1.4006628274917603, 1.422500693798065, 1.44370836019516, 1.374261450767517, 1.4973420023918151, 1.4504273176193236, 1.4496950030326843, 1.4465778470039368, 1.5124478936195374, 1.49540833234787, 1.4673500061035156, 1.341661262512207, 1.3576795935630799, 1.3492587327957153, 1.381542146205902, 1.3672240376472473, 1.436432409286499, 1.4053850293159484, 1.3045310020446776, 1.2736458420753478, 1.3552194833755493, 1.3417516469955444, 1.4120930910110474, 1.4146066069602967, 1.3605526566505433, 1.3778703808784485, 1.4356593132019042, 1.3762188315391541, 1.4044959902763368, 1.3885708570480346, 1.4000429391860962, 1.366156852245331]\n"
          ]
        },
        {
          "metadata": {
            "tags": null
          },
          "name": "stderr",
          "output_type": "stream",
          "text": [
            "Exception ignored in: <function _MultiProcessingDataLoaderIter.__del__ at 0x798394db1b20>\n",
            "Traceback (most recent call last):\n",
            "  File \"/usr/local/lib/python3.12/dist-packages/torch/utils/data/dataloader.py\", line 1664, in __del__\n",
            "    self._shutdown_workers()\n",
            "  File \"/usr/local/lib/python3.12/dist-packages/torch/utils/data/dataloader.py\", line 1647, in _shutdown_workers\n",
            "    if w.is_alive():\n",
            "       ^^^^^^^^^^^^\n",
            "  File \"/usr/lib/python3.12/multiprocessing/process.py\", line 160, in is_alive\n",
            "    assert self._parent_pid == os.getpid(), 'can only test a child process'\n",
            "         ^  ^^^^^^^^^^^^^^^^^^^^^^^^^^^^^^\n",
            "AssertionError: can only test a child process\n"
          ]
        },
        {
          "metadata": {
            "tags": null
          },
          "name": "stdout",
          "output_type": "stream",
          "text": [
            "Epoch [9/10], Batch [10/211], Loss: 1.3149\n",
            "Epoch [9/10], Batch [20/211], Loss: 1.2561\n"
          ]
        },
        {
          "metadata": {
            "tags": null
          },
          "name": "stderr",
          "output_type": "stream",
          "text": [
            "Exception ignored in: <function _MultiProcessingDataLoaderIter.__del__ at 0x798394db1b20>\n",
            "Traceback (most recent call last):\n",
            "  File \"/usr/local/lib/python3.12/dist-packages/torch/utils/data/dataloader.py\", line 1664, in __del__\n",
            "    self._shutdown_workers()\n",
            "  File \"/usr/local/lib/python3.12/dist-packages/torch/utils/data/dataloader.py\", line 1647, in _shutdown_workers\n",
            "    if w.is_alive():\n",
            "       ^^^^^^^^^^^^\n",
            "  File \"/usr/lib/python3.12/multiprocessing/process.py\", line 160, in is_alive\n",
            "    assert self._parent_pid == os.getpid(), 'can only test a child process'\n",
            "           ^^^^^^^^^^^^^^^^^^^^^^^^^^^^^^^\n",
            "AssertionError: can only test a child process\n"
          ]
        },
        {
          "metadata": {
            "tags": null
          },
          "name": "stdout",
          "output_type": "stream",
          "text": [
            "Epoch [9/10], Batch [30/211], Loss: 1.2613\n",
            "Epoch [9/10], Batch [40/211], Loss: 1.2635\n",
            "Epoch [9/10], Batch [50/211], Loss: 1.2472\n",
            "Epoch [9/10], Batch [60/211], Loss: 1.3425\n",
            "Epoch [9/10], Batch [70/211], Loss: 1.2676\n",
            "Epoch [9/10], Batch [80/211], Loss: 1.3465\n",
            "Epoch [9/10], Batch [90/211], Loss: 1.2526\n",
            "Epoch [9/10], Batch [100/211], Loss: 1.3076\n",
            "Epoch [9/10], Batch [110/211], Loss: 1.3259\n",
            "Epoch [9/10], Batch [120/211], Loss: 1.3122\n",
            "Epoch [9/10], Batch [130/211], Loss: 1.3515\n",
            "Epoch [9/10], Batch [140/211], Loss: 1.2507\n",
            "Epoch [9/10], Batch [150/211], Loss: 1.3706\n",
            "Epoch [9/10], Batch [160/211], Loss: 1.3381\n",
            "Epoch [9/10], Batch [170/211], Loss: 1.3344\n",
            "Epoch [9/10], Batch [180/211], Loss: 1.3522\n",
            "Epoch [9/10], Batch [190/211], Loss: 1.3576\n",
            "Epoch [9/10], Batch [200/211], Loss: 1.3672\n",
            "Epoch [9/10], Batch [210/211], Loss: 1.3781\n"
          ]
        },
        {
          "metadata": {
            "tags": null
          },
          "name": "stderr",
          "output_type": "stream",
          "text": [
            "Exception ignored in: <function _MultiProcessingDataLoaderIter.__del__ at 0x798394db1b20>\n",
            "Traceback (most recent call last):\n",
            "  File \"/usr/local/lib/python3.12/dist-packages/torch/utils/data/dataloader.py\", line 1664, in __del__\n",
            "Exception ignored in:     <function _MultiProcessingDataLoaderIter.__del__ at 0x798394db1b20>self._shutdown_workers()\n",
            "\n",
            "Traceback (most recent call last):\n",
            "  File \"/usr/local/lib/python3.12/dist-packages/torch/utils/data/dataloader.py\", line 1647, in _shutdown_workers\n",
            "  File \"/usr/local/lib/python3.12/dist-packages/torch/utils/data/dataloader.py\", line 1664, in __del__\n",
            "        if w.is_alive():self._shutdown_workers()\n",
            "  File \"/usr/local/lib/python3.12/dist-packages/torch/utils/data/dataloader.py\", line 1647, in _shutdown_workers\n",
            "\n",
            "      if w.is_alive():\n",
            "           ^ ^^^^^^^^^^^^^^^^\n",
            "  File \"/usr/lib/python3.12/multiprocessing/process.py\", line 160, in is_alive\n",
            "    assert self._parent_pid == os.getpid(), 'can only test a child process'^\n",
            " ^   ^  ^  ^^ ^\n",
            "  File \"/usr/lib/python3.12/multiprocessing/process.py\", line 160, in is_alive\n",
            "     assert self._parent_pid == os.getpid(), 'can only test a child process' \n",
            "  ^   ^ ^  ^  ^ ^^^^^^^^^^^^^^^^^^^^^^^^^^^^^^^^^^^^^^^^^^^^^\n",
            "^AssertionError: ^^can only test a child process\n",
            "^^^^^^^^^\n",
            "AssertionError: can only test a child process\n"
          ]
        },
        {
          "metadata": {
            "tags": null
          },
          "name": "stdout",
          "output_type": "stream",
          "text": [
            "Epoch 9, Loss: 1.2798, Val Acc: 38.14%\n",
            "[2.3427685737609862, 2.2332273960113525, 2.1679977655410765, 2.1073614716529847, 2.1367919206619264, 2.079269766807556, 2.0141802191734315, 2.0485867857933044, 1.9966115951538086, 2.027991199493408, 1.9753178238868714, 2.010699784755707, 1.9746754884719848, 1.9524875283241272, 1.925552785396576, 1.952432918548584, 1.945958387851715, 1.9570708870887756, 1.9165975451469421, 1.934946393966675, 1.9443867087364197, 1.7817241072654724, 1.862127673625946, 1.8236953973770142, 1.8102235198020935, 1.8544561624526978, 1.8285970330238341, 1.8336436986923217, 1.8182104706764222, 1.8150159120559692, 1.8738266348838806, 1.7800121903419495, 1.822070050239563, 1.83274188041687, 1.826763117313385, 1.8251437664031982, 1.847186839580536, 1.8223860025405885, 1.7402078628540039, 1.856213343143463, 1.8195152759552002, 1.812065064907074, 1.7169915437698364, 1.7056764483451843, 1.6881245255470276, 1.7522826671600342, 1.7325968265533447, 1.7438870787620544, 1.6633850455284118, 1.6886678457260131, 1.7538267016410827, 1.728643035888672, 1.7795062065124512, 1.6986849546432494, 1.6723377227783203, 1.6983836889266968, 1.7142734050750732, 1.7702695965766906, 1.7344820618629455, 1.6896422505378723, 1.736359703540802, 1.7485469818115233, 1.7407087445259095, 1.659796917438507, 1.6243707537651062, 1.6504254460334777, 1.5951674461364747, 1.6620031476020813, 1.659321165084839, 1.6403156757354735, 1.6255040407180785, 1.6779348254203796, 1.6222221612930299, 1.660126769542694, 1.655488705635071, 1.6168835043907166, 1.664253556728363, 1.7110879302024842, 1.7004881381988526, 1.649702000617981, 1.649444055557251, 1.5950687289237977, 1.6475657105445862, 1.6309085011482238, 1.5457282543182373, 1.5357600212097169, 1.5742624282836915, 1.521789789199829, 1.575757658481598, 1.558326256275177, 1.5597050189971924, 1.6086605429649352, 1.5460211396217347, 1.542988896369934, 1.6159460067749023, 1.565370011329651, 1.6254981756210327, 1.5809609055519105, 1.620530891418457, 1.4797585606575012, 1.5816820025444032, 1.621950876712799, 1.5878224968910217, 1.5646510601043702, 1.6313327074050903, 1.4829907298088074, 1.4716938614845276, 1.5156193137168885, 1.4273401021957397, 1.519498884677887, 1.4836417078971862, 1.4808840036392212, 1.545357310771942, 1.5051954984664917, 1.4777067661285401, 1.5143160104751587, 1.5033835768699646, 1.5572930693626403, 1.539601981639862, 1.4949320435523987, 1.4788618683815002, 1.5522314667701722, 1.4989477157592774, 1.5340582013130188, 1.510805857181549, 1.5324299097061158, 1.3839016914367677, 1.4333824872970582, 1.441708469390869, 1.4486884713172912, 1.4344064474105835, 1.4363270282745362, 1.4025435328483582, 1.4517296195030212, 1.3896544814109801, 1.449080801010132, 1.4006628274917603, 1.422500693798065, 1.44370836019516, 1.374261450767517, 1.4973420023918151, 1.4504273176193236, 1.4496950030326843, 1.4465778470039368, 1.5124478936195374, 1.49540833234787, 1.4673500061035156, 1.341661262512207, 1.3576795935630799, 1.3492587327957153, 1.381542146205902, 1.3672240376472473, 1.436432409286499, 1.4053850293159484, 1.3045310020446776, 1.2736458420753478, 1.3552194833755493, 1.3417516469955444, 1.4120930910110474, 1.4146066069602967, 1.3605526566505433, 1.3778703808784485, 1.4356593132019042, 1.3762188315391541, 1.4044959902763368, 1.3885708570480346, 1.4000429391860962, 1.366156852245331, 1.3148531675338746, 1.2561458945274353, 1.2612661838531494, 1.2635357618331908, 1.2471507430076598, 1.3425373196601869, 1.2676336646080018, 1.3464953303337097, 1.2526329636573792, 1.3075707793235778, 1.3258909463882447, 1.3122243762016297, 1.3515177607536315, 1.2507421314716338, 1.3705716848373413, 1.3381054401397705, 1.3344224452972413, 1.3521852016448974, 1.3576146245002747, 1.367186224460602, 1.3780567646026611]\n"
          ]
        },
        {
          "metadata": {
            "tags": null
          },
          "name": "stderr",
          "output_type": "stream",
          "text": [
            "Exception ignored in: <function _MultiProcessingDataLoaderIter.__del__ at 0x798394db1b20>\n",
            "Traceback (most recent call last):\n",
            "  File \"/usr/local/lib/python3.12/dist-packages/torch/utils/data/dataloader.py\", line 1664, in __del__\n",
            "    self._shutdown_workers()\n",
            "  File \"/usr/local/lib/python3.12/dist-packages/torch/utils/data/dataloader.py\", line 1647, in _shutdown_workers\n",
            "Exception ignored in: <function _MultiProcessingDataLoaderIter.__del__ at 0x798394db1b20>    \n",
            "if w.is_alive():\n",
            "Traceback (most recent call last):\n",
            "   File \"/usr/local/lib/python3.12/dist-packages/torch/utils/data/dataloader.py\", line 1664, in __del__\n",
            "      self._shutdown_workers() \n",
            "   File \"/usr/local/lib/python3.12/dist-packages/torch/utils/data/dataloader.py\", line 1647, in _shutdown_workers\n",
            "      ^^if w.is_alive():^\n",
            "   ^^ ^ ^^ ^^ ^^^^\n",
            "^  File \"/usr/lib/python3.12/multiprocessing/process.py\", line 160, in is_alive\n",
            "    ^^^assert self._parent_pid == os.getpid(), 'can only test a child process'\n",
            "^^ ^^  ^ ^ \n",
            "   File \"/usr/lib/python3.12/multiprocessing/process.py\", line 160, in is_alive\n",
            "      assert self._parent_pid == os.getpid(), 'can only test a child process'  \n",
            " ^ ^ ^    ^^  ^ ^^^  ^^^^^^^^^^^^^^^^^^^^^^^^^^^^^^^^^^^^^^\n",
            "^^^AssertionError^: can only test a child process\n",
            "^^^^^^^^^^^\n",
            "AssertionError: can only test a child process\n"
          ]
        },
        {
          "output_type": "stream",
          "name": "stdout",
          "text": [
            "Epoch [10/10], Batch [10/211], Loss: 1.2144\n",
            "Epoch [10/10], Batch [20/211], Loss: 1.1754\n",
            "Epoch [10/10], Batch [30/211], Loss: 1.2043\n",
            "Epoch [10/10], Batch [40/211], Loss: 1.2231\n",
            "Epoch [10/10], Batch [50/211], Loss: 1.2618\n",
            "Epoch [10/10], Batch [60/211], Loss: 1.1585\n",
            "Epoch [10/10], Batch [70/211], Loss: 1.1737\n",
            "Epoch [10/10], Batch [80/211], Loss: 1.2464\n",
            "Epoch [10/10], Batch [90/211], Loss: 1.2174\n",
            "Epoch [10/10], Batch [100/211], Loss: 1.2165\n",
            "Epoch [10/10], Batch [110/211], Loss: 1.2842\n",
            "Epoch [10/10], Batch [120/211], Loss: 1.2802\n",
            "Epoch [10/10], Batch [130/211], Loss: 1.2988\n",
            "Epoch [10/10], Batch [140/211], Loss: 1.2717\n",
            "Epoch [10/10], Batch [150/211], Loss: 1.2721\n",
            "Epoch [10/10], Batch [160/211], Loss: 1.2593\n",
            "Epoch [10/10], Batch [170/211], Loss: 1.2523\n",
            "Epoch [10/10], Batch [180/211], Loss: 1.2340\n",
            "Epoch [10/10], Batch [190/211], Loss: 1.2981\n",
            "Epoch [10/10], Batch [200/211], Loss: 1.3254\n",
            "Epoch [10/10], Batch [210/211], Loss: 1.2614\n"
          ]
        },
        {
          "output_type": "stream",
          "name": "stderr",
          "text": [
            "Exception ignored in: <function _MultiProcessingDataLoaderIter.__del__ at 0x798394db1b20>\n",
            "Traceback (most recent call last):\n",
            "  File \"/usr/local/lib/python3.12/dist-packages/torch/utils/data/dataloader.py\", line 1664, in __del__\n",
            "    self._shutdown_workers()\n",
            "  File \"/usr/local/lib/python3.12/dist-packages/torch/utils/data/dataloader.py\", line 1647, in _shutdown_workers\n",
            "    if w.is_alive():\n",
            "       ^^^^^^^^^^^^\n",
            "  File \"/usr/lib/python3.12/multiprocessing/process.py\", line 160, in is_alive\n",
            "    assert self._parent_pid == os.getpid(), 'can only test a child process'\n",
            "           ^^^^^^^^^^^^^^^^^^^^^^^^^^^^^^^\n",
            "AssertionError: can only test a child process\n",
            "Exception ignored in: <function _MultiProcessingDataLoaderIter.__del__ at 0x798394db1b20>\n",
            "Traceback (most recent call last):\n",
            "  File \"/usr/local/lib/python3.12/dist-packages/torch/utils/data/dataloader.py\", line 1664, in __del__\n",
            "    self._shutdown_workers()\n",
            "  File \"/usr/local/lib/python3.12/dist-packages/torch/utils/data/dataloader.py\", line 1647, in _shutdown_workers\n",
            "    if w.is_alive():\n",
            "       ^^^^^^^^^^^^\n",
            "  File \"/usr/lib/python3.12/multiprocessing/process.py\", line 160, in is_alive\n",
            "    assert self._parent_pid == os.getpid(), 'can only test a child process'\n",
            "           ^^^^^^^^^^^^^^^^^^^^^^^^^^^^^^^\n",
            "AssertionError: can only test a child process\n"
          ]
        },
        {
          "output_type": "stream",
          "name": "stdout",
          "text": [
            "Epoch 10, Loss: 1.6826, Val Acc: 37.54%\n",
            "[2.3427685737609862, 2.2332273960113525, 2.1679977655410765, 2.1073614716529847, 2.1367919206619264, 2.079269766807556, 2.0141802191734315, 2.0485867857933044, 1.9966115951538086, 2.027991199493408, 1.9753178238868714, 2.010699784755707, 1.9746754884719848, 1.9524875283241272, 1.925552785396576, 1.952432918548584, 1.945958387851715, 1.9570708870887756, 1.9165975451469421, 1.934946393966675, 1.9443867087364197, 1.7817241072654724, 1.862127673625946, 1.8236953973770142, 1.8102235198020935, 1.8544561624526978, 1.8285970330238341, 1.8336436986923217, 1.8182104706764222, 1.8150159120559692, 1.8738266348838806, 1.7800121903419495, 1.822070050239563, 1.83274188041687, 1.826763117313385, 1.8251437664031982, 1.847186839580536, 1.8223860025405885, 1.7402078628540039, 1.856213343143463, 1.8195152759552002, 1.812065064907074, 1.7169915437698364, 1.7056764483451843, 1.6881245255470276, 1.7522826671600342, 1.7325968265533447, 1.7438870787620544, 1.6633850455284118, 1.6886678457260131, 1.7538267016410827, 1.728643035888672, 1.7795062065124512, 1.6986849546432494, 1.6723377227783203, 1.6983836889266968, 1.7142734050750732, 1.7702695965766906, 1.7344820618629455, 1.6896422505378723, 1.736359703540802, 1.7485469818115233, 1.7407087445259095, 1.659796917438507, 1.6243707537651062, 1.6504254460334777, 1.5951674461364747, 1.6620031476020813, 1.659321165084839, 1.6403156757354735, 1.6255040407180785, 1.6779348254203796, 1.6222221612930299, 1.660126769542694, 1.655488705635071, 1.6168835043907166, 1.664253556728363, 1.7110879302024842, 1.7004881381988526, 1.649702000617981, 1.649444055557251, 1.5950687289237977, 1.6475657105445862, 1.6309085011482238, 1.5457282543182373, 1.5357600212097169, 1.5742624282836915, 1.521789789199829, 1.575757658481598, 1.558326256275177, 1.5597050189971924, 1.6086605429649352, 1.5460211396217347, 1.542988896369934, 1.6159460067749023, 1.565370011329651, 1.6254981756210327, 1.5809609055519105, 1.620530891418457, 1.4797585606575012, 1.5816820025444032, 1.621950876712799, 1.5878224968910217, 1.5646510601043702, 1.6313327074050903, 1.4829907298088074, 1.4716938614845276, 1.5156193137168885, 1.4273401021957397, 1.519498884677887, 1.4836417078971862, 1.4808840036392212, 1.545357310771942, 1.5051954984664917, 1.4777067661285401, 1.5143160104751587, 1.5033835768699646, 1.5572930693626403, 1.539601981639862, 1.4949320435523987, 1.4788618683815002, 1.5522314667701722, 1.4989477157592774, 1.5340582013130188, 1.510805857181549, 1.5324299097061158, 1.3839016914367677, 1.4333824872970582, 1.441708469390869, 1.4486884713172912, 1.4344064474105835, 1.4363270282745362, 1.4025435328483582, 1.4517296195030212, 1.3896544814109801, 1.449080801010132, 1.4006628274917603, 1.422500693798065, 1.44370836019516, 1.374261450767517, 1.4973420023918151, 1.4504273176193236, 1.4496950030326843, 1.4465778470039368, 1.5124478936195374, 1.49540833234787, 1.4673500061035156, 1.341661262512207, 1.3576795935630799, 1.3492587327957153, 1.381542146205902, 1.3672240376472473, 1.436432409286499, 1.4053850293159484, 1.3045310020446776, 1.2736458420753478, 1.3552194833755493, 1.3417516469955444, 1.4120930910110474, 1.4146066069602967, 1.3605526566505433, 1.3778703808784485, 1.4356593132019042, 1.3762188315391541, 1.4044959902763368, 1.3885708570480346, 1.4000429391860962, 1.366156852245331, 1.3148531675338746, 1.2561458945274353, 1.2612661838531494, 1.2635357618331908, 1.2471507430076598, 1.3425373196601869, 1.2676336646080018, 1.3464953303337097, 1.2526329636573792, 1.3075707793235778, 1.3258909463882447, 1.3122243762016297, 1.3515177607536315, 1.2507421314716338, 1.3705716848373413, 1.3381054401397705, 1.3344224452972413, 1.3521852016448974, 1.3576146245002747, 1.367186224460602, 1.3780567646026611, 1.2143503904342652, 1.1754119515419006, 1.2042858004570007, 1.2230829834938048, 1.2618213534355163, 1.158522117137909, 1.1737454652786254, 1.2464258670806885, 1.2174054741859437, 1.2164732336997985, 1.2841853499412537, 1.2801655650138855, 1.2988172769546509, 1.271664023399353, 1.2720555305480956, 1.2592539072036744, 1.252261793613434, 1.233984363079071, 1.2980630159378053, 1.3254042744636536, 1.2613608479499816]\n"
          ]
        }
      ]
    },
    {
      "cell_type": "code",
      "source": [
        "imprv_model_training_loss = [2.3427685737609862, 2.2332273960113525, 2.1679977655410765, 2.1073614716529847, 2.1367919206619264, 2.079269766807556, 2.0141802191734315, 2.0485867857933044, 1.9966115951538086, 2.027991199493408, 1.9753178238868714, 2.010699784755707, 1.9746754884719848, 1.9524875283241272, 1.925552785396576, 1.952432918548584, 1.945958387851715, 1.9570708870887756, 1.9165975451469421, 1.934946393966675, 1.9443867087364197, 1.7817241072654724, 1.862127673625946, 1.8236953973770142, 1.8102235198020935, 1.8544561624526978, 1.8285970330238341, 1.8336436986923217, 1.8182104706764222, 1.8150159120559692, 1.8738266348838806, 1.7800121903419495, 1.822070050239563, 1.83274188041687, 1.826763117313385, 1.8251437664031982, 1.847186839580536, 1.8223860025405885, 1.7402078628540039, 1.856213343143463, 1.8195152759552002, 1.812065064907074, 1.7169915437698364, 1.7056764483451843, 1.6881245255470276, 1.7522826671600342, 1.7325968265533447, 1.7438870787620544, 1.6633850455284118, 1.6886678457260131, 1.7538267016410827, 1.728643035888672, 1.7795062065124512, 1.6986849546432494, 1.6723377227783203, 1.6983836889266968, 1.7142734050750732, 1.7702695965766906, 1.7344820618629455, 1.6896422505378723, 1.736359703540802, 1.7485469818115233, 1.7407087445259095, 1.659796917438507, 1.6243707537651062, 1.6504254460334777, 1.5951674461364747, 1.6620031476020813, 1.659321165084839, 1.6403156757354735, 1.6255040407180785, 1.6779348254203796, 1.6222221612930299, 1.660126769542694, 1.655488705635071, 1.6168835043907166, 1.664253556728363, 1.7110879302024842, 1.7004881381988526, 1.649702000617981, 1.649444055557251, 1.5950687289237977, 1.6475657105445862, 1.6309085011482238, 1.5457282543182373, 1.5357600212097169, 1.5742624282836915, 1.521789789199829, 1.575757658481598, 1.558326256275177, 1.5597050189971924, 1.6086605429649352, 1.5460211396217347, 1.542988896369934, 1.6159460067749023, 1.565370011329651, 1.6254981756210327, 1.5809609055519105, 1.620530891418457, 1.4797585606575012, 1.5816820025444032, 1.621950876712799, 1.5878224968910217, 1.5646510601043702, 1.6313327074050903, 1.4829907298088074, 1.4716938614845276, 1.5156193137168885, 1.4273401021957397, 1.519498884677887, 1.4836417078971862, 1.4808840036392212, 1.545357310771942, 1.5051954984664917, 1.4777067661285401, 1.5143160104751587, 1.5033835768699646, 1.5572930693626403, 1.539601981639862, 1.4949320435523987, 1.4788618683815002, 1.5522314667701722, 1.4989477157592774, 1.5340582013130188, 1.510805857181549, 1.5324299097061158, 1.3839016914367677, 1.4333824872970582, 1.441708469390869, 1.4486884713172912, 1.4344064474105835, 1.4363270282745362, 1.4025435328483582, 1.4517296195030212, 1.3896544814109801, 1.449080801010132, 1.4006628274917603, 1.422500693798065, 1.44370836019516, 1.374261450767517, 1.4973420023918151, 1.4504273176193236, 1.4496950030326843, 1.4465778470039368, 1.5124478936195374, 1.49540833234787, 1.4673500061035156, 1.341661262512207, 1.3576795935630799, 1.3492587327957153, 1.381542146205902, 1.3672240376472473, 1.436432409286499, 1.4053850293159484, 1.3045310020446776, 1.2736458420753478, 1.3552194833755493, 1.3417516469955444, 1.4120930910110474, 1.4146066069602967, 1.3605526566505433, 1.3778703808784485, 1.4356593132019042, 1.3762188315391541, 1.4044959902763368, 1.3885708570480346, 1.4000429391860962, 1.366156852245331, 1.3148531675338746, 1.2561458945274353, 1.2612661838531494, 1.2635357618331908, 1.2471507430076598, 1.3425373196601869, 1.2676336646080018, 1.3464953303337097, 1.2526329636573792, 1.3075707793235778, 1.3258909463882447, 1.3122243762016297, 1.3515177607536315, 1.2507421314716338, 1.3705716848373413, 1.3381054401397705, 1.3344224452972413, 1.3521852016448974, 1.3576146245002747, 1.367186224460602, 1.3780567646026611, 1.2143503904342652, 1.1754119515419006, 1.2042858004570007, 1.2230829834938048, 1.2618213534355163, 1.158522117137909, 1.1737454652786254, 1.2464258670806885, 1.2174054741859437, 1.2164732336997985, 1.2841853499412537, 1.2801655650138855, 1.2988172769546509, 1.271664023399353, 1.2720555305480956, 1.2592539072036744, 1.252261793613434, 1.233984363079071, 1.2980630159378053, 1.3254042744636536, 1.2613608479499816]\n"
      ],
      "metadata": {
        "id": "E2OHo_5KOyQO"
      },
      "execution_count": 61,
      "outputs": []
    },
    {
      "cell_type": "code",
      "source": [
        "plt.figure(figsize=(10,5))\n",
        "plt.plot(imprv_model_training_loss, label=\"Training Loss (per batch)\")\n",
        "plt.xlabel(\"Iteration (batch)\")\n",
        "plt.ylabel(\"Loss\")\n",
        "plt.title(\"Training Loss Over Iterations\")\n",
        "plt.legend()\n",
        "plt.grid(True)\n",
        "plt.show()\n"
      ],
      "metadata": {
        "colab": {
          "base_uri": "https://localhost:8080/",
          "height": 487
        },
        "id": "NqURr0TbPLQe",
        "outputId": "d472188d-c272-4e0d-c2f3-d48585036beb"
      },
      "execution_count": 62,
      "outputs": [
        {
          "output_type": "display_data",
          "data": {
            "text/plain": [
              "<Figure size 1000x500 with 1 Axes>"
            ],
            "image/png": "[encoded data removed]"
          },
          "metadata": {}
        }
      ]
    },
    {
      "cell_type": "code",
      "source": [
        "improv_y, imrpov_y_hat = test(imprv_model)"
      ],
      "metadata": {
        "colab": {
          "base_uri": "https://localhost:8080/"
        },
        "id": "SRMAYNlNK-Cs",
        "outputId": "c3a7bd0b-711d-4489-be6b-f3edc6df618a"
      },
      "execution_count": 63,
      "outputs": [
        {
          "output_type": "stream",
          "name": "stdout",
          "text": [
            "Test Accuracy: 37.41%\n"
          ]
        }
      ]
    },
    {
      "cell_type": "code",
      "source": [
        "# confusion matrix\n",
        "cm = confusion_matrix(improv_y, imrpov_y_hat)\n",
        "\n",
        "class_names = train_data.classes\n",
        "\n",
        "# Plot the confusion matrix\n",
        "plt.figure(figsize=(10, 8))\n",
        "sns.heatmap(cm, annot=True, fmt='d', cmap='Blues', xticklabels=class_names, yticklabels=class_names)\n",
        "plt.xlabel('Predicted Label')\n",
        "plt.ylabel('True Label')\n",
        "plt.title('Confusion Matrix')\n",
        "plt.show()"
      ],
      "metadata": {
        "colab": {
          "base_uri": "https://localhost:8080/",
          "height": 783
        },
        "id": "XgJvmbt5R9h-",
        "outputId": "d33de244-ba28-40b5-de12-d414cbd61083"
      },
      "execution_count": 69,
      "outputs": [
        {
          "output_type": "display_data",
          "data": {
            "text/plain": [
              "<Figure size 1000x800 with 2 Axes>"
            ],
            "image/png": "[encoded data removed]"
          },
          "metadata": {}
        }
      ]
    },
    {
      "cell_type": "markdown",
      "source": [
        "### Batch Norm + Dropout + Augmentation = Poor Outcome, had to stop"
      ],
      "metadata": {
        "id": "x6A3e3HRWgyx"
      }
    },
    {
      "cell_type": "code",
      "source": [
        "import random\n",
        "\n",
        "\n",
        "class AugmentedDataset(Dataset):\n",
        "    def __init__(self, base_dataset):\n",
        "        self.base_dataset = base_dataset\n",
        "\n",
        "        # Original transform (already resized, normalized, flattened)\n",
        "        self.base_transform = transform\n",
        "\n",
        "        # Grayscale augmentation\n",
        "        self.grayscale_transform = transforms.Compose([\n",
        "            transforms.Resize((32, 32)),\n",
        "            transforms.Grayscale(num_output_channels=3),  # convert to 3-channel grayscale\n",
        "            transforms.ToTensor(),\n",
        "            transforms.Normalize(mean=[0.4789, 0.4723, 0.4305],\n",
        "                                 std=[0.2421, 0.2383, 0.2587]),\n",
        "            transforms.Lambda(lambda x: x.view(-1))\n",
        "        ])\n",
        "\n",
        "        # Flip + Rotate augmentation 1\n",
        "        self.aug_transform1 = transforms.Compose([\n",
        "            transforms.Resize((32, 32)),\n",
        "            transforms.RandomHorizontalFlip(p=0.9),\n",
        "            transforms.RandomVerticalFlip(p=0.2),\n",
        "            transforms.RandomRotation(degrees=30),\n",
        "            transforms.ToTensor(),\n",
        "            transforms.Normalize(mean=[0.4789, 0.4723, 0.4305],\n",
        "                                 std=[0.2421, 0.2383, 0.2587]),\n",
        "            transforms.Lambda(lambda x: x.view(-1))\n",
        "        ])\n",
        "\n",
        "        # Flip + Rotate augmentation 2\n",
        "        self.aug_transform2 = transforms.Compose([\n",
        "            transforms.Resize((32, 32)),\n",
        "            transforms.RandomHorizontalFlip(p=0.9),\n",
        "            transforms.RandomVerticalFlip(p=0.2),\n",
        "            transforms.RandomRotation(degrees=45),\n",
        "            transforms.ToTensor(),\n",
        "            transforms.Normalize(mean=[0.4789, 0.4723, 0.4305],\n",
        "                                 std=[0.2421, 0.2383, 0.2587]),\n",
        "            transforms.Lambda(lambda x: x.view(-1))\n",
        "        ])\n",
        "\n",
        "    def __len__(self):\n",
        "        return len(self.base_dataset)\n",
        "\n",
        "    def __getitem__(self, idx):\n",
        "        img, label = self.base_dataset[idx]\n",
        "\n",
        "        # Load original image (before base transform)\n",
        "        orig_path, _ = self.base_dataset.dataset.samples[self.base_dataset.indices[idx]]\n",
        "        orig_img = self.base_dataset.dataset.loader(orig_path)  # PIL Image\n",
        "\n",
        "        # Apply augmentations\n",
        "        original = self.base_transform(orig_img)\n",
        "        grayscale = self.grayscale_transform(orig_img)\n",
        "        augmented1 = self.aug_transform1(orig_img)\n",
        "        augmented2 = self.aug_transform2(orig_img)\n",
        "\n",
        "        # Return all versions and label\n",
        "        return {\n",
        "            'original': original,\n",
        "            'grayscale': grayscale,\n",
        "            'augmented1': augmented1,\n",
        "            'augmented2': augmented2,\n",
        "            'label': label\n",
        "        }\n"
      ],
      "metadata": {
        "id": "Od_3tQ7DjTAR"
      },
      "execution_count": 85,
      "outputs": []
    },
    {
      "cell_type": "code",
      "source": [
        "# Create augmented dataset\n",
        "augmented_train_dataset = AugmentedDataset(train_small)\n",
        "\n",
        "# Example: fetch one sample\n",
        "sample = augmented_train_dataset[0]\n",
        "\n",
        "# Access individual images\n",
        "original_img = sample['original']\n",
        "gray_img = sample['grayscale']\n",
        "aug1 = sample['augmented1']\n",
        "aug2 = sample['augmented2']\n",
        "label = sample['label']"
      ],
      "metadata": {
        "id": "sRVRtyISYYX7"
      },
      "execution_count": 86,
      "outputs": []
    },
    {
      "cell_type": "code",
      "source": [
        "class FlattenedAugmentedDataset(Dataset):\n",
        "    def __init__(self, base_dataset):\n",
        "        self.aug_dataset = AugmentedDataset(base_dataset)\n",
        "\n",
        "    def __len__(self):\n",
        "        return 4 * len(self.aug_dataset)\n",
        "\n",
        "    def __getitem__(self, idx):\n",
        "        base_idx = idx // 4\n",
        "        version = idx % 4\n",
        "        sample = self.aug_dataset[base_idx]\n",
        "\n",
        "        image = {\n",
        "            0: sample['original'],\n",
        "            1: sample['grayscale'],\n",
        "            2: sample['augmented1'],\n",
        "            3: sample['augmented2']\n",
        "        }[version]\n",
        "\n",
        "        return image, sample['label']"
      ],
      "metadata": {
        "id": "pKfDn0KgbC-d"
      },
      "execution_count": 88,
      "outputs": []
    },
    {
      "cell_type": "code",
      "source": [
        "aug_train_dataset = FlattenedAugmentedDataset(train_small)\n",
        "train_loader = DataLoader(aug_train_dataset, batch_size=64, shuffle=False)"
      ],
      "metadata": {
        "id": "icA3803-bJdn"
      },
      "execution_count": 98,
      "outputs": []
    },
    {
      "cell_type": "code",
      "source": [
        "len(aug_train_dataset)"
      ],
      "metadata": {
        "colab": {
          "base_uri": "https://localhost:8080/"
        },
        "id": "As2G7sJqbvUg",
        "outputId": "c6a33672-5013-4edd-b4f0-8e43f5d36da1"
      },
      "execution_count": 99,
      "outputs": [
        {
          "output_type": "execute_result",
          "data": {
            "text/plain": [
              "54000"
            ]
          },
          "metadata": {},
          "execution_count": 99
        }
      ]
    },
    {
      "cell_type": "code",
      "source": [
        "improv_model_aug = FeedForwardImprov()"
      ],
      "metadata": {
        "id": "RxOCWuJHb1b_"
      },
      "execution_count": 100,
      "outputs": []
    },
    {
      "cell_type": "code",
      "source": [
        "train(improv_model_aug, num_epochs=10)"
      ],
      "metadata": {
        "colab": {
          "base_uri": "https://localhost:8080/",
          "height": 1000
        },
        "collapsed": true,
        "id": "PLXUaGQ_bTRM",
        "outputId": "b030d229-4b52-4ce8-99d8-221a52d07407"
      },
      "execution_count": 101,
      "outputs": [
        {
          "output_type": "stream",
          "name": "stdout",
          "text": [
            "Epoch [1/10], Batch [10/844], Loss: 2.2302\n",
            "Epoch [1/10], Batch [20/844], Loss: 2.2212\n",
            "Epoch [1/10], Batch [30/844], Loss: 2.2269\n",
            "Epoch [1/10], Batch [40/844], Loss: 2.2208\n",
            "Epoch [1/10], Batch [50/844], Loss: 2.2341\n",
            "Epoch [1/10], Batch [60/844], Loss: 2.2115\n",
            "Epoch [1/10], Batch [70/844], Loss: 2.2143\n",
            "Epoch [1/10], Batch [80/844], Loss: 2.2238\n",
            "Epoch [1/10], Batch [90/844], Loss: 2.3270\n",
            "Epoch [1/10], Batch [100/844], Loss: 2.4189\n",
            "Epoch [1/10], Batch [110/844], Loss: 2.4270\n",
            "Epoch [1/10], Batch [120/844], Loss: 2.4198\n",
            "Epoch [1/10], Batch [130/844], Loss: 2.4304\n",
            "Epoch [1/10], Batch [140/844], Loss: 2.4121\n",
            "Epoch [1/10], Batch [150/844], Loss: 2.3990\n",
            "Epoch [1/10], Batch [160/844], Loss: 2.4018\n",
            "Epoch [1/10], Batch [170/844], Loss: 2.4064\n",
            "Epoch [1/10], Batch [180/844], Loss: 2.2797\n",
            "Epoch [1/10], Batch [190/844], Loss: 2.2820\n",
            "Epoch [1/10], Batch [200/844], Loss: 2.2761\n",
            "Epoch [1/10], Batch [210/844], Loss: 2.3029\n",
            "Epoch [1/10], Batch [220/844], Loss: 2.2938\n",
            "Epoch [1/10], Batch [230/844], Loss: 2.2919\n",
            "Epoch [1/10], Batch [240/844], Loss: 2.2855\n",
            "Epoch [1/10], Batch [250/844], Loss: 2.2944\n",
            "Epoch [1/10], Batch [260/844], Loss: 2.3491\n",
            "Epoch [1/10], Batch [270/844], Loss: 2.3418\n",
            "Epoch [1/10], Batch [280/844], Loss: 2.3608\n",
            "Epoch [1/10], Batch [290/844], Loss: 2.3472\n",
            "Epoch [1/10], Batch [300/844], Loss: 2.3605\n",
            "Epoch [1/10], Batch [310/844], Loss: 2.3596\n",
            "Epoch [1/10], Batch [320/844], Loss: 2.3598\n",
            "Epoch [1/10], Batch [330/844], Loss: 2.3490\n",
            "Epoch [1/10], Batch [340/844], Loss: 2.3925\n",
            "Epoch [1/10], Batch [350/844], Loss: 2.4719\n",
            "Epoch [1/10], Batch [360/844], Loss: 2.4875\n",
            "Epoch [1/10], Batch [370/844], Loss: 2.4639\n",
            "Epoch [1/10], Batch [380/844], Loss: 2.4826\n",
            "Epoch [1/10], Batch [390/844], Loss: 2.4702\n",
            "Epoch [1/10], Batch [400/844], Loss: 2.4734\n",
            "Epoch [1/10], Batch [410/844], Loss: 2.4722\n",
            "Epoch [1/10], Batch [420/844], Loss: 2.4708\n",
            "Epoch [1/10], Batch [430/844], Loss: 2.5017\n",
            "Epoch [1/10], Batch [440/844], Loss: 2.5164\n",
            "Epoch [1/10], Batch [450/844], Loss: 2.5256\n",
            "Epoch [1/10], Batch [460/844], Loss: 2.5135\n",
            "Epoch [1/10], Batch [470/844], Loss: 2.5287\n",
            "Epoch [1/10], Batch [480/844], Loss: 2.5208\n",
            "Epoch [1/10], Batch [490/844], Loss: 2.5114\n",
            "Epoch [1/10], Batch [500/844], Loss: 2.5372\n",
            "Epoch [1/10], Batch [510/844], Loss: 2.3933\n",
            "Epoch [1/10], Batch [520/844], Loss: 2.2467\n",
            "Epoch [1/10], Batch [530/844], Loss: 2.2338\n",
            "Epoch [1/10], Batch [540/844], Loss: 2.2295\n",
            "Epoch [1/10], Batch [550/844], Loss: 2.2312\n",
            "Epoch [1/10], Batch [560/844], Loss: 2.2515\n",
            "Epoch [1/10], Batch [570/844], Loss: 2.2233\n",
            "Epoch [1/10], Batch [580/844], Loss: 2.2224\n",
            "Epoch [1/10], Batch [590/844], Loss: 2.2298\n",
            "Epoch [1/10], Batch [600/844], Loss: 2.1638\n",
            "Epoch [1/10], Batch [610/844], Loss: 2.1680\n",
            "Epoch [1/10], Batch [620/844], Loss: 2.1763\n",
            "Epoch [1/10], Batch [630/844], Loss: 2.1692\n",
            "Epoch [1/10], Batch [640/844], Loss: 2.1811\n",
            "Epoch [1/10], Batch [650/844], Loss: 2.1931\n",
            "Epoch [1/10], Batch [660/844], Loss: 2.1802\n",
            "Epoch [1/10], Batch [670/844], Loss: 2.1658\n",
            "Epoch [1/10], Batch [680/844], Loss: 2.3889\n",
            "Epoch [1/10], Batch [690/844], Loss: 2.5878\n",
            "Epoch [1/10], Batch [700/844], Loss: 2.5922\n",
            "Epoch [1/10], Batch [710/844], Loss: 2.5995\n",
            "Epoch [1/10], Batch [720/844], Loss: 2.5623\n",
            "Epoch [1/10], Batch [730/844], Loss: 2.5844\n",
            "Epoch [1/10], Batch [740/844], Loss: 2.5702\n",
            "Epoch [1/10], Batch [750/844], Loss: 2.5797\n",
            "Epoch [1/10], Batch [760/844], Loss: 2.5731\n",
            "Epoch [1/10], Batch [770/844], Loss: 2.6844\n",
            "Epoch [1/10], Batch [780/844], Loss: 2.6914\n",
            "Epoch [1/10], Batch [790/844], Loss: 2.6904\n",
            "Epoch [1/10], Batch [800/844], Loss: 2.6991\n",
            "Epoch [1/10], Batch [810/844], Loss: 2.6829\n",
            "Epoch [1/10], Batch [820/844], Loss: 2.7079\n",
            "Epoch [1/10], Batch [830/844], Loss: 2.7020\n",
            "Epoch [1/10], Batch [840/844], Loss: 2.7043\n",
            "Epoch 1, Loss: 2.7046, Val Acc: 9.81%\n",
            "[2.230236601829529, 2.2211594104766847, 2.2268548727035524, 2.2207844495773315, 2.234061026573181, 2.2114641427993775, 2.214269685745239, 2.2237892627716063, 2.3270395040512084, 2.4189338445663453, 2.427028274536133, 2.4198028564453127, 2.430407762527466, 2.412090706825256, 2.399042272567749, 2.4018223762512205, 2.406420874595642, 2.2796729803085327, 2.2819965839385987, 2.2761407136917113, 2.3029349088668822, 2.293784761428833, 2.291943907737732, 2.285489797592163, 2.2943520069122316, 2.34911105632782, 2.3418184995651243, 2.3608444213867186, 2.3472335577011108, 2.3605277061462404, 2.3596112728118896, 2.35978217124939, 2.349023175239563, 2.3925215721130373, 2.4719459295272825, 2.487463617324829, 2.463869404792786, 2.482567310333252, 2.4702107191085814, 2.4734498500823974, 2.472206687927246, 2.470842218399048, 2.5016818761825563, 2.516355538368225, 2.525631809234619, 2.513537049293518, 2.528728199005127, 2.5207791566848754, 2.5113604784011843, 2.537196731567383, 2.3932647943496703, 2.2467333555221556, 2.233811044692993, 2.229467344284058, 2.2312421798706055, 2.2515039920806883, 2.223322105407715, 2.2224356889724732, 2.2297767877578734, 2.1638491630554197, 2.168021583557129, 2.1762642860412598, 2.169217562675476, 2.181133484840393, 2.1930567979812623, 2.1802236795425416, 2.1658270359039307, 2.388888430595398, 2.587843990325928, 2.5921900272369385, 2.5994576930999758, 2.5622684717178346, 2.584385871887207, 2.5702064037323, 2.5797358989715575, 2.573126769065857, 2.6843764066696165, 2.691364574432373, 2.6903586864471434, 2.699141430854797, 2.6829465866088866, 2.7079192876815794, 2.7019945859909056, 2.7042705535888674]\n",
            "Epoch [2/10], Batch [10/844], Loss: 2.2307\n",
            "Epoch [2/10], Batch [20/844], Loss: 2.2281\n",
            "Epoch [2/10], Batch [30/844], Loss: 2.2322\n",
            "Epoch [2/10], Batch [40/844], Loss: 2.2189\n",
            "Epoch [2/10], Batch [50/844], Loss: 2.2258\n",
            "Epoch [2/10], Batch [60/844], Loss: 2.2347\n",
            "Epoch [2/10], Batch [70/844], Loss: 2.2342\n",
            "Epoch [2/10], Batch [80/844], Loss: 2.2233\n",
            "Epoch [2/10], Batch [90/844], Loss: 2.3189\n",
            "Epoch [2/10], Batch [100/844], Loss: 2.4243\n",
            "Epoch [2/10], Batch [110/844], Loss: 2.4009\n",
            "Epoch [2/10], Batch [120/844], Loss: 2.4252\n",
            "Epoch [2/10], Batch [130/844], Loss: 2.4416\n",
            "Epoch [2/10], Batch [140/844], Loss: 2.4097\n",
            "Epoch [2/10], Batch [150/844], Loss: 2.4199\n",
            "Epoch [2/10], Batch [160/844], Loss: 2.4090\n",
            "Epoch [2/10], Batch [170/844], Loss: 2.4004\n",
            "Epoch [2/10], Batch [180/844], Loss: 2.2987\n",
            "Epoch [2/10], Batch [190/844], Loss: 2.2975\n",
            "Epoch [2/10], Batch [200/844], Loss: 2.2851\n",
            "Epoch [2/10], Batch [210/844], Loss: 2.2869\n",
            "Epoch [2/10], Batch [220/844], Loss: 2.2841\n",
            "Epoch [2/10], Batch [230/844], Loss: 2.2951\n",
            "Epoch [2/10], Batch [240/844], Loss: 2.2735\n",
            "Epoch [2/10], Batch [250/844], Loss: 2.2897\n",
            "Epoch [2/10], Batch [260/844], Loss: 2.3639\n",
            "Epoch [2/10], Batch [270/844], Loss: 2.3588\n",
            "Epoch [2/10], Batch [280/844], Loss: 2.3609\n",
            "Epoch [2/10], Batch [290/844], Loss: 2.3566\n",
            "Epoch [2/10], Batch [300/844], Loss: 2.3563\n",
            "Epoch [2/10], Batch [310/844], Loss: 2.3666\n",
            "Epoch [2/10], Batch [320/844], Loss: 2.3749\n",
            "Epoch [2/10], Batch [330/844], Loss: 2.3583\n",
            "Epoch [2/10], Batch [340/844], Loss: 2.3901\n",
            "Epoch [2/10], Batch [350/844], Loss: 2.4924\n",
            "Epoch [2/10], Batch [360/844], Loss: 2.4721\n",
            "Epoch [2/10], Batch [370/844], Loss: 2.4679\n",
            "Epoch [2/10], Batch [380/844], Loss: 2.4967\n",
            "Epoch [2/10], Batch [390/844], Loss: 2.4828\n",
            "Epoch [2/10], Batch [400/844], Loss: 2.4815\n",
            "Epoch [2/10], Batch [410/844], Loss: 2.4799\n",
            "Epoch [2/10], Batch [420/844], Loss: 2.4698\n",
            "Epoch [2/10], Batch [430/844], Loss: 2.5132\n",
            "Epoch [2/10], Batch [440/844], Loss: 2.5312\n",
            "Epoch [2/10], Batch [450/844], Loss: 2.5518\n",
            "Epoch [2/10], Batch [460/844], Loss: 2.5268\n",
            "Epoch [2/10], Batch [470/844], Loss: 2.5192\n",
            "Epoch [2/10], Batch [480/844], Loss: 2.5299\n",
            "Epoch [2/10], Batch [490/844], Loss: 2.5168\n",
            "Epoch [2/10], Batch [500/844], Loss: 2.5059\n",
            "Epoch [2/10], Batch [510/844], Loss: 2.3967\n",
            "Epoch [2/10], Batch [520/844], Loss: 2.2175\n",
            "Epoch [2/10], Batch [530/844], Loss: 2.2316\n",
            "Epoch [2/10], Batch [540/844], Loss: 2.2380\n",
            "Epoch [2/10], Batch [550/844], Loss: 2.2297\n",
            "Epoch [2/10], Batch [560/844], Loss: 2.2123\n",
            "Epoch [2/10], Batch [570/844], Loss: 2.2309\n",
            "Epoch [2/10], Batch [580/844], Loss: 2.2206\n",
            "Epoch [2/10], Batch [590/844], Loss: 2.2195\n",
            "Epoch [2/10], Batch [600/844], Loss: 2.1851\n",
            "Epoch [2/10], Batch [610/844], Loss: 2.1769\n",
            "Epoch [2/10], Batch [620/844], Loss: 2.1827\n",
            "Epoch [2/10], Batch [630/844], Loss: 2.1797\n",
            "Epoch [2/10], Batch [640/844], Loss: 2.1888\n",
            "Epoch [2/10], Batch [650/844], Loss: 2.1983\n",
            "Epoch [2/10], Batch [660/844], Loss: 2.1985\n",
            "Epoch [2/10], Batch [670/844], Loss: 2.1660\n",
            "Epoch [2/10], Batch [680/844], Loss: 2.3747\n",
            "Epoch [2/10], Batch [690/844], Loss: 2.5822\n",
            "Epoch [2/10], Batch [700/844], Loss: 2.5776\n",
            "Epoch [2/10], Batch [710/844], Loss: 2.5719\n",
            "Epoch [2/10], Batch [720/844], Loss: 2.5769\n",
            "Epoch [2/10], Batch [730/844], Loss: 2.5807\n",
            "Epoch [2/10], Batch [740/844], Loss: 2.5767\n",
            "Epoch [2/10], Batch [750/844], Loss: 2.5823\n",
            "Epoch [2/10], Batch [760/844], Loss: 2.5872\n",
            "Epoch [2/10], Batch [770/844], Loss: 2.7068\n",
            "Epoch [2/10], Batch [780/844], Loss: 2.7019\n",
            "Epoch [2/10], Batch [790/844], Loss: 2.6961\n",
            "Epoch [2/10], Batch [800/844], Loss: 2.7082\n",
            "Epoch [2/10], Batch [810/844], Loss: 2.7053\n",
            "Epoch [2/10], Batch [820/844], Loss: 2.6942\n",
            "Epoch [2/10], Batch [830/844], Loss: 2.7009\n",
            "Epoch [2/10], Batch [840/844], Loss: 2.7116\n",
            "Epoch 2, Loss: 2.7201, Val Acc: 9.91%\n",
            "[2.230236601829529, 2.2211594104766847, 2.2268548727035524, 2.2207844495773315, 2.234061026573181, 2.2114641427993775, 2.214269685745239, 2.2237892627716063, 2.3270395040512084, 2.4189338445663453, 2.427028274536133, 2.4198028564453127, 2.430407762527466, 2.412090706825256, 2.399042272567749, 2.4018223762512205, 2.406420874595642, 2.2796729803085327, 2.2819965839385987, 2.2761407136917113, 2.3029349088668822, 2.293784761428833, 2.291943907737732, 2.285489797592163, 2.2943520069122316, 2.34911105632782, 2.3418184995651243, 2.3608444213867186, 2.3472335577011108, 2.3605277061462404, 2.3596112728118896, 2.35978217124939, 2.349023175239563, 2.3925215721130373, 2.4719459295272825, 2.487463617324829, 2.463869404792786, 2.482567310333252, 2.4702107191085814, 2.4734498500823974, 2.472206687927246, 2.470842218399048, 2.5016818761825563, 2.516355538368225, 2.525631809234619, 2.513537049293518, 2.528728199005127, 2.5207791566848754, 2.5113604784011843, 2.537196731567383, 2.3932647943496703, 2.2467333555221556, 2.233811044692993, 2.229467344284058, 2.2312421798706055, 2.2515039920806883, 2.223322105407715, 2.2224356889724732, 2.2297767877578734, 2.1638491630554197, 2.168021583557129, 2.1762642860412598, 2.169217562675476, 2.181133484840393, 2.1930567979812623, 2.1802236795425416, 2.1658270359039307, 2.388888430595398, 2.587843990325928, 2.5921900272369385, 2.5994576930999758, 2.5622684717178346, 2.584385871887207, 2.5702064037323, 2.5797358989715575, 2.573126769065857, 2.6843764066696165, 2.691364574432373, 2.6903586864471434, 2.699141430854797, 2.6829465866088866, 2.7079192876815794, 2.7019945859909056, 2.7042705535888674, 2.23070068359375, 2.228073310852051, 2.2322410106658936, 2.2189155340194704, 2.2258168935775755, 2.2346599102020264, 2.234217309951782, 2.223278307914734, 2.3188998222351076, 2.4242852210998533, 2.400887894630432, 2.425223731994629, 2.4415839433670046, 2.409681701660156, 2.419912576675415, 2.4090261697769164, 2.400350475311279, 2.2986874103546144, 2.2974597454071044, 2.285149431228638, 2.286859083175659, 2.2840935707092287, 2.2951491117477416, 2.2734532356262207, 2.2897446393966674, 2.3639332056045532, 2.358828830718994, 2.36089506149292, 2.356649112701416, 2.356349992752075, 2.366620326042175, 2.3748976230621337, 2.3583200931549073, 2.390053915977478, 2.492392897605896, 2.472066068649292, 2.4678515672683714, 2.496713709831238, 2.48277690410614, 2.481477689743042, 2.479901146888733, 2.469848561286926, 2.5131797313690187, 2.5312302112579346, 2.5518067598342897, 2.5267507791519166, 2.5192178964614866, 2.529910182952881, 2.516770267486572, 2.5058589220046996, 2.396722936630249, 2.2175246477127075, 2.2315916299819945, 2.2379916191101072, 2.229702091217041, 2.2123127222061156, 2.2309030532836913, 2.2205866098403932, 2.2194958209991453, 2.185076689720154, 2.1769149780273436, 2.1826964139938356, 2.1796536445617676, 2.188799262046814, 2.1982894420623778, 2.1985307216644285, 2.165964651107788, 2.374682903289795, 2.5821685791015625, 2.577644395828247, 2.5718735694885253, 2.5768786907196044, 2.5806888818740843, 2.5766592741012575, 2.582327103614807, 2.587191581726074, 2.7068015336990356, 2.701917028427124, 2.6960607051849363, 2.708174157142639, 2.7053348779678346, 2.694203758239746, 2.700858807563782, 2.711603808403015]\n",
            "Epoch [3/10], Batch [10/844], Loss: 2.2376\n",
            "Epoch [3/10], Batch [20/844], Loss: 2.2061\n",
            "Epoch [3/10], Batch [30/844], Loss: 2.2227\n",
            "Epoch [3/10], Batch [40/844], Loss: 2.2036\n",
            "Epoch [3/10], Batch [50/844], Loss: 2.2180\n",
            "Epoch [3/10], Batch [60/844], Loss: 2.2341\n",
            "Epoch [3/10], Batch [70/844], Loss: 2.2116\n",
            "Epoch [3/10], Batch [80/844], Loss: 2.2384\n",
            "Epoch [3/10], Batch [90/844], Loss: 2.3517\n",
            "Epoch [3/10], Batch [100/844], Loss: 2.4161\n",
            "Epoch [3/10], Batch [110/844], Loss: 2.4129\n",
            "Epoch [3/10], Batch [120/844], Loss: 2.4147\n",
            "Epoch [3/10], Batch [130/844], Loss: 2.4268\n",
            "Epoch [3/10], Batch [140/844], Loss: 2.4001\n",
            "Epoch [3/10], Batch [150/844], Loss: 2.4079\n",
            "Epoch [3/10], Batch [160/844], Loss: 2.4070\n",
            "Epoch [3/10], Batch [170/844], Loss: 2.4029\n",
            "Epoch [3/10], Batch [180/844], Loss: 2.2905\n",
            "Epoch [3/10], Batch [190/844], Loss: 2.2779\n",
            "Epoch [3/10], Batch [200/844], Loss: 2.2893\n",
            "Epoch [3/10], Batch [210/844], Loss: 2.2827\n",
            "Epoch [3/10], Batch [220/844], Loss: 2.2748\n",
            "Epoch [3/10], Batch [230/844], Loss: 2.3045\n",
            "Epoch [3/10], Batch [240/844], Loss: 2.2929\n",
            "Epoch [3/10], Batch [250/844], Loss: 2.3039\n",
            "Epoch [3/10], Batch [260/844], Loss: 2.3524\n",
            "Epoch [3/10], Batch [270/844], Loss: 2.3679\n",
            "Epoch [3/10], Batch [280/844], Loss: 2.3721\n",
            "Epoch [3/10], Batch [290/844], Loss: 2.3741\n",
            "Epoch [3/10], Batch [300/844], Loss: 2.3721\n",
            "Epoch [3/10], Batch [310/844], Loss: 2.3504\n",
            "Epoch [3/10], Batch [320/844], Loss: 2.3662\n",
            "Epoch [3/10], Batch [330/844], Loss: 2.3574\n",
            "Epoch [3/10], Batch [340/844], Loss: 2.3719\n",
            "Epoch [3/10], Batch [350/844], Loss: 2.4834\n",
            "Epoch [3/10], Batch [360/844], Loss: 2.4893\n",
            "Epoch [3/10], Batch [370/844], Loss: 2.4904\n",
            "Epoch [3/10], Batch [380/844], Loss: 2.4864\n",
            "Epoch [3/10], Batch [390/844], Loss: 2.4915\n",
            "Epoch [3/10], Batch [400/844], Loss: 2.4654\n",
            "Epoch [3/10], Batch [410/844], Loss: 2.4851\n",
            "Epoch [3/10], Batch [420/844], Loss: 2.4865\n",
            "Epoch [3/10], Batch [430/844], Loss: 2.5204\n",
            "Epoch [3/10], Batch [440/844], Loss: 2.5197\n",
            "Epoch [3/10], Batch [450/844], Loss: 2.5317\n",
            "Epoch [3/10], Batch [460/844], Loss: 2.4924\n",
            "Epoch [3/10], Batch [470/844], Loss: 2.5106\n",
            "Epoch [3/10], Batch [480/844], Loss: 2.5072\n",
            "Epoch [3/10], Batch [490/844], Loss: 2.5307\n",
            "Epoch [3/10], Batch [500/844], Loss: 2.5227\n",
            "Epoch [3/10], Batch [510/844], Loss: 2.4173\n",
            "Epoch [3/10], Batch [520/844], Loss: 2.2287\n",
            "Epoch [3/10], Batch [530/844], Loss: 2.2412\n",
            "Epoch [3/10], Batch [540/844], Loss: 2.2331\n",
            "Epoch [3/10], Batch [550/844], Loss: 2.2213\n",
            "Epoch [3/10], Batch [560/844], Loss: 2.2149\n",
            "Epoch [3/10], Batch [570/844], Loss: 2.2342\n",
            "Epoch [3/10], Batch [580/844], Loss: 2.2267\n",
            "Epoch [3/10], Batch [590/844], Loss: 2.2175\n",
            "Epoch [3/10], Batch [600/844], Loss: 2.1754\n",
            "Epoch [3/10], Batch [610/844], Loss: 2.1572\n",
            "Epoch [3/10], Batch [620/844], Loss: 2.1830\n",
            "Epoch [3/10], Batch [630/844], Loss: 2.1929\n",
            "Epoch [3/10], Batch [640/844], Loss: 2.1813\n",
            "Epoch [3/10], Batch [650/844], Loss: 2.1864\n",
            "Epoch [3/10], Batch [660/844], Loss: 2.1763\n",
            "Epoch [3/10], Batch [670/844], Loss: 2.1988\n",
            "Epoch [3/10], Batch [680/844], Loss: 2.3891\n",
            "Epoch [3/10], Batch [690/844], Loss: 2.5731\n",
            "Epoch [3/10], Batch [700/844], Loss: 2.5842\n",
            "Epoch [3/10], Batch [710/844], Loss: 2.5873\n",
            "Epoch [3/10], Batch [720/844], Loss: 2.5887\n",
            "Epoch [3/10], Batch [730/844], Loss: 2.5765\n",
            "Epoch [3/10], Batch [740/844], Loss: 2.5763\n",
            "Epoch [3/10], Batch [750/844], Loss: 2.5743\n",
            "Epoch [3/10], Batch [760/844], Loss: 2.5722\n",
            "Epoch [3/10], Batch [770/844], Loss: 2.6760\n",
            "Epoch [3/10], Batch [780/844], Loss: 2.6867\n",
            "Epoch [3/10], Batch [790/844], Loss: 2.6980\n",
            "Epoch [3/10], Batch [800/844], Loss: 2.7048\n",
            "Epoch [3/10], Batch [810/844], Loss: 2.7085\n",
            "Epoch [3/10], Batch [820/844], Loss: 2.6891\n",
            "Epoch [3/10], Batch [830/844], Loss: 2.6910\n",
            "Epoch [3/10], Batch [840/844], Loss: 2.6768\n",
            "Epoch 3, Loss: 2.7218, Val Acc: 9.63%\n",
            "[2.230236601829529, 2.2211594104766847, 2.2268548727035524, 2.2207844495773315, 2.234061026573181, 2.2114641427993775, 2.214269685745239, 2.2237892627716063, 2.3270395040512084, 2.4189338445663453, 2.427028274536133, 2.4198028564453127, 2.430407762527466, 2.412090706825256, 2.399042272567749, 2.4018223762512205, 2.406420874595642, 2.2796729803085327, 2.2819965839385987, 2.2761407136917113, 2.3029349088668822, 2.293784761428833, 2.291943907737732, 2.285489797592163, 2.2943520069122316, 2.34911105632782, 2.3418184995651243, 2.3608444213867186, 2.3472335577011108, 2.3605277061462404, 2.3596112728118896, 2.35978217124939, 2.349023175239563, 2.3925215721130373, 2.4719459295272825, 2.487463617324829, 2.463869404792786, 2.482567310333252, 2.4702107191085814, 2.4734498500823974, 2.472206687927246, 2.470842218399048, 2.5016818761825563, 2.516355538368225, 2.525631809234619, 2.513537049293518, 2.528728199005127, 2.5207791566848754, 2.5113604784011843, 2.537196731567383, 2.3932647943496703, 2.2467333555221556, 2.233811044692993, 2.229467344284058, 2.2312421798706055, 2.2515039920806883, 2.223322105407715, 2.2224356889724732, 2.2297767877578734, 2.1638491630554197, 2.168021583557129, 2.1762642860412598, 2.169217562675476, 2.181133484840393, 2.1930567979812623, 2.1802236795425416, 2.1658270359039307, 2.388888430595398, 2.587843990325928, 2.5921900272369385, 2.5994576930999758, 2.5622684717178346, 2.584385871887207, 2.5702064037323, 2.5797358989715575, 2.573126769065857, 2.6843764066696165, 2.691364574432373, 2.6903586864471434, 2.699141430854797, 2.6829465866088866, 2.7079192876815794, 2.7019945859909056, 2.7042705535888674, 2.23070068359375, 2.228073310852051, 2.2322410106658936, 2.2189155340194704, 2.2258168935775755, 2.2346599102020264, 2.234217309951782, 2.223278307914734, 2.3188998222351076, 2.4242852210998533, 2.400887894630432, 2.425223731994629, 2.4415839433670046, 2.409681701660156, 2.419912576675415, 2.4090261697769164, 2.400350475311279, 2.2986874103546144, 2.2974597454071044, 2.285149431228638, 2.286859083175659, 2.2840935707092287, 2.2951491117477416, 2.2734532356262207, 2.2897446393966674, 2.3639332056045532, 2.358828830718994, 2.36089506149292, 2.356649112701416, 2.356349992752075, 2.366620326042175, 2.3748976230621337, 2.3583200931549073, 2.390053915977478, 2.492392897605896, 2.472066068649292, 2.4678515672683714, 2.496713709831238, 2.48277690410614, 2.481477689743042, 2.479901146888733, 2.469848561286926, 2.5131797313690187, 2.5312302112579346, 2.5518067598342897, 2.5267507791519166, 2.5192178964614866, 2.529910182952881, 2.516770267486572, 2.5058589220046996, 2.396722936630249, 2.2175246477127075, 2.2315916299819945, 2.2379916191101072, 2.229702091217041, 2.2123127222061156, 2.2309030532836913, 2.2205866098403932, 2.2194958209991453, 2.185076689720154, 2.1769149780273436, 2.1826964139938356, 2.1796536445617676, 2.188799262046814, 2.1982894420623778, 2.1985307216644285, 2.165964651107788, 2.374682903289795, 2.5821685791015625, 2.577644395828247, 2.5718735694885253, 2.5768786907196044, 2.5806888818740843, 2.5766592741012575, 2.582327103614807, 2.587191581726074, 2.7068015336990356, 2.701917028427124, 2.6960607051849363, 2.708174157142639, 2.7053348779678346, 2.694203758239746, 2.700858807563782, 2.711603808403015, 2.2376346349716187, 2.2061089992523195, 2.222657251358032, 2.2036085605621336, 2.218028521537781, 2.2341291427612306, 2.211563491821289, 2.238400173187256, 2.3517048835754393, 2.4160598278045655, 2.412907123565674, 2.4146719455718992, 2.426797938346863, 2.4000844240188597, 2.4078964471817015, 2.4070151805877686, 2.4028908252716064, 2.290501523017883, 2.2778695821762085, 2.2892694234848023, 2.282744789123535, 2.2748336791992188, 2.3045384883880615, 2.2929039478302, 2.3038968324661253, 2.3523755073547363, 2.3678625583648683, 2.3721314668655396, 2.374104309082031, 2.3720782995224, 2.3503840446472166, 2.3662442207336425, 2.357443380355835, 2.371921944618225, 2.48336501121521, 2.4893270254135134, 2.490371584892273, 2.48638710975647, 2.49154736995697, 2.4654024124145506, 2.485099363327026, 2.4865478515625, 2.5204240322113036, 2.5197312355041506, 2.5317044973373415, 2.4924038887023925, 2.510603404045105, 2.5071534872055055, 2.530727815628052, 2.522736692428589, 2.417269492149353, 2.2286617279052736, 2.241217756271362, 2.2330513477325438, 2.2212787866592407, 2.2148753881454466, 2.2341505765914915, 2.226668047904968, 2.2175092458724976, 2.1754038333892822, 2.157202649116516, 2.182978320121765, 2.1929476976394655, 2.181293559074402, 2.186370038986206, 2.1763099670410155, 2.198773956298828, 2.3891300201416015, 2.573070693016052, 2.5842368602752686, 2.587274169921875, 2.5886667013168334, 2.57653386592865, 2.576278829574585, 2.5743003845214845, 2.572200322151184, 2.6759647369384765, 2.686701440811157, 2.697961449623108, 2.704757905006409, 2.708476495742798, 2.6890557765960694, 2.6909679651260374, 2.6768417596817016]\n",
            "Epoch [4/10], Batch [10/844], Loss: 2.2095\n",
            "Epoch [4/10], Batch [20/844], Loss: 2.2268\n",
            "Epoch [4/10], Batch [30/844], Loss: 2.2125\n",
            "Epoch [4/10], Batch [40/844], Loss: 2.2231\n",
            "Epoch [4/10], Batch [50/844], Loss: 2.2161\n",
            "Epoch [4/10], Batch [60/844], Loss: 2.2263\n",
            "Epoch [4/10], Batch [70/844], Loss: 2.2228\n",
            "Epoch [4/10], Batch [80/844], Loss: 2.2333\n",
            "Epoch [4/10], Batch [90/844], Loss: 2.3307\n",
            "Epoch [4/10], Batch [100/844], Loss: 2.3850\n",
            "Epoch [4/10], Batch [110/844], Loss: 2.4134\n",
            "Epoch [4/10], Batch [120/844], Loss: 2.4130\n",
            "Epoch [4/10], Batch [130/844], Loss: 2.3792\n",
            "Epoch [4/10], Batch [140/844], Loss: 2.4165\n",
            "Epoch [4/10], Batch [150/844], Loss: 2.4029\n",
            "Epoch [4/10], Batch [160/844], Loss: 2.4202\n",
            "Epoch [4/10], Batch [170/844], Loss: 2.4004\n",
            "Epoch [4/10], Batch [180/844], Loss: 2.2902\n",
            "Epoch [4/10], Batch [190/844], Loss: 2.3018\n",
            "Epoch [4/10], Batch [200/844], Loss: 2.2885\n",
            "Epoch [4/10], Batch [210/844], Loss: 2.2832\n",
            "Epoch [4/10], Batch [220/844], Loss: 2.2808\n",
            "Epoch [4/10], Batch [230/844], Loss: 2.2933\n",
            "Epoch [4/10], Batch [240/844], Loss: 2.2934\n",
            "Epoch [4/10], Batch [250/844], Loss: 2.2911\n",
            "Epoch [4/10], Batch [260/844], Loss: 2.3474\n",
            "Epoch [4/10], Batch [270/844], Loss: 2.3641\n",
            "Epoch [4/10], Batch [280/844], Loss: 2.3665\n",
            "Epoch [4/10], Batch [290/844], Loss: 2.3678\n",
            "Epoch [4/10], Batch [300/844], Loss: 2.3687\n",
            "Epoch [4/10], Batch [310/844], Loss: 2.3694\n",
            "Epoch [4/10], Batch [320/844], Loss: 2.3762\n",
            "Epoch [4/10], Batch [330/844], Loss: 2.3615\n",
            "Epoch [4/10], Batch [340/844], Loss: 2.3929\n",
            "Epoch [4/10], Batch [350/844], Loss: 2.4751\n",
            "Epoch [4/10], Batch [360/844], Loss: 2.4894\n",
            "Epoch [4/10], Batch [370/844], Loss: 2.4829\n",
            "Epoch [4/10], Batch [380/844], Loss: 2.4606\n",
            "Epoch [4/10], Batch [390/844], Loss: 2.4879\n",
            "Epoch [4/10], Batch [400/844], Loss: 2.4801\n",
            "Epoch [4/10], Batch [410/844], Loss: 2.4930\n",
            "Epoch [4/10], Batch [420/844], Loss: 2.4836\n",
            "Epoch [4/10], Batch [430/844], Loss: 2.5103\n",
            "Epoch [4/10], Batch [440/844], Loss: 2.5229\n",
            "Epoch [4/10], Batch [450/844], Loss: 2.5062\n",
            "Epoch [4/10], Batch [460/844], Loss: 2.5201\n",
            "Epoch [4/10], Batch [470/844], Loss: 2.5198\n",
            "Epoch [4/10], Batch [480/844], Loss: 2.5331\n",
            "Epoch [4/10], Batch [490/844], Loss: 2.5092\n"
          ]
        },
        {
          "output_type": "error",
          "ename": "KeyboardInterrupt",
          "evalue": "",
          "traceback": [
            "\u001b[0;31m---------------------------------------------------------------------------\u001b[0m",
            "\u001b[0;31mKeyboardInterrupt\u001b[0m                         Traceback (most recent call last)",
            "\u001b[0;32m/tmp/ipython-input-128101919.py\u001b[0m in \u001b[0;36m<cell line: 0>\u001b[0;34m()\u001b[0m\n\u001b[0;32m----> 1\u001b[0;31m \u001b[0mtrain\u001b[0m\u001b[0;34m(\u001b[0m\u001b[0mimprov_model_aug\u001b[0m\u001b[0;34m,\u001b[0m \u001b[0mnum_epochs\u001b[0m\u001b[0;34m=\u001b[0m\u001b[0;36m10\u001b[0m\u001b[0;34m)\u001b[0m\u001b[0;34m\u001b[0m\u001b[0;34m\u001b[0m\u001b[0m\n\u001b[0m",
            "\u001b[0;32m/tmp/ipython-input-1611156793.py\u001b[0m in \u001b[0;36mtrain\u001b[0;34m(model, num_epochs)\u001b[0m\n\u001b[1;32m      6\u001b[0m       \u001b[0mrunning_loss\u001b[0m \u001b[0;34m=\u001b[0m \u001b[0;36m0.0\u001b[0m\u001b[0;34m\u001b[0m\u001b[0;34m\u001b[0m\u001b[0m\n\u001b[1;32m      7\u001b[0m \u001b[0;34m\u001b[0m\u001b[0m\n\u001b[0;32m----> 8\u001b[0;31m       \u001b[0;32mfor\u001b[0m \u001b[0mi\u001b[0m\u001b[0;34m,\u001b[0m \u001b[0;34m(\u001b[0m\u001b[0mimages\u001b[0m\u001b[0;34m,\u001b[0m \u001b[0mlabels\u001b[0m\u001b[0;34m)\u001b[0m \u001b[0;32min\u001b[0m \u001b[0menumerate\u001b[0m\u001b[0;34m(\u001b[0m\u001b[0mtrain_loader\u001b[0m\u001b[0;34m,\u001b[0m \u001b[0;36m1\u001b[0m\u001b[0;34m)\u001b[0m\u001b[0;34m:\u001b[0m\u001b[0;34m\u001b[0m\u001b[0;34m\u001b[0m\u001b[0m\n\u001b[0m\u001b[1;32m      9\u001b[0m           \u001b[0;31m# clear gradients\u001b[0m\u001b[0;34m\u001b[0m\u001b[0;34m\u001b[0m\u001b[0m\n\u001b[1;32m     10\u001b[0m           \u001b[0moptimizer\u001b[0m\u001b[0;34m.\u001b[0m\u001b[0mzero_grad\u001b[0m\u001b[0;34m(\u001b[0m\u001b[0;34m)\u001b[0m\u001b[0;34m\u001b[0m\u001b[0;34m\u001b[0m\u001b[0m\n",
            "\u001b[0;32m/usr/local/lib/python3.12/dist-packages/torch/utils/data/dataloader.py\u001b[0m in \u001b[0;36m__next__\u001b[0;34m(self)\u001b[0m\n\u001b[1;32m    732\u001b[0m                 \u001b[0;31m# TODO(https://github.com/pytorch/pytorch/issues/76750)\u001b[0m\u001b[0;34m\u001b[0m\u001b[0;34m\u001b[0m\u001b[0m\n\u001b[1;32m    733\u001b[0m                 \u001b[0mself\u001b[0m\u001b[0;34m.\u001b[0m\u001b[0m_reset\u001b[0m\u001b[0;34m(\u001b[0m\u001b[0;34m)\u001b[0m  \u001b[0;31m# type: ignore[call-arg]\u001b[0m\u001b[0;34m\u001b[0m\u001b[0;34m\u001b[0m\u001b[0m\n\u001b[0;32m--> 734\u001b[0;31m             \u001b[0mdata\u001b[0m \u001b[0;34m=\u001b[0m \u001b[0mself\u001b[0m\u001b[0;34m.\u001b[0m\u001b[0m_next_data\u001b[0m\u001b[0;34m(\u001b[0m\u001b[0;34m)\u001b[0m\u001b[0;34m\u001b[0m\u001b[0;34m\u001b[0m\u001b[0m\n\u001b[0m\u001b[1;32m    735\u001b[0m             \u001b[0mself\u001b[0m\u001b[0;34m.\u001b[0m\u001b[0m_num_yielded\u001b[0m \u001b[0;34m+=\u001b[0m \u001b[0;36m1\u001b[0m\u001b[0;34m\u001b[0m\u001b[0;34m\u001b[0m\u001b[0m\n\u001b[1;32m    736\u001b[0m             if (\n",
            "\u001b[0;32m/usr/local/lib/python3.12/dist-packages/torch/utils/data/dataloader.py\u001b[0m in \u001b[0;36m_next_data\u001b[0;34m(self)\u001b[0m\n\u001b[1;32m    788\u001b[0m     \u001b[0;32mdef\u001b[0m \u001b[0m_next_data\u001b[0m\u001b[0;34m(\u001b[0m\u001b[0mself\u001b[0m\u001b[0;34m)\u001b[0m\u001b[0;34m:\u001b[0m\u001b[0;34m\u001b[0m\u001b[0;34m\u001b[0m\u001b[0m\n\u001b[1;32m    789\u001b[0m         \u001b[0mindex\u001b[0m \u001b[0;34m=\u001b[0m \u001b[0mself\u001b[0m\u001b[0;34m.\u001b[0m\u001b[0m_next_index\u001b[0m\u001b[0;34m(\u001b[0m\u001b[0;34m)\u001b[0m  \u001b[0;31m# may raise StopIteration\u001b[0m\u001b[0;34m\u001b[0m\u001b[0;34m\u001b[0m\u001b[0m\n\u001b[0;32m--> 790\u001b[0;31m         \u001b[0mdata\u001b[0m \u001b[0;34m=\u001b[0m \u001b[0mself\u001b[0m\u001b[0;34m.\u001b[0m\u001b[0m_dataset_fetcher\u001b[0m\u001b[0;34m.\u001b[0m\u001b[0mfetch\u001b[0m\u001b[0;34m(\u001b[0m\u001b[0mindex\u001b[0m\u001b[0;34m)\u001b[0m  \u001b[0;31m# may raise StopIteration\u001b[0m\u001b[0;34m\u001b[0m\u001b[0;34m\u001b[0m\u001b[0m\n\u001b[0m\u001b[1;32m    791\u001b[0m         \u001b[0;32mif\u001b[0m \u001b[0mself\u001b[0m\u001b[0;34m.\u001b[0m\u001b[0m_pin_memory\u001b[0m\u001b[0;34m:\u001b[0m\u001b[0;34m\u001b[0m\u001b[0;34m\u001b[0m\u001b[0m\n\u001b[1;32m    792\u001b[0m             \u001b[0mdata\u001b[0m \u001b[0;34m=\u001b[0m \u001b[0m_utils\u001b[0m\u001b[0;34m.\u001b[0m\u001b[0mpin_memory\u001b[0m\u001b[0;34m.\u001b[0m\u001b[0mpin_memory\u001b[0m\u001b[0;34m(\u001b[0m\u001b[0mdata\u001b[0m\u001b[0;34m,\u001b[0m \u001b[0mself\u001b[0m\u001b[0;34m.\u001b[0m\u001b[0m_pin_memory_device\u001b[0m\u001b[0;34m)\u001b[0m\u001b[0;34m\u001b[0m\u001b[0;34m\u001b[0m\u001b[0m\n",
            "\u001b[0;32m/usr/local/lib/python3.12/dist-packages/torch/utils/data/_utils/fetch.py\u001b[0m in \u001b[0;36mfetch\u001b[0;34m(self, possibly_batched_index)\u001b[0m\n\u001b[1;32m     50\u001b[0m                 \u001b[0mdata\u001b[0m \u001b[0;34m=\u001b[0m \u001b[0mself\u001b[0m\u001b[0;34m.\u001b[0m\u001b[0mdataset\u001b[0m\u001b[0;34m.\u001b[0m\u001b[0m__getitems__\u001b[0m\u001b[0;34m(\u001b[0m\u001b[0mpossibly_batched_index\u001b[0m\u001b[0;34m)\u001b[0m\u001b[0;34m\u001b[0m\u001b[0;34m\u001b[0m\u001b[0m\n\u001b[1;32m     51\u001b[0m             \u001b[0;32melse\u001b[0m\u001b[0;34m:\u001b[0m\u001b[0;34m\u001b[0m\u001b[0;34m\u001b[0m\u001b[0m\n\u001b[0;32m---> 52\u001b[0;31m                 \u001b[0mdata\u001b[0m \u001b[0;34m=\u001b[0m \u001b[0;34m[\u001b[0m\u001b[0mself\u001b[0m\u001b[0;34m.\u001b[0m\u001b[0mdataset\u001b[0m\u001b[0;34m[\u001b[0m\u001b[0midx\u001b[0m\u001b[0;34m]\u001b[0m \u001b[0;32mfor\u001b[0m \u001b[0midx\u001b[0m \u001b[0;32min\u001b[0m \u001b[0mpossibly_batched_index\u001b[0m\u001b[0;34m]\u001b[0m\u001b[0;34m\u001b[0m\u001b[0;34m\u001b[0m\u001b[0m\n\u001b[0m\u001b[1;32m     53\u001b[0m         \u001b[0;32melse\u001b[0m\u001b[0;34m:\u001b[0m\u001b[0;34m\u001b[0m\u001b[0;34m\u001b[0m\u001b[0m\n\u001b[1;32m     54\u001b[0m             \u001b[0mdata\u001b[0m \u001b[0;34m=\u001b[0m \u001b[0mself\u001b[0m\u001b[0;34m.\u001b[0m\u001b[0mdataset\u001b[0m\u001b[0;34m[\u001b[0m\u001b[0mpossibly_batched_index\u001b[0m\u001b[0;34m]\u001b[0m\u001b[0;34m\u001b[0m\u001b[0;34m\u001b[0m\u001b[0m\n",
            "\u001b[0;32m/tmp/ipython-input-1940666374.py\u001b[0m in \u001b[0;36m__getitem__\u001b[0;34m(self, idx)\u001b[0m\n\u001b[1;32m      9\u001b[0m         \u001b[0mbase_idx\u001b[0m \u001b[0;34m=\u001b[0m \u001b[0midx\u001b[0m \u001b[0;34m//\u001b[0m \u001b[0;36m4\u001b[0m\u001b[0;34m\u001b[0m\u001b[0;34m\u001b[0m\u001b[0m\n\u001b[1;32m     10\u001b[0m         \u001b[0mversion\u001b[0m \u001b[0;34m=\u001b[0m \u001b[0midx\u001b[0m \u001b[0;34m%\u001b[0m \u001b[0;36m4\u001b[0m\u001b[0;34m\u001b[0m\u001b[0;34m\u001b[0m\u001b[0m\n\u001b[0;32m---> 11\u001b[0;31m         \u001b[0msample\u001b[0m \u001b[0;34m=\u001b[0m \u001b[0mself\u001b[0m\u001b[0;34m.\u001b[0m\u001b[0maug_dataset\u001b[0m\u001b[0;34m[\u001b[0m\u001b[0mbase_idx\u001b[0m\u001b[0;34m]\u001b[0m\u001b[0;34m\u001b[0m\u001b[0;34m\u001b[0m\u001b[0m\n\u001b[0m\u001b[1;32m     12\u001b[0m \u001b[0;34m\u001b[0m\u001b[0m\n\u001b[1;32m     13\u001b[0m         image = {\n",
            "\u001b[0;32m/tmp/ipython-input-1475080128.py\u001b[0m in \u001b[0;36m__getitem__\u001b[0;34m(self, idx)\u001b[0m\n\u001b[1;32m     47\u001b[0m \u001b[0;34m\u001b[0m\u001b[0m\n\u001b[1;32m     48\u001b[0m     \u001b[0;32mdef\u001b[0m \u001b[0m__getitem__\u001b[0m\u001b[0;34m(\u001b[0m\u001b[0mself\u001b[0m\u001b[0;34m,\u001b[0m \u001b[0midx\u001b[0m\u001b[0;34m)\u001b[0m\u001b[0;34m:\u001b[0m\u001b[0;34m\u001b[0m\u001b[0;34m\u001b[0m\u001b[0m\n\u001b[0;32m---> 49\u001b[0;31m         \u001b[0mimg\u001b[0m\u001b[0;34m,\u001b[0m \u001b[0mlabel\u001b[0m \u001b[0;34m=\u001b[0m \u001b[0mself\u001b[0m\u001b[0;34m.\u001b[0m\u001b[0mbase_dataset\u001b[0m\u001b[0;34m[\u001b[0m\u001b[0midx\u001b[0m\u001b[0;34m]\u001b[0m\u001b[0;34m\u001b[0m\u001b[0;34m\u001b[0m\u001b[0m\n\u001b[0m\u001b[1;32m     50\u001b[0m \u001b[0;34m\u001b[0m\u001b[0m\n\u001b[1;32m     51\u001b[0m         \u001b[0;31m# Load original image (before base transform)\u001b[0m\u001b[0;34m\u001b[0m\u001b[0;34m\u001b[0m\u001b[0m\n",
            "\u001b[0;32m/usr/local/lib/python3.12/dist-packages/torch/utils/data/dataset.py\u001b[0m in \u001b[0;36m__getitem__\u001b[0;34m(self, idx)\u001b[0m\n\u001b[1;32m    406\u001b[0m         \u001b[0;32mif\u001b[0m \u001b[0misinstance\u001b[0m\u001b[0;34m(\u001b[0m\u001b[0midx\u001b[0m\u001b[0;34m,\u001b[0m \u001b[0mlist\u001b[0m\u001b[0;34m)\u001b[0m\u001b[0;34m:\u001b[0m\u001b[0;34m\u001b[0m\u001b[0;34m\u001b[0m\u001b[0m\n\u001b[1;32m    407\u001b[0m             \u001b[0;32mreturn\u001b[0m \u001b[0mself\u001b[0m\u001b[0;34m.\u001b[0m\u001b[0mdataset\u001b[0m\u001b[0;34m[\u001b[0m\u001b[0;34m[\u001b[0m\u001b[0mself\u001b[0m\u001b[0;34m.\u001b[0m\u001b[0mindices\u001b[0m\u001b[0;34m[\u001b[0m\u001b[0mi\u001b[0m\u001b[0;34m]\u001b[0m \u001b[0;32mfor\u001b[0m \u001b[0mi\u001b[0m \u001b[0;32min\u001b[0m \u001b[0midx\u001b[0m\u001b[0;34m]\u001b[0m\u001b[0;34m]\u001b[0m\u001b[0;34m\u001b[0m\u001b[0;34m\u001b[0m\u001b[0m\n\u001b[0;32m--> 408\u001b[0;31m         \u001b[0;32mreturn\u001b[0m \u001b[0mself\u001b[0m\u001b[0;34m.\u001b[0m\u001b[0mdataset\u001b[0m\u001b[0;34m[\u001b[0m\u001b[0mself\u001b[0m\u001b[0;34m.\u001b[0m\u001b[0mindices\u001b[0m\u001b[0;34m[\u001b[0m\u001b[0midx\u001b[0m\u001b[0;34m]\u001b[0m\u001b[0;34m]\u001b[0m\u001b[0;34m\u001b[0m\u001b[0;34m\u001b[0m\u001b[0m\n\u001b[0m\u001b[1;32m    409\u001b[0m \u001b[0;34m\u001b[0m\u001b[0m\n\u001b[1;32m    410\u001b[0m     \u001b[0;32mdef\u001b[0m \u001b[0m__getitems__\u001b[0m\u001b[0;34m(\u001b[0m\u001b[0mself\u001b[0m\u001b[0;34m,\u001b[0m \u001b[0mindices\u001b[0m\u001b[0;34m:\u001b[0m \u001b[0mlist\u001b[0m\u001b[0;34m[\u001b[0m\u001b[0mint\u001b[0m\u001b[0;34m]\u001b[0m\u001b[0;34m)\u001b[0m \u001b[0;34m->\u001b[0m \u001b[0mlist\u001b[0m\u001b[0;34m[\u001b[0m\u001b[0m_T_co\u001b[0m\u001b[0;34m]\u001b[0m\u001b[0;34m:\u001b[0m\u001b[0;34m\u001b[0m\u001b[0;34m\u001b[0m\u001b[0m\n",
            "\u001b[0;32m/usr/local/lib/python3.12/dist-packages/torchvision/datasets/folder.py\u001b[0m in \u001b[0;36m__getitem__\u001b[0;34m(self, index)\u001b[0m\n\u001b[1;32m    243\u001b[0m         \"\"\"\n\u001b[1;32m    244\u001b[0m         \u001b[0mpath\u001b[0m\u001b[0;34m,\u001b[0m \u001b[0mtarget\u001b[0m \u001b[0;34m=\u001b[0m \u001b[0mself\u001b[0m\u001b[0;34m.\u001b[0m\u001b[0msamples\u001b[0m\u001b[0;34m[\u001b[0m\u001b[0mindex\u001b[0m\u001b[0;34m]\u001b[0m\u001b[0;34m\u001b[0m\u001b[0;34m\u001b[0m\u001b[0m\n\u001b[0;32m--> 245\u001b[0;31m         \u001b[0msample\u001b[0m \u001b[0;34m=\u001b[0m \u001b[0mself\u001b[0m\u001b[0;34m.\u001b[0m\u001b[0mloader\u001b[0m\u001b[0;34m(\u001b[0m\u001b[0mpath\u001b[0m\u001b[0;34m)\u001b[0m\u001b[0;34m\u001b[0m\u001b[0;34m\u001b[0m\u001b[0m\n\u001b[0m\u001b[1;32m    246\u001b[0m         \u001b[0;32mif\u001b[0m \u001b[0mself\u001b[0m\u001b[0;34m.\u001b[0m\u001b[0mtransform\u001b[0m \u001b[0;32mis\u001b[0m \u001b[0;32mnot\u001b[0m \u001b[0;32mNone\u001b[0m\u001b[0;34m:\u001b[0m\u001b[0;34m\u001b[0m\u001b[0;34m\u001b[0m\u001b[0m\n\u001b[1;32m    247\u001b[0m             \u001b[0msample\u001b[0m \u001b[0;34m=\u001b[0m \u001b[0mself\u001b[0m\u001b[0;34m.\u001b[0m\u001b[0mtransform\u001b[0m\u001b[0;34m(\u001b[0m\u001b[0msample\u001b[0m\u001b[0;34m)\u001b[0m\u001b[0;34m\u001b[0m\u001b[0;34m\u001b[0m\u001b[0m\n",
            "\u001b[0;32m/usr/local/lib/python3.12/dist-packages/torchvision/datasets/folder.py\u001b[0m in \u001b[0;36mdefault_loader\u001b[0;34m(path)\u001b[0m\n\u001b[1;32m    282\u001b[0m         \u001b[0;32mreturn\u001b[0m \u001b[0maccimage_loader\u001b[0m\u001b[0;34m(\u001b[0m\u001b[0mpath\u001b[0m\u001b[0;34m)\u001b[0m\u001b[0;34m\u001b[0m\u001b[0;34m\u001b[0m\u001b[0m\n\u001b[1;32m    283\u001b[0m     \u001b[0;32melse\u001b[0m\u001b[0;34m:\u001b[0m\u001b[0;34m\u001b[0m\u001b[0;34m\u001b[0m\u001b[0m\n\u001b[0;32m--> 284\u001b[0;31m         \u001b[0;32mreturn\u001b[0m \u001b[0mpil_loader\u001b[0m\u001b[0;34m(\u001b[0m\u001b[0mpath\u001b[0m\u001b[0;34m)\u001b[0m\u001b[0;34m\u001b[0m\u001b[0;34m\u001b[0m\u001b[0m\n\u001b[0m\u001b[1;32m    285\u001b[0m \u001b[0;34m\u001b[0m\u001b[0m\n\u001b[1;32m    286\u001b[0m \u001b[0;34m\u001b[0m\u001b[0m\n",
            "\u001b[0;32m/usr/local/lib/python3.12/dist-packages/torchvision/datasets/folder.py\u001b[0m in \u001b[0;36mpil_loader\u001b[0;34m(path)\u001b[0m\n\u001b[1;32m    260\u001b[0m \u001b[0;32mdef\u001b[0m \u001b[0mpil_loader\u001b[0m\u001b[0;34m(\u001b[0m\u001b[0mpath\u001b[0m\u001b[0;34m:\u001b[0m \u001b[0mUnion\u001b[0m\u001b[0;34m[\u001b[0m\u001b[0mstr\u001b[0m\u001b[0;34m,\u001b[0m \u001b[0mPath\u001b[0m\u001b[0;34m]\u001b[0m\u001b[0;34m)\u001b[0m \u001b[0;34m->\u001b[0m \u001b[0mImage\u001b[0m\u001b[0;34m.\u001b[0m\u001b[0mImage\u001b[0m\u001b[0;34m:\u001b[0m\u001b[0;34m\u001b[0m\u001b[0;34m\u001b[0m\u001b[0m\n\u001b[1;32m    261\u001b[0m     \u001b[0;31m# open path as file to avoid ResourceWarning (https://github.com/python-pillow/Pillow/issues/835)\u001b[0m\u001b[0;34m\u001b[0m\u001b[0;34m\u001b[0m\u001b[0m\n\u001b[0;32m--> 262\u001b[0;31m     \u001b[0;32mwith\u001b[0m \u001b[0mopen\u001b[0m\u001b[0;34m(\u001b[0m\u001b[0mpath\u001b[0m\u001b[0;34m,\u001b[0m \u001b[0;34m\"rb\"\u001b[0m\u001b[0;34m)\u001b[0m \u001b[0;32mas\u001b[0m \u001b[0mf\u001b[0m\u001b[0;34m:\u001b[0m\u001b[0;34m\u001b[0m\u001b[0;34m\u001b[0m\u001b[0m\n\u001b[0m\u001b[1;32m    263\u001b[0m         \u001b[0mimg\u001b[0m \u001b[0;34m=\u001b[0m \u001b[0mImage\u001b[0m\u001b[0;34m.\u001b[0m\u001b[0mopen\u001b[0m\u001b[0;34m(\u001b[0m\u001b[0mf\u001b[0m\u001b[0;34m)\u001b[0m\u001b[0;34m\u001b[0m\u001b[0;34m\u001b[0m\u001b[0m\n\u001b[1;32m    264\u001b[0m         \u001b[0;32mreturn\u001b[0m \u001b[0mimg\u001b[0m\u001b[0;34m.\u001b[0m\u001b[0mconvert\u001b[0m\u001b[0;34m(\u001b[0m\u001b[0;34m\"RGB\"\u001b[0m\u001b[0;34m)\u001b[0m\u001b[0;34m\u001b[0m\u001b[0;34m\u001b[0m\u001b[0m\n",
            "\u001b[0;31mKeyboardInterrupt\u001b[0m: "
          ]
        }
      ]
    },
    {
      "cell_type": "code",
      "source": [
        "import matplotlib.pyplot as plt\n",
        "import numpy as np\n",
        "\n",
        "# Unnormalize function\n",
        "def unnormalize(tensor, mean, std):\n",
        "    mean = torch.tensor(mean).view(3, 1, 1)\n",
        "    std = torch.tensor(std).view(3, 1, 1)\n",
        "    return tensor * std + mean\n",
        "\n",
        "# Pick a sample from the augmented dataset\n",
        "sample = augmented_train_dataset[2]  # index can be any number < len(dataset)\n",
        "\n",
        "# Unflatten and unnormalize each image\n",
        "mean = [0.4789, 0.4723, 0.4305]\n",
        "std = [0.2421, 0.2383, 0.2587]\n",
        "\n",
        "def prepare_image(flat_tensor):\n",
        "    img = flat_tensor.view(3, 32, 32)         # reshape\n",
        "    img = unnormalize(img, mean, std)         # unnormalize\n",
        "    img = img.permute(1, 2, 0).numpy()        # CHW -> HWC\n",
        "    img = np.clip(img, 0, 1)                  # clip values for display\n",
        "    return img\n",
        "\n",
        "images = [\n",
        "    prepare_image(sample['original']),\n",
        "    prepare_image(sample['grayscale']),\n",
        "    prepare_image(sample['augmented1']),\n",
        "    prepare_image(sample['augmented2'])\n",
        "]\n",
        "\n",
        "titles = ['Original', 'Grayscale', 'Augmentation 1', 'Augmentation 2']\n",
        "\n",
        "# Plot the images\n",
        "plt.figure(figsize=(12, 3))\n",
        "for i, (img, title) in enumerate(zip(images, titles)):\n",
        "    plt.subplot(1, 4, i + 1)\n",
        "    plt.imshow(img)\n",
        "    plt.title(title)\n",
        "    plt.axis('off')\n",
        "\n",
        "plt.tight_layout()\n",
        "plt.show()\n"
      ],
      "metadata": {
        "colab": {
          "base_uri": "https://localhost:8080/",
          "height": 321
        },
        "id": "JK51OdccY6Jz",
        "outputId": "6eb4b8c3-2376-4c88-95c7-3b558d0e5584"
      },
      "execution_count": 104,
      "outputs": [
        {
          "output_type": "display_data",
          "data": {
            "text/plain": [
              "<Figure size 1200x300 with 4 Axes>"
            ],
            "image/png": "[encoded data removed]"
          },
          "metadata": {}
        }
      ]
    },
    {
      "cell_type": "code",
      "source": [
        "# Take a batch from the augmented train loader\n",
        "dataiter_aug = iter(augmented_train_dataset)\n",
        "images_aug, labels_aug = next(dataiter_aug)\n",
        "\n",
        "# Show first 5 augmented images\n",
        "plt.figure(figsize=(10, 2))\n",
        "for i in range(5):\n",
        "    plt.subplot(1, 5, i+1)\n",
        "    # The images from train_aug_loader are already tensors, reshape back to (C, H, W) for imshow\n",
        "    imshow(images_aug[i].view(3, 32, 32))\n",
        "    plt.title(labels_aug[i].item())\n",
        "plt.show()"
      ],
      "metadata": {
        "colab": {
          "base_uri": "https://localhost:8080/",
          "height": 192
        },
        "id": "C7B4xJLJjtuO",
        "outputId": "3b955aef-710a-4f65-9e2b-0749e7165a2c"
      },
      "execution_count": 83,
      "outputs": [
        {
          "output_type": "display_data",
          "data": {
            "text/plain": [
              "<Figure size 1000x200 with 5 Axes>"
            ],
            "image/png": "[encoded data removed]"
          },
          "metadata": {}
        }
      ]
    },
    {
      "cell_type": "code",
      "source": [
        "class FeedForwardImprov(nn.Module):\n",
        "  def __init__(self):\n",
        "    super(FeedForwardImprov, self).__init__()\n",
        "    self.fc1 = nn.Linear(3072, 1024)\n",
        "    self.bn1 = nn.BatchNorm1d(1024)\n",
        "\n",
        "    self.fc2 = nn.Linear(1024, 512)\n",
        "    self.bn2 = nn.BatchNorm1d(512)\n",
        "\n",
        "    self.fc3 = nn.Linear(512, 256)\n",
        "    self.bn3 = nn.BatchNorm1d(256)\n",
        "\n",
        "    self.fc4 = nn.Linear(256, 10)\n",
        "\n",
        "    # Dropouts (only on last 2 layers)\n",
        "    self.dropout2 = nn.Dropout(0.3)\n",
        "    self.dropout3 = nn.Dropout(0.3)\n",
        "\n",
        "  def forward(self, x):\n",
        "    x = F.relu(self.bn1(self.fc1(x)))\n",
        "    x = F.relu(self.bn2(self.fc2(x)))\n",
        "    x = self.dropout2(x)\n",
        "    x = F.relu(self.bn3(self.fc3(x)))\n",
        "    x = self.dropout3(x)\n",
        "    x = self.fc4(x)  # logits\n",
        "    return x"
      ],
      "metadata": {
        "id": "az5jOKxKkz8e"
      },
      "execution_count": 65,
      "outputs": []
    },
    {
      "cell_type": "code",
      "source": [
        "model_imprv = FeedForwardImprov()"
      ],
      "metadata": {
        "id": "DSG8zPNdliqb"
      },
      "execution_count": 66,
      "outputs": []
    },
    {
      "cell_type": "code",
      "source": [
        "optimizer = torch.optim.SGD(model_imprv.parameters(), lr=0.01, momentum=0.9)"
      ],
      "metadata": {
        "id": "gAOxv4Lyl5Ez"
      },
      "execution_count": 68,
      "outputs": []
    },
    {
      "cell_type": "code",
      "source": [
        "train(model_imprv, num_epochs=10)"
      ],
      "metadata": {
        "id": "8pnE9hfXldm_"
      },
      "execution_count": null,
      "outputs": []
    },
    {
      "cell_type": "markdown",
      "source": [
        "### Improve Model + PCA"
      ],
      "metadata": {
        "id": "6WEEeTBYuAlt"
      }
    },
    {
      "cell_type": "code",
      "source": [
        "def dataset_to_numpy(dataset):\n",
        "    loader = DataLoader(dataset, batch_size=64, shuffle=False)\n",
        "    all_images = []\n",
        "    all_labels = []\n",
        "\n",
        "    for images, labels in loader:\n",
        "        # Each image is already flattened to [3072]\n",
        "        all_images.append(images.numpy())\n",
        "        all_labels.append(labels.numpy())\n",
        "\n",
        "    X = np.concatenate(all_images, axis=0)  # shape: [N, 3072]\n",
        "    y = np.concatenate(all_labels, axis=0)  # shape: [N]\n",
        "    return X, y"
      ],
      "metadata": {
        "id": "B9PXXHRfrAMg"
      },
      "execution_count": 115,
      "outputs": []
    },
    {
      "cell_type": "code",
      "source": [
        "from sklearn.decomposition import PCA\n",
        "\n",
        "# datasets to NumPy\n",
        "X_train, y_train = dataset_to_numpy(train_small)\n",
        "X_val, y_val = dataset_to_numpy(val_small)\n",
        "X_test, y_test = dataset_to_numpy(test_small)\n",
        "\n",
        "# fit PCA\n",
        "n_components = 100\n",
        "pca = PCA(n_components=n_components)\n",
        "X_train_pca = pca.fit_transform(X_train)\n",
        "X_val_pca = pca.transform(X_val)\n",
        "X_test_pca = pca.transform(X_test)"
      ],
      "metadata": {
        "colab": {
          "base_uri": "https://localhost:8080/",
          "height": 356
        },
        "collapsed": true,
        "id": "kvHTTbQWrHOJ",
        "outputId": "81cc7ea5-adff-46d7-9b2c-9578e00e65aa"
      },
      "execution_count": 119,
      "outputs": [
        {
          "output_type": "error",
          "ename": "KeyboardInterrupt",
          "evalue": "",
          "traceback": [
            "\u001b[0;31m---------------------------------------------------------------------------\u001b[0m",
            "\u001b[0;31mKeyboardInterrupt\u001b[0m                         Traceback (most recent call last)",
            "\u001b[0;32m/tmp/ipython-input-3006866271.py\u001b[0m in \u001b[0;36m<cell line: 0>\u001b[0;34m()\u001b[0m\n\u001b[1;32m      2\u001b[0m \u001b[0;34m\u001b[0m\u001b[0m\n\u001b[1;32m      3\u001b[0m \u001b[0;31m# datasets to NumPy\u001b[0m\u001b[0;34m\u001b[0m\u001b[0;34m\u001b[0m\u001b[0m\n\u001b[0;32m----> 4\u001b[0;31m \u001b[0mX_train\u001b[0m\u001b[0;34m,\u001b[0m \u001b[0my_train\u001b[0m \u001b[0;34m=\u001b[0m \u001b[0mdataset_to_numpy\u001b[0m\u001b[0;34m(\u001b[0m\u001b[0mtrain_small\u001b[0m\u001b[0;34m)\u001b[0m\u001b[0;34m\u001b[0m\u001b[0;34m\u001b[0m\u001b[0m\n\u001b[0m\u001b[1;32m      5\u001b[0m \u001b[0mX_val\u001b[0m\u001b[0;34m,\u001b[0m \u001b[0my_val\u001b[0m \u001b[0;34m=\u001b[0m \u001b[0mdataset_to_numpy\u001b[0m\u001b[0;34m(\u001b[0m\u001b[0mval_small\u001b[0m\u001b[0;34m)\u001b[0m\u001b[0;34m\u001b[0m\u001b[0;34m\u001b[0m\u001b[0m\n\u001b[1;32m      6\u001b[0m \u001b[0mX_test\u001b[0m\u001b[0;34m,\u001b[0m \u001b[0my_test\u001b[0m \u001b[0;34m=\u001b[0m \u001b[0mdataset_to_numpy\u001b[0m\u001b[0;34m(\u001b[0m\u001b[0mtest_small\u001b[0m\u001b[0;34m)\u001b[0m\u001b[0;34m\u001b[0m\u001b[0;34m\u001b[0m\u001b[0m\n",
            "\u001b[0;32m/tmp/ipython-input-3332311805.py\u001b[0m in \u001b[0;36mdataset_to_numpy\u001b[0;34m(dataset)\u001b[0m\n\u001b[1;32m      4\u001b[0m     \u001b[0mall_labels\u001b[0m \u001b[0;34m=\u001b[0m \u001b[0;34m[\u001b[0m\u001b[0;34m]\u001b[0m\u001b[0;34m\u001b[0m\u001b[0;34m\u001b[0m\u001b[0m\n\u001b[1;32m      5\u001b[0m \u001b[0;34m\u001b[0m\u001b[0m\n\u001b[0;32m----> 6\u001b[0;31m     \u001b[0;32mfor\u001b[0m \u001b[0mimages\u001b[0m\u001b[0;34m,\u001b[0m \u001b[0mlabels\u001b[0m \u001b[0;32min\u001b[0m \u001b[0mloader\u001b[0m\u001b[0;34m:\u001b[0m\u001b[0;34m\u001b[0m\u001b[0;34m\u001b[0m\u001b[0m\n\u001b[0m\u001b[1;32m      7\u001b[0m         \u001b[0;31m# Each image is already flattened to [3072]\u001b[0m\u001b[0;34m\u001b[0m\u001b[0;34m\u001b[0m\u001b[0m\n\u001b[1;32m      8\u001b[0m         \u001b[0mall_images\u001b[0m\u001b[0;34m.\u001b[0m\u001b[0mappend\u001b[0m\u001b[0;34m(\u001b[0m\u001b[0mimages\u001b[0m\u001b[0;34m.\u001b[0m\u001b[0mnumpy\u001b[0m\u001b[0;34m(\u001b[0m\u001b[0;34m)\u001b[0m\u001b[0;34m)\u001b[0m\u001b[0;34m\u001b[0m\u001b[0;34m\u001b[0m\u001b[0m\n",
            "\u001b[0;32m/usr/local/lib/python3.12/dist-packages/torch/utils/data/dataloader.py\u001b[0m in \u001b[0;36m__next__\u001b[0;34m(self)\u001b[0m\n\u001b[1;32m    732\u001b[0m                 \u001b[0;31m# TODO(https://github.com/pytorch/pytorch/issues/76750)\u001b[0m\u001b[0;34m\u001b[0m\u001b[0;34m\u001b[0m\u001b[0m\n\u001b[1;32m    733\u001b[0m                 \u001b[0mself\u001b[0m\u001b[0;34m.\u001b[0m\u001b[0m_reset\u001b[0m\u001b[0;34m(\u001b[0m\u001b[0;34m)\u001b[0m  \u001b[0;31m# type: ignore[call-arg]\u001b[0m\u001b[0;34m\u001b[0m\u001b[0;34m\u001b[0m\u001b[0m\n\u001b[0;32m--> 734\u001b[0;31m             \u001b[0mdata\u001b[0m \u001b[0;34m=\u001b[0m \u001b[0mself\u001b[0m\u001b[0;34m.\u001b[0m\u001b[0m_next_data\u001b[0m\u001b[0;34m(\u001b[0m\u001b[0;34m)\u001b[0m\u001b[0;34m\u001b[0m\u001b[0;34m\u001b[0m\u001b[0m\n\u001b[0m\u001b[1;32m    735\u001b[0m             \u001b[0mself\u001b[0m\u001b[0;34m.\u001b[0m\u001b[0m_num_yielded\u001b[0m \u001b[0;34m+=\u001b[0m \u001b[0;36m1\u001b[0m\u001b[0;34m\u001b[0m\u001b[0;34m\u001b[0m\u001b[0m\n\u001b[1;32m    736\u001b[0m             if (\n",
            "\u001b[0;32m/usr/local/lib/python3.12/dist-packages/torch/utils/data/dataloader.py\u001b[0m in \u001b[0;36m_next_data\u001b[0;34m(self)\u001b[0m\n\u001b[1;32m    788\u001b[0m     \u001b[0;32mdef\u001b[0m \u001b[0m_next_data\u001b[0m\u001b[0;34m(\u001b[0m\u001b[0mself\u001b[0m\u001b[0;34m)\u001b[0m\u001b[0;34m:\u001b[0m\u001b[0;34m\u001b[0m\u001b[0;34m\u001b[0m\u001b[0m\n\u001b[1;32m    789\u001b[0m         \u001b[0mindex\u001b[0m \u001b[0;34m=\u001b[0m \u001b[0mself\u001b[0m\u001b[0;34m.\u001b[0m\u001b[0m_next_index\u001b[0m\u001b[0;34m(\u001b[0m\u001b[0;34m)\u001b[0m  \u001b[0;31m# may raise StopIteration\u001b[0m\u001b[0;34m\u001b[0m\u001b[0;34m\u001b[0m\u001b[0m\n\u001b[0;32m--> 790\u001b[0;31m         \u001b[0mdata\u001b[0m \u001b[0;34m=\u001b[0m \u001b[0mself\u001b[0m\u001b[0;34m.\u001b[0m\u001b[0m_dataset_fetcher\u001b[0m\u001b[0;34m.\u001b[0m\u001b[0mfetch\u001b[0m\u001b[0;34m(\u001b[0m\u001b[0mindex\u001b[0m\u001b[0;34m)\u001b[0m  \u001b[0;31m# may raise StopIteration\u001b[0m\u001b[0;34m\u001b[0m\u001b[0;34m\u001b[0m\u001b[0m\n\u001b[0m\u001b[1;32m    791\u001b[0m         \u001b[0;32mif\u001b[0m \u001b[0mself\u001b[0m\u001b[0;34m.\u001b[0m\u001b[0m_pin_memory\u001b[0m\u001b[0;34m:\u001b[0m\u001b[0;34m\u001b[0m\u001b[0;34m\u001b[0m\u001b[0m\n\u001b[1;32m    792\u001b[0m             \u001b[0mdata\u001b[0m \u001b[0;34m=\u001b[0m \u001b[0m_utils\u001b[0m\u001b[0;34m.\u001b[0m\u001b[0mpin_memory\u001b[0m\u001b[0;34m.\u001b[0m\u001b[0mpin_memory\u001b[0m\u001b[0;34m(\u001b[0m\u001b[0mdata\u001b[0m\u001b[0;34m,\u001b[0m \u001b[0mself\u001b[0m\u001b[0;34m.\u001b[0m\u001b[0m_pin_memory_device\u001b[0m\u001b[0;34m)\u001b[0m\u001b[0;34m\u001b[0m\u001b[0;34m\u001b[0m\u001b[0m\n",
            "\u001b[0;32m/usr/local/lib/python3.12/dist-packages/torch/utils/data/_utils/fetch.py\u001b[0m in \u001b[0;36mfetch\u001b[0;34m(self, possibly_batched_index)\u001b[0m\n\u001b[1;32m     48\u001b[0m         \u001b[0;32mif\u001b[0m \u001b[0mself\u001b[0m\u001b[0;34m.\u001b[0m\u001b[0mauto_collation\u001b[0m\u001b[0;34m:\u001b[0m\u001b[0;34m\u001b[0m\u001b[0;34m\u001b[0m\u001b[0m\n\u001b[1;32m     49\u001b[0m             \u001b[0;32mif\u001b[0m \u001b[0mhasattr\u001b[0m\u001b[0;34m(\u001b[0m\u001b[0mself\u001b[0m\u001b[0;34m.\u001b[0m\u001b[0mdataset\u001b[0m\u001b[0;34m,\u001b[0m \u001b[0;34m\"__getitems__\"\u001b[0m\u001b[0;34m)\u001b[0m \u001b[0;32mand\u001b[0m \u001b[0mself\u001b[0m\u001b[0;34m.\u001b[0m\u001b[0mdataset\u001b[0m\u001b[0;34m.\u001b[0m\u001b[0m__getitems__\u001b[0m\u001b[0;34m:\u001b[0m\u001b[0;34m\u001b[0m\u001b[0;34m\u001b[0m\u001b[0m\n\u001b[0;32m---> 50\u001b[0;31m                 \u001b[0mdata\u001b[0m \u001b[0;34m=\u001b[0m \u001b[0mself\u001b[0m\u001b[0;34m.\u001b[0m\u001b[0mdataset\u001b[0m\u001b[0;34m.\u001b[0m\u001b[0m__getitems__\u001b[0m\u001b[0;34m(\u001b[0m\u001b[0mpossibly_batched_index\u001b[0m\u001b[0;34m)\u001b[0m\u001b[0;34m\u001b[0m\u001b[0;34m\u001b[0m\u001b[0m\n\u001b[0m\u001b[1;32m     51\u001b[0m             \u001b[0;32melse\u001b[0m\u001b[0;34m:\u001b[0m\u001b[0;34m\u001b[0m\u001b[0;34m\u001b[0m\u001b[0m\n\u001b[1;32m     52\u001b[0m                 \u001b[0mdata\u001b[0m \u001b[0;34m=\u001b[0m \u001b[0;34m[\u001b[0m\u001b[0mself\u001b[0m\u001b[0;34m.\u001b[0m\u001b[0mdataset\u001b[0m\u001b[0;34m[\u001b[0m\u001b[0midx\u001b[0m\u001b[0;34m]\u001b[0m \u001b[0;32mfor\u001b[0m \u001b[0midx\u001b[0m \u001b[0;32min\u001b[0m \u001b[0mpossibly_batched_index\u001b[0m\u001b[0;34m]\u001b[0m\u001b[0;34m\u001b[0m\u001b[0;34m\u001b[0m\u001b[0m\n",
            "\u001b[0;32m/usr/local/lib/python3.12/dist-packages/torch/utils/data/dataset.py\u001b[0m in \u001b[0;36m__getitems__\u001b[0;34m(self, indices)\u001b[0m\n\u001b[1;32m    414\u001b[0m             \u001b[0;32mreturn\u001b[0m \u001b[0mself\u001b[0m\u001b[0;34m.\u001b[0m\u001b[0mdataset\u001b[0m\u001b[0;34m.\u001b[0m\u001b[0m__getitems__\u001b[0m\u001b[0;34m(\u001b[0m\u001b[0;34m[\u001b[0m\u001b[0mself\u001b[0m\u001b[0;34m.\u001b[0m\u001b[0mindices\u001b[0m\u001b[0;34m[\u001b[0m\u001b[0midx\u001b[0m\u001b[0;34m]\u001b[0m \u001b[0;32mfor\u001b[0m \u001b[0midx\u001b[0m \u001b[0;32min\u001b[0m \u001b[0mindices\u001b[0m\u001b[0;34m]\u001b[0m\u001b[0;34m)\u001b[0m  \u001b[0;31m# type: ignore[attr-defined]\u001b[0m\u001b[0;34m\u001b[0m\u001b[0;34m\u001b[0m\u001b[0m\n\u001b[1;32m    415\u001b[0m         \u001b[0;32melse\u001b[0m\u001b[0;34m:\u001b[0m\u001b[0;34m\u001b[0m\u001b[0;34m\u001b[0m\u001b[0m\n\u001b[0;32m--> 416\u001b[0;31m             \u001b[0;32mreturn\u001b[0m \u001b[0;34m[\u001b[0m\u001b[0mself\u001b[0m\u001b[0;34m.\u001b[0m\u001b[0mdataset\u001b[0m\u001b[0;34m[\u001b[0m\u001b[0mself\u001b[0m\u001b[0;34m.\u001b[0m\u001b[0mindices\u001b[0m\u001b[0;34m[\u001b[0m\u001b[0midx\u001b[0m\u001b[0;34m]\u001b[0m\u001b[0;34m]\u001b[0m \u001b[0;32mfor\u001b[0m \u001b[0midx\u001b[0m \u001b[0;32min\u001b[0m \u001b[0mindices\u001b[0m\u001b[0;34m]\u001b[0m\u001b[0;34m\u001b[0m\u001b[0;34m\u001b[0m\u001b[0m\n\u001b[0m\u001b[1;32m    417\u001b[0m \u001b[0;34m\u001b[0m\u001b[0m\n\u001b[1;32m    418\u001b[0m     \u001b[0;32mdef\u001b[0m \u001b[0m__len__\u001b[0m\u001b[0;34m(\u001b[0m\u001b[0mself\u001b[0m\u001b[0;34m)\u001b[0m\u001b[0;34m:\u001b[0m\u001b[0;34m\u001b[0m\u001b[0;34m\u001b[0m\u001b[0m\n",
            "\u001b[0;32m/usr/local/lib/python3.12/dist-packages/torchvision/datasets/folder.py\u001b[0m in \u001b[0;36m__getitem__\u001b[0;34m(self, index)\u001b[0m\n\u001b[1;32m    243\u001b[0m         \"\"\"\n\u001b[1;32m    244\u001b[0m         \u001b[0mpath\u001b[0m\u001b[0;34m,\u001b[0m \u001b[0mtarget\u001b[0m \u001b[0;34m=\u001b[0m \u001b[0mself\u001b[0m\u001b[0;34m.\u001b[0m\u001b[0msamples\u001b[0m\u001b[0;34m[\u001b[0m\u001b[0mindex\u001b[0m\u001b[0;34m]\u001b[0m\u001b[0;34m\u001b[0m\u001b[0;34m\u001b[0m\u001b[0m\n\u001b[0;32m--> 245\u001b[0;31m         \u001b[0msample\u001b[0m \u001b[0;34m=\u001b[0m \u001b[0mself\u001b[0m\u001b[0;34m.\u001b[0m\u001b[0mloader\u001b[0m\u001b[0;34m(\u001b[0m\u001b[0mpath\u001b[0m\u001b[0;34m)\u001b[0m\u001b[0;34m\u001b[0m\u001b[0;34m\u001b[0m\u001b[0m\n\u001b[0m\u001b[1;32m    246\u001b[0m         \u001b[0;32mif\u001b[0m \u001b[0mself\u001b[0m\u001b[0;34m.\u001b[0m\u001b[0mtransform\u001b[0m \u001b[0;32mis\u001b[0m \u001b[0;32mnot\u001b[0m \u001b[0;32mNone\u001b[0m\u001b[0;34m:\u001b[0m\u001b[0;34m\u001b[0m\u001b[0;34m\u001b[0m\u001b[0m\n\u001b[1;32m    247\u001b[0m             \u001b[0msample\u001b[0m \u001b[0;34m=\u001b[0m \u001b[0mself\u001b[0m\u001b[0;34m.\u001b[0m\u001b[0mtransform\u001b[0m\u001b[0;34m(\u001b[0m\u001b[0msample\u001b[0m\u001b[0;34m)\u001b[0m\u001b[0;34m\u001b[0m\u001b[0;34m\u001b[0m\u001b[0m\n",
            "\u001b[0;32m/usr/local/lib/python3.12/dist-packages/torchvision/datasets/folder.py\u001b[0m in \u001b[0;36mdefault_loader\u001b[0;34m(path)\u001b[0m\n\u001b[1;32m    282\u001b[0m         \u001b[0;32mreturn\u001b[0m \u001b[0maccimage_loader\u001b[0m\u001b[0;34m(\u001b[0m\u001b[0mpath\u001b[0m\u001b[0;34m)\u001b[0m\u001b[0;34m\u001b[0m\u001b[0;34m\u001b[0m\u001b[0m\n\u001b[1;32m    283\u001b[0m     \u001b[0;32melse\u001b[0m\u001b[0;34m:\u001b[0m\u001b[0;34m\u001b[0m\u001b[0;34m\u001b[0m\u001b[0m\n\u001b[0;32m--> 284\u001b[0;31m         \u001b[0;32mreturn\u001b[0m \u001b[0mpil_loader\u001b[0m\u001b[0;34m(\u001b[0m\u001b[0mpath\u001b[0m\u001b[0;34m)\u001b[0m\u001b[0;34m\u001b[0m\u001b[0;34m\u001b[0m\u001b[0m\n\u001b[0m\u001b[1;32m    285\u001b[0m \u001b[0;34m\u001b[0m\u001b[0m\n\u001b[1;32m    286\u001b[0m \u001b[0;34m\u001b[0m\u001b[0m\n",
            "\u001b[0;32m/usr/local/lib/python3.12/dist-packages/torchvision/datasets/folder.py\u001b[0m in \u001b[0;36mpil_loader\u001b[0;34m(path)\u001b[0m\n\u001b[1;32m    261\u001b[0m     \u001b[0;31m# open path as file to avoid ResourceWarning (https://github.com/python-pillow/Pillow/issues/835)\u001b[0m\u001b[0;34m\u001b[0m\u001b[0;34m\u001b[0m\u001b[0m\n\u001b[1;32m    262\u001b[0m     \u001b[0;32mwith\u001b[0m \u001b[0mopen\u001b[0m\u001b[0;34m(\u001b[0m\u001b[0mpath\u001b[0m\u001b[0;34m,\u001b[0m \u001b[0;34m\"rb\"\u001b[0m\u001b[0;34m)\u001b[0m \u001b[0;32mas\u001b[0m \u001b[0mf\u001b[0m\u001b[0;34m:\u001b[0m\u001b[0;34m\u001b[0m\u001b[0;34m\u001b[0m\u001b[0m\n\u001b[0;32m--> 263\u001b[0;31m         \u001b[0mimg\u001b[0m \u001b[0;34m=\u001b[0m \u001b[0mImage\u001b[0m\u001b[0;34m.\u001b[0m\u001b[0mopen\u001b[0m\u001b[0;34m(\u001b[0m\u001b[0mf\u001b[0m\u001b[0;34m)\u001b[0m\u001b[0;34m\u001b[0m\u001b[0;34m\u001b[0m\u001b[0m\n\u001b[0m\u001b[1;32m    264\u001b[0m         \u001b[0;32mreturn\u001b[0m \u001b[0mimg\u001b[0m\u001b[0;34m.\u001b[0m\u001b[0mconvert\u001b[0m\u001b[0;34m(\u001b[0m\u001b[0;34m\"RGB\"\u001b[0m\u001b[0;34m)\u001b[0m\u001b[0;34m\u001b[0m\u001b[0;34m\u001b[0m\u001b[0m\n\u001b[1;32m    265\u001b[0m \u001b[0;34m\u001b[0m\u001b[0m\n",
            "\u001b[0;32m/usr/local/lib/python3.12/dist-packages/PIL/Image.py\u001b[0m in \u001b[0;36mopen\u001b[0;34m(fp, mode, formats)\u001b[0m\n\u001b[1;32m   3522\u001b[0m         \u001b[0mexclusive_fp\u001b[0m \u001b[0;34m=\u001b[0m \u001b[0;32mTrue\u001b[0m\u001b[0;34m\u001b[0m\u001b[0;34m\u001b[0m\u001b[0m\n\u001b[1;32m   3523\u001b[0m \u001b[0;34m\u001b[0m\u001b[0m\n\u001b[0;32m-> 3524\u001b[0;31m     \u001b[0mprefix\u001b[0m \u001b[0;34m=\u001b[0m \u001b[0mfp\u001b[0m\u001b[0;34m.\u001b[0m\u001b[0mread\u001b[0m\u001b[0;34m(\u001b[0m\u001b[0;36m16\u001b[0m\u001b[0;34m)\u001b[0m\u001b[0;34m\u001b[0m\u001b[0;34m\u001b[0m\u001b[0m\n\u001b[0m\u001b[1;32m   3525\u001b[0m \u001b[0;34m\u001b[0m\u001b[0m\n\u001b[1;32m   3526\u001b[0m     \u001b[0mpreinit\u001b[0m\u001b[0;34m(\u001b[0m\u001b[0;34m)\u001b[0m\u001b[0;34m\u001b[0m\u001b[0;34m\u001b[0m\u001b[0m\n",
            "\u001b[0;31mKeyboardInterrupt\u001b[0m: "
          ]
        }
      ]
    },
    {
      "cell_type": "code",
      "source": [
        "# Convert to tensors\n",
        "train_dataset_pca = TensorDataset(torch.tensor(X_train_pca, dtype=torch.float32),\n",
        "                                  torch.tensor(y_train, dtype=torch.long))\n",
        "val_dataset_pca = TensorDataset(torch.tensor(X_val_pca, dtype=torch.float32),\n",
        "                                torch.tensor(y_val, dtype=torch.long))\n",
        "test_dataset_pca = TensorDataset(torch.tensor(X_test_pca, dtype=torch.float32),\n",
        "                                 torch.tensor(y_test, dtype=torch.long))\n",
        "\n",
        "# Optional: Create loaders\n",
        "train_loader = DataLoader(train_dataset_pca, batch_size=64, shuffle=True)\n",
        "val_loader = DataLoader(val_dataset_pca, batch_size=64)\n",
        "test_loader = DataLoader(test_dataset_pca, batch_size=64)\n"
      ],
      "metadata": {
        "id": "cWFD8m3crODp"
      },
      "execution_count": 108,
      "outputs": []
    },
    {
      "cell_type": "code",
      "source": [
        "# Reshape first PCA component back to image\n",
        "component_image = pca.components_[0].reshape(3, 32, 32)\n",
        "\n",
        "# Convert to HWC and normalize to [0,1] for visualization\n",
        "comp_img_np = component_image.transpose(1, 2, 0)\n",
        "comp_img_np = (comp_img_np - comp_img_np.min()) / (comp_img_np.max() - comp_img_np.min())\n",
        "\n",
        "plt.imshow(comp_img_np)\n",
        "plt.title(\"PCA Component 1 as Image\")\n",
        "plt.axis('off')\n",
        "plt.show()\n"
      ],
      "metadata": {
        "id": "ivo6S-oEths5"
      },
      "execution_count": null,
      "outputs": []
    },
    {
      "cell_type": "code",
      "source": [
        "class FeedForwardPCA(nn.Module):\n",
        "  def __init__(self):\n",
        "    super(FeedForwardPCA, self).__init__()\n",
        ""
      ],
      "metadata": {
        "id": "CP0zuwjzy08M"
      },
      "execution_count": null,
      "outputs": []
    },
    {
      "cell_type": "markdown",
      "source": [
        "# Save Model"
      ],
      "metadata": {
        "id": "hi4OglYQZ4iQ"
      }
    },
    {
      "cell_type": "code",
      "source": [
        "torch.save(imprv_model.state_dict(), \"feedforward_improv.pth\")"
      ],
      "metadata": {
        "id": "_-5Zn3scZ3_Z"
      },
      "execution_count": 84,
      "outputs": []
    },
    {
      "cell_type": "markdown",
      "source": [
        "# CNN"
      ],
      "metadata": {
        "id": "YQtDogJyvBhJ"
      }
    },
    {
      "cell_type": "code",
      "source": [
        "transform = transforms.Compose([\n",
        "    transforms.Resize((32, 32)),             # Ensure image size\n",
        "    transforms.ToTensor(),                   # Convert to [C, H, W]\n",
        "    transforms.Normalize(\n",
        "        mean=[0.4789, 0.4723, 0.4305],        # Normalize RGB channels\n",
        "        std=[0.2421, 0.2383, 0.2587]\n",
        "    )\n",
        "])\n"
      ],
      "metadata": {
        "id": "HleHsjj1vCoa"
      },
      "execution_count": 183,
      "outputs": []
    },
    {
      "cell_type": "code",
      "source": [
        "train_data = ImageFolder(\"/content/drive/MyDrive/KaggleData/CINIC10/train\", transform=transform)\n",
        "train_small = balanced_subset(train_data, 0.15)\n",
        "\n",
        "train_loader = DataLoader(train_small, batch_size=64, shuffle=True)"
      ],
      "metadata": {
        "id": "nFJ4OeEs-oDb"
      },
      "execution_count": 184,
      "outputs": []
    },
    {
      "cell_type": "code",
      "source": [
        "class SimpleCNN(nn.Module):\n",
        "  def __init__(self, output_dim=300):\n",
        "    super(SimpleCNN, self).__init__()\n",
        "    self.conv1 = nn.Conv2d(3, 32, kernel_size=3, padding=1)  # (B, 32, 32, 32)\n",
        "    self.pool1 = nn.MaxPool2d(2, 2)                          # (B, 32, 16, 16)\n",
        "\n",
        "    self.conv2 = nn.Conv2d(32, 64, kernel_size=3, padding=1) # (B, 64, 16, 16)\n",
        "    self.pool2 = nn.MaxPool2d(2, 2)                           # (B, 64, 8, 8)\n",
        "\n",
        "    self.conv3 = nn.Conv2d(64, 128, kernel_size=3, padding=1) # (B, 128, 8, 8)\n",
        "    self.pool3 = nn.MaxPool2d(2, 2)                           # (B, 128, 4, 4)\n",
        "\n",
        "    self.flatten = nn.Flatten()\n",
        "    self.fc = nn.Linear(128 * 4 * 4, output_dim)  # Final feature vector\n",
        "\n",
        "  def forward(self, x):\n",
        "    x = F.relu(self.conv1(x))\n",
        "    x = self.pool1(x)\n",
        "    x = F.relu(self.conv2(x))\n",
        "    x = self.pool2(x)\n",
        "    x = F.relu(self.conv3(x))\n",
        "    x = self.pool3(x)\n",
        "    x = self.flatten(x)\n",
        "    x = self.fc(x)\n",
        "    return x  # Feature vector\n"
      ],
      "metadata": {
        "id": "GpNn29zk3xgL"
      },
      "execution_count": 185,
      "outputs": []
    },
    {
      "cell_type": "code",
      "source": [
        "class FeedForwardImprov(nn.Module):\n",
        "    def __init__(self, input_dim=3072):\n",
        "        super().__init__()\n",
        "        self.fc1 = nn.Linear(input_dim, 1024)\n",
        "        self.bn1 = nn.BatchNorm1d(1024)\n",
        "\n",
        "        self.fc2 = nn.Linear(1024, 512)\n",
        "        self.bn2 = nn.BatchNorm1d(512)\n",
        "\n",
        "        self.fc3 = nn.Linear(512, 256)\n",
        "        self.bn3 = nn.BatchNorm1d(256)\n",
        "\n",
        "        self.fc4 = nn.Linear(256, 10)\n",
        "\n",
        "        self.dropout2 = nn.Dropout(0.3)\n",
        "        self.dropout3 = nn.Dropout(0.3)\n",
        "\n",
        "    def forward_net(self, x):\n",
        "        x = F.relu(self.bn1(self.fc1(x)))\n",
        "        x = F.relu(self.bn2(self.fc2(x)))\n",
        "        x = self.dropout2(x)\n",
        "        x = F.relu(self.bn3(self.fc3(x)))\n",
        "        x = self.dropout3(x)\n",
        "        x = self.fc4(x)\n",
        "        return x\n"
      ],
      "metadata": {
        "id": "GiLVWN4g4Qei"
      },
      "execution_count": 199,
      "outputs": []
    },
    {
      "cell_type": "code",
      "source": [
        "# Load the saved model\n",
        "checkpoint = torch.load('feedforward.pth')\n",
        "feedforward_model = FeedForwardImprov(input_dim=300)\n",
        "\n",
        "# Remove fc1 weights from checkpoint\n",
        "del checkpoint['fc1.weight']\n",
        "del checkpoint['fc1.bias']\n",
        "\n",
        "feedforward_model.load_state_dict(checkpoint, strict=False)"
      ],
      "metadata": {
        "colab": {
          "base_uri": "https://localhost:8080/"
        },
        "id": "ZgGO3A1Z6C3O",
        "outputId": "9888f191-df9a-419a-8294-4610e1fbe294"
      },
      "execution_count": 201,
      "outputs": [
        {
          "output_type": "execute_result",
          "data": {
            "text/plain": [
              "_IncompatibleKeys(missing_keys=['fc1.weight', 'fc1.bias'], unexpected_keys=[])"
            ]
          },
          "metadata": {},
          "execution_count": 201
        }
      ]
    },
    {
      "cell_type": "code",
      "source": [
        "class StackedCNN_FF(nn.Module):\n",
        "    def __init__(self, cnn, ff_model):\n",
        "        super(StackedCNN_FF, self).__init__()\n",
        "        self.cnn = cnn\n",
        "        self.ff = ff_model\n",
        "\n",
        "    def forward(self, x):\n",
        "        features = self.cnn(x)     # [B, 300]\n",
        "        logits = self.ff.forward_net(features)  # [B, 10]\n",
        "        return logits\n"
      ],
      "metadata": {
        "id": "xwfRSDbN6cIB"
      },
      "execution_count": 202,
      "outputs": []
    },
    {
      "cell_type": "code",
      "source": [
        "cnn_model = SimpleCNN(output_dim=300)"
      ],
      "metadata": {
        "id": "61WijI4I8qXe"
      },
      "execution_count": 203,
      "outputs": []
    },
    {
      "cell_type": "code",
      "source": [
        "stacked_model = StackedCNN_FF(cnn_model, feedforward_model)"
      ],
      "metadata": {
        "id": "2nD0ZbAl8wKB"
      },
      "execution_count": 204,
      "outputs": []
    },
    {
      "cell_type": "code",
      "source": [
        "for param in feedforward_model.parameters():\n",
        "    param.requires_grad = False"
      ],
      "metadata": {
        "id": "JKwmsERP8yxO"
      },
      "execution_count": 205,
      "outputs": []
    },
    {
      "cell_type": "code",
      "source": [
        "optimizer = torch.optim.SGD(stacked_model.parameters(), lr=0.01)"
      ],
      "metadata": {
        "id": "_7ohfYSJ84Gj"
      },
      "execution_count": 206,
      "outputs": []
    },
    {
      "cell_type": "code",
      "source": [
        "device = torch.device(\"cuda\" if torch.cuda.is_available() else \"cpu\")"
      ],
      "metadata": {
        "id": "I1hHyTNg9YYG"
      },
      "execution_count": 207,
      "outputs": []
    },
    {
      "cell_type": "code",
      "source": [
        "train_losses = []\n",
        "val_accuracies = []\n",
        "\n",
        "num_epochs = 10\n",
        "\n",
        "stacked_model.train()  # just to be sure\n",
        "\n",
        "for epoch in range(num_epochs):\n",
        "    stacked_model.train()\n",
        "    running_loss = 0.0\n",
        "\n",
        "    for i, (images, labels) in enumerate(train_loader, 1):\n",
        "        images, labels = images.to(device), labels.to(device)\n",
        "\n",
        "        # Forward pass\n",
        "        outputs = stacked_model(images)  # <-- don't use forward_net, just call model directly\n",
        "        loss = criterion(outputs, labels)\n",
        "\n",
        "        # Backward and optimize\n",
        "        optimizer.zero_grad()\n",
        "        loss.backward()\n",
        "        optimizer.step()\n",
        "\n",
        "        running_loss += loss.item()\n",
        "\n",
        "        # Print every 10 batches\n",
        "        if i % 10 == 0:\n",
        "            avg_loss = running_loss / 10\n",
        "            print(f\"Epoch [{epoch+1}/{num_epochs}], Batch [{i}/{len(train_loader)}], Loss: {avg_loss:.4f}\")\n",
        "            train_losses.append(avg_loss)\n",
        "            running_loss = 0.0\n",
        "\n",
        "    # Validation after each epoch\n",
        "    stacked_model.eval()\n",
        "    correct = 0\n",
        "    total = 0\n",
        "\n",
        "    with torch.no_grad():\n",
        "        for images, labels in val_loader:\n",
        "            images, labels = images.to(device), labels.to(device)\n",
        "            outputs = stacked_model(images)  # <-- again, just call model directly\n",
        "            _, predicted = torch.max(outputs.data, 1)\n",
        "            total += labels.size(0)\n",
        "            correct += (predicted == labels).sum().item()\n",
        "\n",
        "    val_acc = 100 * correct / total\n",
        "    val_accuracies.append(val_acc)\n",
        "\n",
        "    print(f\"Epoch {epoch+1}, Final Batch Loss: {loss.item():.4f}, Val Acc: {val_acc:.2f}%\")\n",
        "\n",
        "print(\"Training complete!\")\n"
      ],
      "metadata": {
        "id": "Kr86s1kK8-hi"
      },
      "execution_count": null,
      "outputs": []
    },
    {
      "cell_type": "code",
      "source": [
        "for images, labels in train_loader:\n",
        "    print(images.shape)  # Should be (batch_size, 3, 32, 32)\n",
        "    break\n"
      ],
      "metadata": {
        "colab": {
          "base_uri": "https://localhost:8080/"
        },
        "id": "Z4PDOKykQ5Io",
        "outputId": "18ead9c5-5dae-40e7-974d-a355b554983f"
      },
      "execution_count": 209,
      "outputs": [
        {
          "output_type": "stream",
          "name": "stdout",
          "text": [
            "torch.Size([64, 3, 32, 32])\n"
          ]
        }
      ]
    },
    {
      "cell_type": "code",
      "source": [],
      "metadata": {
        "id": "Gb8rILOx9B9P"
      },
      "execution_count": null,
      "outputs": []
    }
  ]
}